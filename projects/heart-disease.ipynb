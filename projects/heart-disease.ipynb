{
 "cells": [
  {
   "cell_type": "markdown",
   "metadata": {},
   "source": [
    "# Predicting heart disease using ML\n",
    "\n",
    "This notebook looks into using various Python-based machine learning and data science libraries in an attempt to build a machine model capable of predicting whether or not someone has heart disease based on their medical attributes\n",
    "\n",
    "## What is classification?\n",
    "\n",
    "Classification involves deciding whether a sample is part of one class or another (single-class classification). If there are multiple class options, it's referred to as **multi-class classification**.\n",
    "\n",
    "## What we'll end up with¶\n",
    "Since we already have a dataset, we'll approach the problem with the following machine learning modelling framework.\n",
    "\n",
    "| <img src=\"../images/ml101-6-step-ml-framework.png\" width=500/> |\n",
    "|:--:|\n",
    "| 6 Step Machine Learning Modelling Framework ([read more](https://whimsical.com/9g65jgoRYTxMXxDosndYTB)) |\n",
    "\n",
    "More specifically, we'll look at the following topics.\n",
    "* **Exploratory data analysis (EDA)** - the process of going through a dataset and finding out more about it.\n",
    "* **Model training** - create model(s) to learn to predict a target variable based on other variables.\n",
    "* **Model evaluation** - evaluating a models predictions using problem-specific evaluation metrics. \n",
    "* **Model comparison** - comparing several different models to find the best one.\n",
    "* **Model fine-tuning** - once we've found a good model, how can we improve it?\n",
    "* **Feature importance** - since we're predicting the presence of heart disease, are there some things which are more important for prediction?\n",
    "* **Cross-validation** - if we do build a good model, can we be sure it will work on unseen data?\n",
    "* **Reporting what we've found** - if we had to present our work, what would we show someone?\n",
    "\n",
    "To work through these topics, we'll use pandas, Matplotlib and NumPy for data anaylsis, as well as, Scikit-Learn \n",
    "for machine learning and modelling tasks\n",
    "\n",
    "| <img src=\"../images/supervised-projects-6-step-ml-framework-tools-highlight.png\" width=500/>|\n",
    "|:--:|\n",
    "|Tools which can be used for each step of the machine learning modelling process.|\n",
    "\n",
    "**We're going to take the following approach:**\n",
    "1. Problem definition\n",
    "2. Data\n",
    "3. Evaluation\n",
    "4. Features\n",
    "5. Modelling\n",
    "6. Experimentation\n",
    "\n",
    "## 1. Problem definition\n",
    "In our case, the problem we will be exploring is **binary classification** (a sample can only be one of two things).\\\n",
    "This is because we're going to be using a number of differnet **features** (pieces of information) about a person to predict whether they have heart disease or not.\n",
    "\n",
    "\n",
    "In a statement, \n",
    "> Given clinical parameters about patients, can we predict whether or not they has heart disease?\n",
    "\n",
    "## 2. Data\n",
    "\n",
    "\n",
    "What you'll want to do here is dive into the data your problem definition is based on. This may involve, sourcing, defining different parameters, talking to experts about it and finding out what you should expect.\n",
    "\n",
    "The original data came from the [Cleveland database](https://archive.ics.uci.edu/ml/datasets/heart+Disease) from UCI Machine Learning Repository.\n",
    "\n",
    "Howevever, we've downloaded it in a formatted way from [Kaggle](https://www.kaggle.com/ronitf/heart-disease-uci/).\n",
    "\n",
    "The original database contains 76 attributes, but here only 14 attributes will be used. **Attributes** (also called **features**) are the variables what we'll use to predict our **target variable**.\n",
    "\n",
    "Attributes and features are also referred to as **independent variables** and a target variable can be referred to as a **dependent variable**.\n",
    "\n",
    "> We use the independent variables to predict our dependent variable.\n",
    "\n",
    "Or in our case, the independent variables are a patients different medical attributes and the dependent variable is whether or not they have heart disease.\n",
    "\n",
    "\n",
    "## 3. Evaluation\n",
    "\n",
    "The evaluation metric is something you might define at the start of a project.\n",
    "\n",
    "Since machine learning is very experimental, you might say something like, \n",
    "\n",
    "> If we can reach 95% accuracy at predicting whether or not a patient has heart disease during the proof of concept, we'll pursure this project.\n",
    "\n",
    "The reason this is helpful is it provides a rough goal for a machine learning engineer or data scientist to work towards.\n",
    "\n",
    "However, due to the nature of experimentation, the evaluation metric may change over time.\n",
    "\n",
    "## 4. Features \n",
    "\n",
    "TFeatures are different parts of the data. During this step, you'll want to start finding out what you can about the data.\n",
    "\n",
    "One of the most common ways to do this, is to create a **data dictionary**.\n",
    "\n",
    "### Heart Disease Data Dictionary\n",
    "\n",
    "A data dictionary describes the data you're dealing with. Not all datasets come with them so this is where you may have to do your research or ask a **subject matter expert** (someone who knows about the data) for more.\n",
    "\n",
    "The following are the features we'll use to predict our target variable (heart disease or no heart disease).\n",
    "\n",
    "1. age - age in years \n",
    "2. sex - (1 = male; 0 = female) \n",
    "3. cp - chest pain type \n",
    "    * 0: Typical angina: chest pain related decrease blood supply to the heart\n",
    "    * 1: Atypical angina: chest pain not related to heart\n",
    "    * 2: Non-anginal pain: typically esophageal spasms (non heart related)\n",
    "    * 3: Asymptomatic: chest pain not showing signs of disease\n",
    "4. trestbps - resting blood pressure (in mm Hg on admission to the hospital)\n",
    "    * anything above 130-140 is typically cause for concern\n",
    "5. chol - serum cholestoral in mg/dl \n",
    "    * serum = LDL + HDL + .2 * triglycerides\n",
    "    * above 200 is cause for concern\n",
    "6. fbs - (fasting blood sugar > 120 mg/dl) (1 = true; 0 = false) \n",
    "    * '>126' mg/dL signals diabetes\n",
    "7. restecg - resting electrocardiographic results\n",
    "    * 0: Nothing to note\n",
    "    * 1: ST-T Wave abnormality\n",
    "        - can range from mild symptoms to severe problems\n",
    "        - signals non-normal heart beat\n",
    "    * 2: Possible or definite left ventricular hypertrophy\n",
    "        - Enlarged heart's main pumping chamber\n",
    "8. thalach - maximum heart rate achieved \n",
    "9. exang - exercise induced angina (1 = yes; 0 = no) \n",
    "10. oldpeak - ST depression induced by exercise relative to rest \n",
    "    * looks at stress of heart during excercise\n",
    "    * unhealthy heart will stress more\n",
    "11. slope - the slope of the peak exercise ST segment\n",
    "    * 0: Upsloping: better heart rate with excercise (uncommon)\n",
    "    * 1: Flatsloping: minimal change (typical healthy heart)\n",
    "    * 2: Downslopins: signs of unhealthy heart\n",
    "12. ca - number of major vessels (0-3) colored by flourosopy \n",
    "    * colored vessel means the doctor can see the blood passing through\n",
    "    * the more blood movement the better (no clots)\n",
    "13. thal - thalium stress result\n",
    "    * 1,3: normal\n",
    "    * 6: fixed defect: used to be defect but ok now\n",
    "    * 7: reversable defect: no proper blood movement when excercising \n",
    "14. target - have disease or not (1=yes, 0=no) (= the predicted attribute)\n",
    "\n",
    "**Note:** No personal identifiable information (PPI) can be found in the dataset.\n",
    "\n",
    "It's a good idea to save these to a Python dictionary or in an external file, so we can look at them later without coming back here."
   ]
  },
  {
   "cell_type": "markdown",
   "metadata": {},
   "source": [
    "## Prepare tools"
   ]
  },
  {
   "cell_type": "code",
   "execution_count": 1,
   "metadata": {},
   "outputs": [],
   "source": [
    "# Import all tools we need\n",
    "\n",
    "# Regular EDA (exploratory data analysis) and plotting libraries\n",
    "import numpy as np\n",
    "import pandas as pd \n",
    "import matplotlib.pyplot as plt\n",
    "import seaborn as sns \n",
    "sns.set()\n",
    "# we want our plots to appear inside the notebook\n",
    "%matplotlib inline\n",
    "\n",
    "# Models from Scikit-learn\n",
    "from sklearn.linear_model import LogisticRegression\n",
    "from sklearn.ensemble import RandomForestClassifier\n",
    "from sklearn.neighbors import KNeighborsClassifier\n",
    "\n",
    "# Model evaluations \n",
    "from sklearn.model_selection import train_test_split , cross_val_score\n",
    "from sklearn.model_selection import RandomizedSearchCV, GridSearchCV\n",
    "from sklearn.metrics import confusion_matrix, classification_report\n",
    "from sklearn.metrics import accuracy_score, precision_score, recall_score, f1_score\n",
    "from sklearn.metrics import plot_roc_curve"
   ]
  },
  {
   "cell_type": "markdown",
   "metadata": {},
   "source": [
    "## Load data"
   ]
  },
  {
   "cell_type": "markdown",
   "metadata": {},
   "source": [
    "# Data Exploration (exploratory data analysis or EDA)\n",
    "\n",
    "The goal is to find out more about the data and become a subject matter export on dataset we're working with\n",
    "   1. What question(s) are we trying resolve ? \n",
    "   2. What kind of data do we have and how do we treat different types? \n",
    "   3. What's missing from data and how do we deal with it?\n",
    "   4. Where are the outliers and why should we care about them?\n",
    "   5. How do we add, change or remove features to get more out of data ?"
   ]
  },
  {
   "cell_type": "code",
   "execution_count": 2,
   "metadata": {},
   "outputs": [
    {
     "data": {
      "text/plain": [
       "(303, 14)"
      ]
     },
     "execution_count": 2,
     "metadata": {},
     "output_type": "execute_result"
    }
   ],
   "source": [
    "heart_disease = pd.read_csv(\"../data/heart-disease.csv\")\n",
    "heart_disease.shape"
   ]
  },
  {
   "cell_type": "code",
   "execution_count": 3,
   "metadata": {},
   "outputs": [
    {
     "data": {
      "text/html": [
       "<div>\n",
       "<style scoped>\n",
       "    .dataframe tbody tr th:only-of-type {\n",
       "        vertical-align: middle;\n",
       "    }\n",
       "\n",
       "    .dataframe tbody tr th {\n",
       "        vertical-align: top;\n",
       "    }\n",
       "\n",
       "    .dataframe thead th {\n",
       "        text-align: right;\n",
       "    }\n",
       "</style>\n",
       "<table border=\"1\" class=\"dataframe\">\n",
       "  <thead>\n",
       "    <tr style=\"text-align: right;\">\n",
       "      <th></th>\n",
       "      <th>age</th>\n",
       "      <th>sex</th>\n",
       "      <th>cp</th>\n",
       "      <th>trestbps</th>\n",
       "      <th>chol</th>\n",
       "      <th>fbs</th>\n",
       "      <th>restecg</th>\n",
       "      <th>thalach</th>\n",
       "      <th>exang</th>\n",
       "      <th>oldpeak</th>\n",
       "      <th>slope</th>\n",
       "      <th>ca</th>\n",
       "      <th>thal</th>\n",
       "      <th>target</th>\n",
       "    </tr>\n",
       "  </thead>\n",
       "  <tbody>\n",
       "    <tr>\n",
       "      <th>0</th>\n",
       "      <td>63</td>\n",
       "      <td>1</td>\n",
       "      <td>3</td>\n",
       "      <td>145</td>\n",
       "      <td>233</td>\n",
       "      <td>1</td>\n",
       "      <td>0</td>\n",
       "      <td>150</td>\n",
       "      <td>0</td>\n",
       "      <td>2.3</td>\n",
       "      <td>0</td>\n",
       "      <td>0</td>\n",
       "      <td>1</td>\n",
       "      <td>1</td>\n",
       "    </tr>\n",
       "    <tr>\n",
       "      <th>1</th>\n",
       "      <td>37</td>\n",
       "      <td>1</td>\n",
       "      <td>2</td>\n",
       "      <td>130</td>\n",
       "      <td>250</td>\n",
       "      <td>0</td>\n",
       "      <td>1</td>\n",
       "      <td>187</td>\n",
       "      <td>0</td>\n",
       "      <td>3.5</td>\n",
       "      <td>0</td>\n",
       "      <td>0</td>\n",
       "      <td>2</td>\n",
       "      <td>1</td>\n",
       "    </tr>\n",
       "    <tr>\n",
       "      <th>2</th>\n",
       "      <td>41</td>\n",
       "      <td>0</td>\n",
       "      <td>1</td>\n",
       "      <td>130</td>\n",
       "      <td>204</td>\n",
       "      <td>0</td>\n",
       "      <td>0</td>\n",
       "      <td>172</td>\n",
       "      <td>0</td>\n",
       "      <td>1.4</td>\n",
       "      <td>2</td>\n",
       "      <td>0</td>\n",
       "      <td>2</td>\n",
       "      <td>1</td>\n",
       "    </tr>\n",
       "    <tr>\n",
       "      <th>3</th>\n",
       "      <td>56</td>\n",
       "      <td>1</td>\n",
       "      <td>1</td>\n",
       "      <td>120</td>\n",
       "      <td>236</td>\n",
       "      <td>0</td>\n",
       "      <td>1</td>\n",
       "      <td>178</td>\n",
       "      <td>0</td>\n",
       "      <td>0.8</td>\n",
       "      <td>2</td>\n",
       "      <td>0</td>\n",
       "      <td>2</td>\n",
       "      <td>1</td>\n",
       "    </tr>\n",
       "    <tr>\n",
       "      <th>4</th>\n",
       "      <td>57</td>\n",
       "      <td>0</td>\n",
       "      <td>0</td>\n",
       "      <td>120</td>\n",
       "      <td>354</td>\n",
       "      <td>0</td>\n",
       "      <td>1</td>\n",
       "      <td>163</td>\n",
       "      <td>1</td>\n",
       "      <td>0.6</td>\n",
       "      <td>2</td>\n",
       "      <td>0</td>\n",
       "      <td>2</td>\n",
       "      <td>1</td>\n",
       "    </tr>\n",
       "  </tbody>\n",
       "</table>\n",
       "</div>"
      ],
      "text/plain": [
       "   age  sex  cp  trestbps  chol  fbs  restecg  thalach  exang  oldpeak  slope  \\\n",
       "0   63    1   3       145   233    1        0      150      0      2.3      0   \n",
       "1   37    1   2       130   250    0        1      187      0      3.5      0   \n",
       "2   41    0   1       130   204    0        0      172      0      1.4      2   \n",
       "3   56    1   1       120   236    0        1      178      0      0.8      2   \n",
       "4   57    0   0       120   354    0        1      163      1      0.6      2   \n",
       "\n",
       "   ca  thal  target  \n",
       "0   0     1       1  \n",
       "1   0     2       1  \n",
       "2   0     2       1  \n",
       "3   0     2       1  \n",
       "4   0     2       1  "
      ]
     },
     "execution_count": 3,
     "metadata": {},
     "output_type": "execute_result"
    }
   ],
   "source": [
    "heart_disease.head()"
   ]
  },
  {
   "cell_type": "code",
   "execution_count": 4,
   "metadata": {},
   "outputs": [
    {
     "data": {
      "text/html": [
       "<div>\n",
       "<style scoped>\n",
       "    .dataframe tbody tr th:only-of-type {\n",
       "        vertical-align: middle;\n",
       "    }\n",
       "\n",
       "    .dataframe tbody tr th {\n",
       "        vertical-align: top;\n",
       "    }\n",
       "\n",
       "    .dataframe thead th {\n",
       "        text-align: right;\n",
       "    }\n",
       "</style>\n",
       "<table border=\"1\" class=\"dataframe\">\n",
       "  <thead>\n",
       "    <tr style=\"text-align: right;\">\n",
       "      <th></th>\n",
       "      <th>age</th>\n",
       "      <th>sex</th>\n",
       "      <th>cp</th>\n",
       "      <th>trestbps</th>\n",
       "      <th>chol</th>\n",
       "      <th>fbs</th>\n",
       "      <th>restecg</th>\n",
       "      <th>thalach</th>\n",
       "      <th>exang</th>\n",
       "      <th>oldpeak</th>\n",
       "      <th>slope</th>\n",
       "      <th>ca</th>\n",
       "      <th>thal</th>\n",
       "      <th>target</th>\n",
       "    </tr>\n",
       "  </thead>\n",
       "  <tbody>\n",
       "    <tr>\n",
       "      <th>298</th>\n",
       "      <td>57</td>\n",
       "      <td>0</td>\n",
       "      <td>0</td>\n",
       "      <td>140</td>\n",
       "      <td>241</td>\n",
       "      <td>0</td>\n",
       "      <td>1</td>\n",
       "      <td>123</td>\n",
       "      <td>1</td>\n",
       "      <td>0.2</td>\n",
       "      <td>1</td>\n",
       "      <td>0</td>\n",
       "      <td>3</td>\n",
       "      <td>0</td>\n",
       "    </tr>\n",
       "    <tr>\n",
       "      <th>299</th>\n",
       "      <td>45</td>\n",
       "      <td>1</td>\n",
       "      <td>3</td>\n",
       "      <td>110</td>\n",
       "      <td>264</td>\n",
       "      <td>0</td>\n",
       "      <td>1</td>\n",
       "      <td>132</td>\n",
       "      <td>0</td>\n",
       "      <td>1.2</td>\n",
       "      <td>1</td>\n",
       "      <td>0</td>\n",
       "      <td>3</td>\n",
       "      <td>0</td>\n",
       "    </tr>\n",
       "    <tr>\n",
       "      <th>300</th>\n",
       "      <td>68</td>\n",
       "      <td>1</td>\n",
       "      <td>0</td>\n",
       "      <td>144</td>\n",
       "      <td>193</td>\n",
       "      <td>1</td>\n",
       "      <td>1</td>\n",
       "      <td>141</td>\n",
       "      <td>0</td>\n",
       "      <td>3.4</td>\n",
       "      <td>1</td>\n",
       "      <td>2</td>\n",
       "      <td>3</td>\n",
       "      <td>0</td>\n",
       "    </tr>\n",
       "    <tr>\n",
       "      <th>301</th>\n",
       "      <td>57</td>\n",
       "      <td>1</td>\n",
       "      <td>0</td>\n",
       "      <td>130</td>\n",
       "      <td>131</td>\n",
       "      <td>0</td>\n",
       "      <td>1</td>\n",
       "      <td>115</td>\n",
       "      <td>1</td>\n",
       "      <td>1.2</td>\n",
       "      <td>1</td>\n",
       "      <td>1</td>\n",
       "      <td>3</td>\n",
       "      <td>0</td>\n",
       "    </tr>\n",
       "    <tr>\n",
       "      <th>302</th>\n",
       "      <td>57</td>\n",
       "      <td>0</td>\n",
       "      <td>1</td>\n",
       "      <td>130</td>\n",
       "      <td>236</td>\n",
       "      <td>0</td>\n",
       "      <td>0</td>\n",
       "      <td>174</td>\n",
       "      <td>0</td>\n",
       "      <td>0.0</td>\n",
       "      <td>1</td>\n",
       "      <td>1</td>\n",
       "      <td>2</td>\n",
       "      <td>0</td>\n",
       "    </tr>\n",
       "  </tbody>\n",
       "</table>\n",
       "</div>"
      ],
      "text/plain": [
       "     age  sex  cp  trestbps  chol  fbs  restecg  thalach  exang  oldpeak  \\\n",
       "298   57    0   0       140   241    0        1      123      1      0.2   \n",
       "299   45    1   3       110   264    0        1      132      0      1.2   \n",
       "300   68    1   0       144   193    1        1      141      0      3.4   \n",
       "301   57    1   0       130   131    0        1      115      1      1.2   \n",
       "302   57    0   1       130   236    0        0      174      0      0.0   \n",
       "\n",
       "     slope  ca  thal  target  \n",
       "298      1   0     3       0  \n",
       "299      1   0     3       0  \n",
       "300      1   2     3       0  \n",
       "301      1   1     3       0  \n",
       "302      1   1     2       0  "
      ]
     },
     "execution_count": 4,
     "metadata": {},
     "output_type": "execute_result"
    }
   ],
   "source": [
    "heart_disease.tail()"
   ]
  },
  {
   "cell_type": "code",
   "execution_count": 5,
   "metadata": {},
   "outputs": [
    {
     "data": {
      "text/plain": [
       "age         0\n",
       "sex         0\n",
       "cp          0\n",
       "trestbps    0\n",
       "chol        0\n",
       "fbs         0\n",
       "restecg     0\n",
       "thalach     0\n",
       "exang       0\n",
       "oldpeak     0\n",
       "slope       0\n",
       "ca          0\n",
       "thal        0\n",
       "target      0\n",
       "dtype: int64"
      ]
     },
     "execution_count": 5,
     "metadata": {},
     "output_type": "execute_result"
    }
   ],
   "source": [
    "heart_disease.isna().sum()"
   ]
  },
  {
   "cell_type": "code",
   "execution_count": 6,
   "metadata": {},
   "outputs": [
    {
     "data": {
      "text/plain": [
       "1    165\n",
       "0    138\n",
       "Name: target, dtype: int64"
      ]
     },
     "execution_count": 6,
     "metadata": {},
     "output_type": "execute_result"
    }
   ],
   "source": [
    "# Let's find out how many of each class there\n",
    "heart_disease[\"target\"].value_counts()"
   ]
  },
  {
   "cell_type": "code",
   "execution_count": 7,
   "metadata": {},
   "outputs": [
    {
     "data": {
      "text/plain": [
       "<AxesSubplot:>"
      ]
     },
     "execution_count": 7,
     "metadata": {},
     "output_type": "execute_result"
    },
    {
     "data": {
      "image/png": "[encoded data removed]",
      "text/plain": [
       "<Figure size 432x288 with 1 Axes>"
      ]
     },
     "metadata": {
      "needs_background": "light"
     },
     "output_type": "display_data"
    }
   ],
   "source": [
    "heart_disease[\"target\"].value_counts().plot.bar(color=[\"orange\",\"red\"])"
   ]
  },
  {
   "cell_type": "code",
   "execution_count": 8,
   "metadata": {},
   "outputs": [
    {
     "name": "stdout",
     "output_type": "stream",
     "text": [
      "<class 'pandas.core.frame.DataFrame'>\n",
      "RangeIndex: 303 entries, 0 to 302\n",
      "Data columns (total 14 columns):\n",
      " #   Column    Non-Null Count  Dtype  \n",
      "---  ------    --------------  -----  \n",
      " 0   age       303 non-null    int64  \n",
      " 1   sex       303 non-null    int64  \n",
      " 2   cp        303 non-null    int64  \n",
      " 3   trestbps  303 non-null    int64  \n",
      " 4   chol      303 non-null    int64  \n",
      " 5   fbs       303 non-null    int64  \n",
      " 6   restecg   303 non-null    int64  \n",
      " 7   thalach   303 non-null    int64  \n",
      " 8   exang     303 non-null    int64  \n",
      " 9   oldpeak   303 non-null    float64\n",
      " 10  slope     303 non-null    int64  \n",
      " 11  ca        303 non-null    int64  \n",
      " 12  thal      303 non-null    int64  \n",
      " 13  target    303 non-null    int64  \n",
      "dtypes: float64(1), int64(13)\n",
      "memory usage: 33.3 KB\n"
     ]
    }
   ],
   "source": [
    "heart_disease.info()"
   ]
  },
  {
   "cell_type": "code",
   "execution_count": 9,
   "metadata": {},
   "outputs": [
    {
     "data": {
      "text/plain": [
       "age           int64\n",
       "sex           int64\n",
       "cp            int64\n",
       "trestbps      int64\n",
       "chol          int64\n",
       "fbs           int64\n",
       "restecg       int64\n",
       "thalach       int64\n",
       "exang         int64\n",
       "oldpeak     float64\n",
       "slope         int64\n",
       "ca            int64\n",
       "thal          int64\n",
       "target        int64\n",
       "dtype: object"
      ]
     },
     "execution_count": 9,
     "metadata": {},
     "output_type": "execute_result"
    }
   ],
   "source": [
    "heart_disease.dtypes"
   ]
  },
  {
   "cell_type": "code",
   "execution_count": 10,
   "metadata": {
    "scrolled": true
   },
   "outputs": [
    {
     "data": {
      "text/html": [
       "<div>\n",
       "<style scoped>\n",
       "    .dataframe tbody tr th:only-of-type {\n",
       "        vertical-align: middle;\n",
       "    }\n",
       "\n",
       "    .dataframe tbody tr th {\n",
       "        vertical-align: top;\n",
       "    }\n",
       "\n",
       "    .dataframe thead th {\n",
       "        text-align: right;\n",
       "    }\n",
       "</style>\n",
       "<table border=\"1\" class=\"dataframe\">\n",
       "  <thead>\n",
       "    <tr style=\"text-align: right;\">\n",
       "      <th></th>\n",
       "      <th>age</th>\n",
       "      <th>sex</th>\n",
       "      <th>cp</th>\n",
       "      <th>trestbps</th>\n",
       "      <th>chol</th>\n",
       "      <th>fbs</th>\n",
       "      <th>restecg</th>\n",
       "      <th>thalach</th>\n",
       "      <th>exang</th>\n",
       "      <th>oldpeak</th>\n",
       "      <th>slope</th>\n",
       "      <th>ca</th>\n",
       "      <th>thal</th>\n",
       "      <th>target</th>\n",
       "    </tr>\n",
       "  </thead>\n",
       "  <tbody>\n",
       "    <tr>\n",
       "      <th>count</th>\n",
       "      <td>303.000000</td>\n",
       "      <td>303.000000</td>\n",
       "      <td>303.000000</td>\n",
       "      <td>303.000000</td>\n",
       "      <td>303.000000</td>\n",
       "      <td>303.000000</td>\n",
       "      <td>303.000000</td>\n",
       "      <td>303.000000</td>\n",
       "      <td>303.000000</td>\n",
       "      <td>303.000000</td>\n",
       "      <td>303.000000</td>\n",
       "      <td>303.000000</td>\n",
       "      <td>303.000000</td>\n",
       "      <td>303.000000</td>\n",
       "    </tr>\n",
       "    <tr>\n",
       "      <th>mean</th>\n",
       "      <td>54.366337</td>\n",
       "      <td>0.683168</td>\n",
       "      <td>0.966997</td>\n",
       "      <td>131.623762</td>\n",
       "      <td>246.264026</td>\n",
       "      <td>0.148515</td>\n",
       "      <td>0.528053</td>\n",
       "      <td>149.646865</td>\n",
       "      <td>0.326733</td>\n",
       "      <td>1.039604</td>\n",
       "      <td>1.399340</td>\n",
       "      <td>0.729373</td>\n",
       "      <td>2.313531</td>\n",
       "      <td>0.544554</td>\n",
       "    </tr>\n",
       "    <tr>\n",
       "      <th>std</th>\n",
       "      <td>9.082101</td>\n",
       "      <td>0.466011</td>\n",
       "      <td>1.032052</td>\n",
       "      <td>17.538143</td>\n",
       "      <td>51.830751</td>\n",
       "      <td>0.356198</td>\n",
       "      <td>0.525860</td>\n",
       "      <td>22.905161</td>\n",
       "      <td>0.469794</td>\n",
       "      <td>1.161075</td>\n",
       "      <td>0.616226</td>\n",
       "      <td>1.022606</td>\n",
       "      <td>0.612277</td>\n",
       "      <td>0.498835</td>\n",
       "    </tr>\n",
       "    <tr>\n",
       "      <th>min</th>\n",
       "      <td>29.000000</td>\n",
       "      <td>0.000000</td>\n",
       "      <td>0.000000</td>\n",
       "      <td>94.000000</td>\n",
       "      <td>126.000000</td>\n",
       "      <td>0.000000</td>\n",
       "      <td>0.000000</td>\n",
       "      <td>71.000000</td>\n",
       "      <td>0.000000</td>\n",
       "      <td>0.000000</td>\n",
       "      <td>0.000000</td>\n",
       "      <td>0.000000</td>\n",
       "      <td>0.000000</td>\n",
       "      <td>0.000000</td>\n",
       "    </tr>\n",
       "    <tr>\n",
       "      <th>25%</th>\n",
       "      <td>47.500000</td>\n",
       "      <td>0.000000</td>\n",
       "      <td>0.000000</td>\n",
       "      <td>120.000000</td>\n",
       "      <td>211.000000</td>\n",
       "      <td>0.000000</td>\n",
       "      <td>0.000000</td>\n",
       "      <td>133.500000</td>\n",
       "      <td>0.000000</td>\n",
       "      <td>0.000000</td>\n",
       "      <td>1.000000</td>\n",
       "      <td>0.000000</td>\n",
       "      <td>2.000000</td>\n",
       "      <td>0.000000</td>\n",
       "    </tr>\n",
       "    <tr>\n",
       "      <th>50%</th>\n",
       "      <td>55.000000</td>\n",
       "      <td>1.000000</td>\n",
       "      <td>1.000000</td>\n",
       "      <td>130.000000</td>\n",
       "      <td>240.000000</td>\n",
       "      <td>0.000000</td>\n",
       "      <td>1.000000</td>\n",
       "      <td>153.000000</td>\n",
       "      <td>0.000000</td>\n",
       "      <td>0.800000</td>\n",
       "      <td>1.000000</td>\n",
       "      <td>0.000000</td>\n",
       "      <td>2.000000</td>\n",
       "      <td>1.000000</td>\n",
       "    </tr>\n",
       "    <tr>\n",
       "      <th>75%</th>\n",
       "      <td>61.000000</td>\n",
       "      <td>1.000000</td>\n",
       "      <td>2.000000</td>\n",
       "      <td>140.000000</td>\n",
       "      <td>274.500000</td>\n",
       "      <td>0.000000</td>\n",
       "      <td>1.000000</td>\n",
       "      <td>166.000000</td>\n",
       "      <td>1.000000</td>\n",
       "      <td>1.600000</td>\n",
       "      <td>2.000000</td>\n",
       "      <td>1.000000</td>\n",
       "      <td>3.000000</td>\n",
       "      <td>1.000000</td>\n",
       "    </tr>\n",
       "    <tr>\n",
       "      <th>max</th>\n",
       "      <td>77.000000</td>\n",
       "      <td>1.000000</td>\n",
       "      <td>3.000000</td>\n",
       "      <td>200.000000</td>\n",
       "      <td>564.000000</td>\n",
       "      <td>1.000000</td>\n",
       "      <td>2.000000</td>\n",
       "      <td>202.000000</td>\n",
       "      <td>1.000000</td>\n",
       "      <td>6.200000</td>\n",
       "      <td>2.000000</td>\n",
       "      <td>4.000000</td>\n",
       "      <td>3.000000</td>\n",
       "      <td>1.000000</td>\n",
       "    </tr>\n",
       "  </tbody>\n",
       "</table>\n",
       "</div>"
      ],
      "text/plain": [
       "              age         sex          cp    trestbps        chol         fbs  \\\n",
       "count  303.000000  303.000000  303.000000  303.000000  303.000000  303.000000   \n",
       "mean    54.366337    0.683168    0.966997  131.623762  246.264026    0.148515   \n",
       "std      9.082101    0.466011    1.032052   17.538143   51.830751    0.356198   \n",
       "min     29.000000    0.000000    0.000000   94.000000  126.000000    0.000000   \n",
       "25%     47.500000    0.000000    0.000000  120.000000  211.000000    0.000000   \n",
       "50%     55.000000    1.000000    1.000000  130.000000  240.000000    0.000000   \n",
       "75%     61.000000    1.000000    2.000000  140.000000  274.500000    0.000000   \n",
       "max     77.000000    1.000000    3.000000  200.000000  564.000000    1.000000   \n",
       "\n",
       "          restecg     thalach       exang     oldpeak       slope          ca  \\\n",
       "count  303.000000  303.000000  303.000000  303.000000  303.000000  303.000000   \n",
       "mean     0.528053  149.646865    0.326733    1.039604    1.399340    0.729373   \n",
       "std      0.525860   22.905161    0.469794    1.161075    0.616226    1.022606   \n",
       "min      0.000000   71.000000    0.000000    0.000000    0.000000    0.000000   \n",
       "25%      0.000000  133.500000    0.000000    0.000000    1.000000    0.000000   \n",
       "50%      1.000000  153.000000    0.000000    0.800000    1.000000    0.000000   \n",
       "75%      1.000000  166.000000    1.000000    1.600000    2.000000    1.000000   \n",
       "max      2.000000  202.000000    1.000000    6.200000    2.000000    4.000000   \n",
       "\n",
       "             thal      target  \n",
       "count  303.000000  303.000000  \n",
       "mean     2.313531    0.544554  \n",
       "std      0.612277    0.498835  \n",
       "min      0.000000    0.000000  \n",
       "25%      2.000000    0.000000  \n",
       "50%      2.000000    1.000000  \n",
       "75%      3.000000    1.000000  \n",
       "max      3.000000    1.000000  "
      ]
     },
     "execution_count": 10,
     "metadata": {},
     "output_type": "execute_result"
    }
   ],
   "source": [
    "heart_disease.describe()"
   ]
  },
  {
   "cell_type": "markdown",
   "metadata": {},
   "source": [
    "### Heart disease frequency"
   ]
  },
  {
   "cell_type": "markdown",
   "metadata": {},
   "source": [
    "#### according to Sex "
   ]
  },
  {
   "cell_type": "code",
   "execution_count": 11,
   "metadata": {},
   "outputs": [
    {
     "data": {
      "text/plain": [
       "1    207\n",
       "0     96\n",
       "Name: sex, dtype: int64"
      ]
     },
     "execution_count": 11,
     "metadata": {},
     "output_type": "execute_result"
    }
   ],
   "source": [
    "heart_disease[\"sex\"].value_counts()"
   ]
  },
  {
   "cell_type": "code",
   "execution_count": 12,
   "metadata": {},
   "outputs": [
    {
     "data": {
      "text/html": [
       "<div>\n",
       "<style scoped>\n",
       "    .dataframe tbody tr th:only-of-type {\n",
       "        vertical-align: middle;\n",
       "    }\n",
       "\n",
       "    .dataframe tbody tr th {\n",
       "        vertical-align: top;\n",
       "    }\n",
       "\n",
       "    .dataframe thead th {\n",
       "        text-align: right;\n",
       "    }\n",
       "</style>\n",
       "<table border=\"1\" class=\"dataframe\">\n",
       "  <thead>\n",
       "    <tr style=\"text-align: right;\">\n",
       "      <th>sex</th>\n",
       "      <th>0</th>\n",
       "      <th>1</th>\n",
       "    </tr>\n",
       "    <tr>\n",
       "      <th>target</th>\n",
       "      <th></th>\n",
       "      <th></th>\n",
       "    </tr>\n",
       "  </thead>\n",
       "  <tbody>\n",
       "    <tr>\n",
       "      <th>0</th>\n",
       "      <td>24</td>\n",
       "      <td>114</td>\n",
       "    </tr>\n",
       "    <tr>\n",
       "      <th>1</th>\n",
       "      <td>72</td>\n",
       "      <td>93</td>\n",
       "    </tr>\n",
       "  </tbody>\n",
       "</table>\n",
       "</div>"
      ],
      "text/plain": [
       "sex      0    1\n",
       "target         \n",
       "0       24  114\n",
       "1       72   93"
      ]
     },
     "execution_count": 12,
     "metadata": {},
     "output_type": "execute_result"
    }
   ],
   "source": [
    "# Compare target column with sex column\n",
    "pd.crosstab(heart_disease.target, heart_disease.sex)"
   ]
  },
  {
   "cell_type": "code",
   "execution_count": 13,
   "metadata": {},
   "outputs": [
    {
     "data": {
      "text/plain": [
       "(array([0, 1]), [Text(0, 0, '0'), Text(1, 0, '1')])"
      ]
     },
     "execution_count": 13,
     "metadata": {},
     "output_type": "execute_result"
    },
    {
     "data": {
      "image/png": "[encoded data removed]",
      "text/plain": [
       "<Figure size 576x432 with 1 Axes>"
      ]
     },
     "metadata": {
      "needs_background": "light"
     },
     "output_type": "display_data"
    }
   ],
   "source": [
    "# Create a plot of crosstab\n",
    "pd.crosstab(heart_disease.target,heart_disease.sex).plot(kind=\"bar\", figsize=(8,6))\n",
    "plt.title(\"Heart disease by sex\")\n",
    "plt.xlabel(\"0 = No disease, 1 = Disease\")\n",
    "plt.ylabel(\"Amount\")\n",
    "plt.legend([\"female\",\"male\"])\n",
    "plt.xticks(rotation=0)"
   ]
  },
  {
   "cell_type": "markdown",
   "metadata": {},
   "source": [
    "#### according to sex and thalach"
   ]
  },
  {
   "cell_type": "code",
   "execution_count": 14,
   "metadata": {
    "scrolled": true
   },
   "outputs": [
    {
     "data": {
      "text/plain": [
       "162    11\n",
       "160     9\n",
       "163     9\n",
       "173     8\n",
       "152     8\n",
       "       ..\n",
       "129     1\n",
       "128     1\n",
       "127     1\n",
       "124     1\n",
       "71      1\n",
       "Name: thalach, Length: 91, dtype: int64"
      ]
     },
     "execution_count": 14,
     "metadata": {},
     "output_type": "execute_result"
    }
   ],
   "source": [
    "heart_disease.thalach.value_counts()"
   ]
  },
  {
   "cell_type": "code",
   "execution_count": 15,
   "metadata": {},
   "outputs": [
    {
     "data": {
      "text/plain": [
       "149.64686468646866"
      ]
     },
     "execution_count": 15,
     "metadata": {},
     "output_type": "execute_result"
    }
   ],
   "source": [
    "heart_disease[\"thalach\"].mean()"
   ]
  },
  {
   "cell_type": "code",
   "execution_count": 16,
   "metadata": {},
   "outputs": [
    {
     "data": {
      "text/plain": [
       "<matplotlib.legend.Legend at 0x7f995c92f6d8>"
      ]
     },
     "execution_count": 16,
     "metadata": {},
     "output_type": "execute_result"
    },
    {
     "data": {
      "image/png": "[encoded data removed]",
      "text/plain": [
       "<Figure size 720x432 with 1 Axes>"
      ]
     },
     "metadata": {
      "needs_background": "light"
     },
     "output_type": "display_data"
    }
   ],
   "source": [
    "# Create another figure\n",
    "plt.figure(figsize=(10,6))\n",
    "# Scatter with positive examples\n",
    "plt.scatter(heart_disease.age[heart_disease[\"target\"] == 1], \n",
    "            heart_disease.thalach[heart_disease[\"target\"]==1])\n",
    "plt.scatter(heart_disease.age[heart_disease[\"target\"] == 0], \n",
    "            heart_disease.thalach[heart_disease[\"target\"]==0])\n",
    "\n",
    "# Add some helpful info\n",
    "plt.title(\"Heart disease in function of age and max heart rate\")\n",
    "plt.xlabel(\"age\")\n",
    "plt.ylabel(\"Max heart rate\")\n",
    "plt.legend([\"Disease\",\"No Disease\"])"
   ]
  },
  {
   "cell_type": "code",
   "execution_count": 17,
   "metadata": {},
   "outputs": [
    {
     "data": {
      "text/plain": [
       "<seaborn.axisgrid.FacetGrid at 0x7f995c88cf98>"
      ]
     },
     "execution_count": 17,
     "metadata": {},
     "output_type": "execute_result"
    },
    {
     "data": {
      "image/png": "[encoded data removed]",
      "text/plain": [
       "<Figure size 360x360 with 1 Axes>"
      ]
     },
     "metadata": {
      "needs_background": "light"
     },
     "output_type": "display_data"
    }
   ],
   "source": [
    "# Check distribution function of age\n",
    "sns.displot(heart_disease.age)"
   ]
  },
  {
   "cell_type": "markdown",
   "metadata": {},
   "source": [
    "#### Heart disease frequency per Chest Pain type"
   ]
  },
  {
   "cell_type": "code",
   "execution_count": 18,
   "metadata": {},
   "outputs": [
    {
     "data": {
      "text/plain": [
       "0    143\n",
       "2     87\n",
       "1     50\n",
       "3     23\n",
       "Name: cp, dtype: int64"
      ]
     },
     "execution_count": 18,
     "metadata": {},
     "output_type": "execute_result"
    }
   ],
   "source": [
    "heart_disease.cp.value_counts()"
   ]
  },
  {
   "cell_type": "code",
   "execution_count": 19,
   "metadata": {},
   "outputs": [
    {
     "data": {
      "text/html": [
       "<div>\n",
       "<style scoped>\n",
       "    .dataframe tbody tr th:only-of-type {\n",
       "        vertical-align: middle;\n",
       "    }\n",
       "\n",
       "    .dataframe tbody tr th {\n",
       "        vertical-align: top;\n",
       "    }\n",
       "\n",
       "    .dataframe thead th {\n",
       "        text-align: right;\n",
       "    }\n",
       "</style>\n",
       "<table border=\"1\" class=\"dataframe\">\n",
       "  <thead>\n",
       "    <tr style=\"text-align: right;\">\n",
       "      <th>target</th>\n",
       "      <th>0</th>\n",
       "      <th>1</th>\n",
       "    </tr>\n",
       "    <tr>\n",
       "      <th>cp</th>\n",
       "      <th></th>\n",
       "      <th></th>\n",
       "    </tr>\n",
       "  </thead>\n",
       "  <tbody>\n",
       "    <tr>\n",
       "      <th>0</th>\n",
       "      <td>104</td>\n",
       "      <td>39</td>\n",
       "    </tr>\n",
       "    <tr>\n",
       "      <th>1</th>\n",
       "      <td>9</td>\n",
       "      <td>41</td>\n",
       "    </tr>\n",
       "    <tr>\n",
       "      <th>2</th>\n",
       "      <td>18</td>\n",
       "      <td>69</td>\n",
       "    </tr>\n",
       "    <tr>\n",
       "      <th>3</th>\n",
       "      <td>7</td>\n",
       "      <td>16</td>\n",
       "    </tr>\n",
       "  </tbody>\n",
       "</table>\n",
       "</div>"
      ],
      "text/plain": [
       "target    0   1\n",
       "cp             \n",
       "0       104  39\n",
       "1         9  41\n",
       "2        18  69\n",
       "3         7  16"
      ]
     },
     "execution_count": 19,
     "metadata": {},
     "output_type": "execute_result"
    }
   ],
   "source": [
    "pd.crosstab(heart_disease.cp, heart_disease.target)"
   ]
  },
  {
   "cell_type": "code",
   "execution_count": 20,
   "metadata": {},
   "outputs": [
    {
     "data": {
      "text/plain": [
       "<matplotlib.legend.Legend at 0x7f995a5a3828>"
      ]
     },
     "execution_count": 20,
     "metadata": {},
     "output_type": "execute_result"
    },
    {
     "data": {
      "image/png": "[encoded data removed]",
      "text/plain": [
       "<Figure size 864x432 with 1 Axes>"
      ]
     },
     "metadata": {
      "needs_background": "light"
     },
     "output_type": "display_data"
    }
   ],
   "source": [
    "pd.crosstab(heart_disease.cp, heart_disease.target).plot(kind=\"bar\", figsize=(12,6))\n",
    "plt.title(\"Heart disease and cp\")\n",
    "plt.xlabel(\"Chest Pain Type\")\n",
    "plt.ylabel(\"Amount\")\n",
    "plt.legend([\"Disease\", \"No Disease\"])"
   ]
  },
  {
   "cell_type": "code",
   "execution_count": 21,
   "metadata": {},
   "outputs": [
    {
     "data": {
      "text/html": [
       "<div>\n",
       "<style scoped>\n",
       "    .dataframe tbody tr th:only-of-type {\n",
       "        vertical-align: middle;\n",
       "    }\n",
       "\n",
       "    .dataframe tbody tr th {\n",
       "        vertical-align: top;\n",
       "    }\n",
       "\n",
       "    .dataframe thead th {\n",
       "        text-align: right;\n",
       "    }\n",
       "</style>\n",
       "<table border=\"1\" class=\"dataframe\">\n",
       "  <thead>\n",
       "    <tr style=\"text-align: right;\">\n",
       "      <th></th>\n",
       "      <th>age</th>\n",
       "      <th>sex</th>\n",
       "      <th>cp</th>\n",
       "      <th>trestbps</th>\n",
       "      <th>chol</th>\n",
       "      <th>fbs</th>\n",
       "      <th>restecg</th>\n",
       "      <th>thalach</th>\n",
       "      <th>exang</th>\n",
       "      <th>oldpeak</th>\n",
       "      <th>slope</th>\n",
       "      <th>ca</th>\n",
       "      <th>thal</th>\n",
       "      <th>target</th>\n",
       "    </tr>\n",
       "  </thead>\n",
       "  <tbody>\n",
       "    <tr>\n",
       "      <th>age</th>\n",
       "      <td>1.000000</td>\n",
       "      <td>-0.098447</td>\n",
       "      <td>-0.068653</td>\n",
       "      <td>0.279351</td>\n",
       "      <td>0.213678</td>\n",
       "      <td>0.121308</td>\n",
       "      <td>-0.116211</td>\n",
       "      <td>-0.398522</td>\n",
       "      <td>0.096801</td>\n",
       "      <td>0.210013</td>\n",
       "      <td>-0.168814</td>\n",
       "      <td>0.276326</td>\n",
       "      <td>0.068001</td>\n",
       "      <td>-0.225439</td>\n",
       "    </tr>\n",
       "    <tr>\n",
       "      <th>sex</th>\n",
       "      <td>-0.098447</td>\n",
       "      <td>1.000000</td>\n",
       "      <td>-0.049353</td>\n",
       "      <td>-0.056769</td>\n",
       "      <td>-0.197912</td>\n",
       "      <td>0.045032</td>\n",
       "      <td>-0.058196</td>\n",
       "      <td>-0.044020</td>\n",
       "      <td>0.141664</td>\n",
       "      <td>0.096093</td>\n",
       "      <td>-0.030711</td>\n",
       "      <td>0.118261</td>\n",
       "      <td>0.210041</td>\n",
       "      <td>-0.280937</td>\n",
       "    </tr>\n",
       "    <tr>\n",
       "      <th>cp</th>\n",
       "      <td>-0.068653</td>\n",
       "      <td>-0.049353</td>\n",
       "      <td>1.000000</td>\n",
       "      <td>0.047608</td>\n",
       "      <td>-0.076904</td>\n",
       "      <td>0.094444</td>\n",
       "      <td>0.044421</td>\n",
       "      <td>0.295762</td>\n",
       "      <td>-0.394280</td>\n",
       "      <td>-0.149230</td>\n",
       "      <td>0.119717</td>\n",
       "      <td>-0.181053</td>\n",
       "      <td>-0.161736</td>\n",
       "      <td>0.433798</td>\n",
       "    </tr>\n",
       "    <tr>\n",
       "      <th>trestbps</th>\n",
       "      <td>0.279351</td>\n",
       "      <td>-0.056769</td>\n",
       "      <td>0.047608</td>\n",
       "      <td>1.000000</td>\n",
       "      <td>0.123174</td>\n",
       "      <td>0.177531</td>\n",
       "      <td>-0.114103</td>\n",
       "      <td>-0.046698</td>\n",
       "      <td>0.067616</td>\n",
       "      <td>0.193216</td>\n",
       "      <td>-0.121475</td>\n",
       "      <td>0.101389</td>\n",
       "      <td>0.062210</td>\n",
       "      <td>-0.144931</td>\n",
       "    </tr>\n",
       "    <tr>\n",
       "      <th>chol</th>\n",
       "      <td>0.213678</td>\n",
       "      <td>-0.197912</td>\n",
       "      <td>-0.076904</td>\n",
       "      <td>0.123174</td>\n",
       "      <td>1.000000</td>\n",
       "      <td>0.013294</td>\n",
       "      <td>-0.151040</td>\n",
       "      <td>-0.009940</td>\n",
       "      <td>0.067023</td>\n",
       "      <td>0.053952</td>\n",
       "      <td>-0.004038</td>\n",
       "      <td>0.070511</td>\n",
       "      <td>0.098803</td>\n",
       "      <td>-0.085239</td>\n",
       "    </tr>\n",
       "    <tr>\n",
       "      <th>fbs</th>\n",
       "      <td>0.121308</td>\n",
       "      <td>0.045032</td>\n",
       "      <td>0.094444</td>\n",
       "      <td>0.177531</td>\n",
       "      <td>0.013294</td>\n",
       "      <td>1.000000</td>\n",
       "      <td>-0.084189</td>\n",
       "      <td>-0.008567</td>\n",
       "      <td>0.025665</td>\n",
       "      <td>0.005747</td>\n",
       "      <td>-0.059894</td>\n",
       "      <td>0.137979</td>\n",
       "      <td>-0.032019</td>\n",
       "      <td>-0.028046</td>\n",
       "    </tr>\n",
       "    <tr>\n",
       "      <th>restecg</th>\n",
       "      <td>-0.116211</td>\n",
       "      <td>-0.058196</td>\n",
       "      <td>0.044421</td>\n",
       "      <td>-0.114103</td>\n",
       "      <td>-0.151040</td>\n",
       "      <td>-0.084189</td>\n",
       "      <td>1.000000</td>\n",
       "      <td>0.044123</td>\n",
       "      <td>-0.070733</td>\n",
       "      <td>-0.058770</td>\n",
       "      <td>0.093045</td>\n",
       "      <td>-0.072042</td>\n",
       "      <td>-0.011981</td>\n",
       "      <td>0.137230</td>\n",
       "    </tr>\n",
       "    <tr>\n",
       "      <th>thalach</th>\n",
       "      <td>-0.398522</td>\n",
       "      <td>-0.044020</td>\n",
       "      <td>0.295762</td>\n",
       "      <td>-0.046698</td>\n",
       "      <td>-0.009940</td>\n",
       "      <td>-0.008567</td>\n",
       "      <td>0.044123</td>\n",
       "      <td>1.000000</td>\n",
       "      <td>-0.378812</td>\n",
       "      <td>-0.344187</td>\n",
       "      <td>0.386784</td>\n",
       "      <td>-0.213177</td>\n",
       "      <td>-0.096439</td>\n",
       "      <td>0.421741</td>\n",
       "    </tr>\n",
       "    <tr>\n",
       "      <th>exang</th>\n",
       "      <td>0.096801</td>\n",
       "      <td>0.141664</td>\n",
       "      <td>-0.394280</td>\n",
       "      <td>0.067616</td>\n",
       "      <td>0.067023</td>\n",
       "      <td>0.025665</td>\n",
       "      <td>-0.070733</td>\n",
       "      <td>-0.378812</td>\n",
       "      <td>1.000000</td>\n",
       "      <td>0.288223</td>\n",
       "      <td>-0.257748</td>\n",
       "      <td>0.115739</td>\n",
       "      <td>0.206754</td>\n",
       "      <td>-0.436757</td>\n",
       "    </tr>\n",
       "    <tr>\n",
       "      <th>oldpeak</th>\n",
       "      <td>0.210013</td>\n",
       "      <td>0.096093</td>\n",
       "      <td>-0.149230</td>\n",
       "      <td>0.193216</td>\n",
       "      <td>0.053952</td>\n",
       "      <td>0.005747</td>\n",
       "      <td>-0.058770</td>\n",
       "      <td>-0.344187</td>\n",
       "      <td>0.288223</td>\n",
       "      <td>1.000000</td>\n",
       "      <td>-0.577537</td>\n",
       "      <td>0.222682</td>\n",
       "      <td>0.210244</td>\n",
       "      <td>-0.430696</td>\n",
       "    </tr>\n",
       "    <tr>\n",
       "      <th>slope</th>\n",
       "      <td>-0.168814</td>\n",
       "      <td>-0.030711</td>\n",
       "      <td>0.119717</td>\n",
       "      <td>-0.121475</td>\n",
       "      <td>-0.004038</td>\n",
       "      <td>-0.059894</td>\n",
       "      <td>0.093045</td>\n",
       "      <td>0.386784</td>\n",
       "      <td>-0.257748</td>\n",
       "      <td>-0.577537</td>\n",
       "      <td>1.000000</td>\n",
       "      <td>-0.080155</td>\n",
       "      <td>-0.104764</td>\n",
       "      <td>0.345877</td>\n",
       "    </tr>\n",
       "    <tr>\n",
       "      <th>ca</th>\n",
       "      <td>0.276326</td>\n",
       "      <td>0.118261</td>\n",
       "      <td>-0.181053</td>\n",
       "      <td>0.101389</td>\n",
       "      <td>0.070511</td>\n",
       "      <td>0.137979</td>\n",
       "      <td>-0.072042</td>\n",
       "      <td>-0.213177</td>\n",
       "      <td>0.115739</td>\n",
       "      <td>0.222682</td>\n",
       "      <td>-0.080155</td>\n",
       "      <td>1.000000</td>\n",
       "      <td>0.151832</td>\n",
       "      <td>-0.391724</td>\n",
       "    </tr>\n",
       "    <tr>\n",
       "      <th>thal</th>\n",
       "      <td>0.068001</td>\n",
       "      <td>0.210041</td>\n",
       "      <td>-0.161736</td>\n",
       "      <td>0.062210</td>\n",
       "      <td>0.098803</td>\n",
       "      <td>-0.032019</td>\n",
       "      <td>-0.011981</td>\n",
       "      <td>-0.096439</td>\n",
       "      <td>0.206754</td>\n",
       "      <td>0.210244</td>\n",
       "      <td>-0.104764</td>\n",
       "      <td>0.151832</td>\n",
       "      <td>1.000000</td>\n",
       "      <td>-0.344029</td>\n",
       "    </tr>\n",
       "    <tr>\n",
       "      <th>target</th>\n",
       "      <td>-0.225439</td>\n",
       "      <td>-0.280937</td>\n",
       "      <td>0.433798</td>\n",
       "      <td>-0.144931</td>\n",
       "      <td>-0.085239</td>\n",
       "      <td>-0.028046</td>\n",
       "      <td>0.137230</td>\n",
       "      <td>0.421741</td>\n",
       "      <td>-0.436757</td>\n",
       "      <td>-0.430696</td>\n",
       "      <td>0.345877</td>\n",
       "      <td>-0.391724</td>\n",
       "      <td>-0.344029</td>\n",
       "      <td>1.000000</td>\n",
       "    </tr>\n",
       "  </tbody>\n",
       "</table>\n",
       "</div>"
      ],
      "text/plain": [
       "               age       sex        cp  trestbps      chol       fbs  \\\n",
       "age       1.000000 -0.098447 -0.068653  0.279351  0.213678  0.121308   \n",
       "sex      -0.098447  1.000000 -0.049353 -0.056769 -0.197912  0.045032   \n",
       "cp       -0.068653 -0.049353  1.000000  0.047608 -0.076904  0.094444   \n",
       "trestbps  0.279351 -0.056769  0.047608  1.000000  0.123174  0.177531   \n",
       "chol      0.213678 -0.197912 -0.076904  0.123174  1.000000  0.013294   \n",
       "fbs       0.121308  0.045032  0.094444  0.177531  0.013294  1.000000   \n",
       "restecg  -0.116211 -0.058196  0.044421 -0.114103 -0.151040 -0.084189   \n",
       "thalach  -0.398522 -0.044020  0.295762 -0.046698 -0.009940 -0.008567   \n",
       "exang     0.096801  0.141664 -0.394280  0.067616  0.067023  0.025665   \n",
       "oldpeak   0.210013  0.096093 -0.149230  0.193216  0.053952  0.005747   \n",
       "slope    -0.168814 -0.030711  0.119717 -0.121475 -0.004038 -0.059894   \n",
       "ca        0.276326  0.118261 -0.181053  0.101389  0.070511  0.137979   \n",
       "thal      0.068001  0.210041 -0.161736  0.062210  0.098803 -0.032019   \n",
       "target   -0.225439 -0.280937  0.433798 -0.144931 -0.085239 -0.028046   \n",
       "\n",
       "           restecg   thalach     exang   oldpeak     slope        ca  \\\n",
       "age      -0.116211 -0.398522  0.096801  0.210013 -0.168814  0.276326   \n",
       "sex      -0.058196 -0.044020  0.141664  0.096093 -0.030711  0.118261   \n",
       "cp        0.044421  0.295762 -0.394280 -0.149230  0.119717 -0.181053   \n",
       "trestbps -0.114103 -0.046698  0.067616  0.193216 -0.121475  0.101389   \n",
       "chol     -0.151040 -0.009940  0.067023  0.053952 -0.004038  0.070511   \n",
       "fbs      -0.084189 -0.008567  0.025665  0.005747 -0.059894  0.137979   \n",
       "restecg   1.000000  0.044123 -0.070733 -0.058770  0.093045 -0.072042   \n",
       "thalach   0.044123  1.000000 -0.378812 -0.344187  0.386784 -0.213177   \n",
       "exang    -0.070733 -0.378812  1.000000  0.288223 -0.257748  0.115739   \n",
       "oldpeak  -0.058770 -0.344187  0.288223  1.000000 -0.577537  0.222682   \n",
       "slope     0.093045  0.386784 -0.257748 -0.577537  1.000000 -0.080155   \n",
       "ca       -0.072042 -0.213177  0.115739  0.222682 -0.080155  1.000000   \n",
       "thal     -0.011981 -0.096439  0.206754  0.210244 -0.104764  0.151832   \n",
       "target    0.137230  0.421741 -0.436757 -0.430696  0.345877 -0.391724   \n",
       "\n",
       "              thal    target  \n",
       "age       0.068001 -0.225439  \n",
       "sex       0.210041 -0.280937  \n",
       "cp       -0.161736  0.433798  \n",
       "trestbps  0.062210 -0.144931  \n",
       "chol      0.098803 -0.085239  \n",
       "fbs      -0.032019 -0.028046  \n",
       "restecg  -0.011981  0.137230  \n",
       "thalach  -0.096439  0.421741  \n",
       "exang     0.206754 -0.436757  \n",
       "oldpeak   0.210244 -0.430696  \n",
       "slope    -0.104764  0.345877  \n",
       "ca        0.151832 -0.391724  \n",
       "thal      1.000000 -0.344029  \n",
       "target   -0.344029  1.000000  "
      ]
     },
     "execution_count": 21,
     "metadata": {},
     "output_type": "execute_result"
    }
   ],
   "source": [
    "# Make a correlation matrix \n",
    "heart_disease.corr()"
   ]
  },
  {
   "cell_type": "code",
   "execution_count": 22,
   "metadata": {},
   "outputs": [
    {
     "data": {
      "text/plain": [
       "(14.5, -0.5)"
      ]
     },
     "execution_count": 22,
     "metadata": {},
     "output_type": "execute_result"
    },
    {
     "data": {
      "image/png": "[encoded data removed]",
      "text/plain": [
       "<Figure size 1152x576 with 2 Axes>"
      ]
     },
     "metadata": {
      "needs_background": "light"
     },
     "output_type": "display_data"
    }
   ],
   "source": [
    "# Let's make out correlation matrix a litte prettier\n",
    "corr_matrix = heart_disease.corr()\n",
    "fig, ax = plt.subplots(figsize=(16,8))\n",
    "ax = sns.heatmap(corr_matrix, annot=True ,cbar=True,linewidths=0.5, linecolor=\"white\",fmt=\".2f\", cmap=\"YlGnBu\")\n",
    "bottom, top = ax.get_ylim() \n",
    "ax.set_ylim(bottom+0.5, top -0.5)"
   ]
  },
  {
   "cell_type": "markdown",
   "metadata": {},
   "source": [
    "## Modelling"
   ]
  },
  {
   "cell_type": "code",
   "execution_count": 23,
   "metadata": {},
   "outputs": [
    {
     "data": {
      "text/html": [
       "<div>\n",
       "<style scoped>\n",
       "    .dataframe tbody tr th:only-of-type {\n",
       "        vertical-align: middle;\n",
       "    }\n",
       "\n",
       "    .dataframe tbody tr th {\n",
       "        vertical-align: top;\n",
       "    }\n",
       "\n",
       "    .dataframe thead th {\n",
       "        text-align: right;\n",
       "    }\n",
       "</style>\n",
       "<table border=\"1\" class=\"dataframe\">\n",
       "  <thead>\n",
       "    <tr style=\"text-align: right;\">\n",
       "      <th></th>\n",
       "      <th>age</th>\n",
       "      <th>sex</th>\n",
       "      <th>cp</th>\n",
       "      <th>trestbps</th>\n",
       "      <th>chol</th>\n",
       "      <th>fbs</th>\n",
       "      <th>restecg</th>\n",
       "      <th>thalach</th>\n",
       "      <th>exang</th>\n",
       "      <th>oldpeak</th>\n",
       "      <th>slope</th>\n",
       "      <th>ca</th>\n",
       "      <th>thal</th>\n",
       "      <th>target</th>\n",
       "    </tr>\n",
       "  </thead>\n",
       "  <tbody>\n",
       "    <tr>\n",
       "      <th>0</th>\n",
       "      <td>63</td>\n",
       "      <td>1</td>\n",
       "      <td>3</td>\n",
       "      <td>145</td>\n",
       "      <td>233</td>\n",
       "      <td>1</td>\n",
       "      <td>0</td>\n",
       "      <td>150</td>\n",
       "      <td>0</td>\n",
       "      <td>2.3</td>\n",
       "      <td>0</td>\n",
       "      <td>0</td>\n",
       "      <td>1</td>\n",
       "      <td>1</td>\n",
       "    </tr>\n",
       "    <tr>\n",
       "      <th>1</th>\n",
       "      <td>37</td>\n",
       "      <td>1</td>\n",
       "      <td>2</td>\n",
       "      <td>130</td>\n",
       "      <td>250</td>\n",
       "      <td>0</td>\n",
       "      <td>1</td>\n",
       "      <td>187</td>\n",
       "      <td>0</td>\n",
       "      <td>3.5</td>\n",
       "      <td>0</td>\n",
       "      <td>0</td>\n",
       "      <td>2</td>\n",
       "      <td>1</td>\n",
       "    </tr>\n",
       "    <tr>\n",
       "      <th>2</th>\n",
       "      <td>41</td>\n",
       "      <td>0</td>\n",
       "      <td>1</td>\n",
       "      <td>130</td>\n",
       "      <td>204</td>\n",
       "      <td>0</td>\n",
       "      <td>0</td>\n",
       "      <td>172</td>\n",
       "      <td>0</td>\n",
       "      <td>1.4</td>\n",
       "      <td>2</td>\n",
       "      <td>0</td>\n",
       "      <td>2</td>\n",
       "      <td>1</td>\n",
       "    </tr>\n",
       "    <tr>\n",
       "      <th>3</th>\n",
       "      <td>56</td>\n",
       "      <td>1</td>\n",
       "      <td>1</td>\n",
       "      <td>120</td>\n",
       "      <td>236</td>\n",
       "      <td>0</td>\n",
       "      <td>1</td>\n",
       "      <td>178</td>\n",
       "      <td>0</td>\n",
       "      <td>0.8</td>\n",
       "      <td>2</td>\n",
       "      <td>0</td>\n",
       "      <td>2</td>\n",
       "      <td>1</td>\n",
       "    </tr>\n",
       "    <tr>\n",
       "      <th>4</th>\n",
       "      <td>57</td>\n",
       "      <td>0</td>\n",
       "      <td>0</td>\n",
       "      <td>120</td>\n",
       "      <td>354</td>\n",
       "      <td>0</td>\n",
       "      <td>1</td>\n",
       "      <td>163</td>\n",
       "      <td>1</td>\n",
       "      <td>0.6</td>\n",
       "      <td>2</td>\n",
       "      <td>0</td>\n",
       "      <td>2</td>\n",
       "      <td>1</td>\n",
       "    </tr>\n",
       "  </tbody>\n",
       "</table>\n",
       "</div>"
      ],
      "text/plain": [
       "   age  sex  cp  trestbps  chol  fbs  restecg  thalach  exang  oldpeak  slope  \\\n",
       "0   63    1   3       145   233    1        0      150      0      2.3      0   \n",
       "1   37    1   2       130   250    0        1      187      0      3.5      0   \n",
       "2   41    0   1       130   204    0        0      172      0      1.4      2   \n",
       "3   56    1   1       120   236    0        1      178      0      0.8      2   \n",
       "4   57    0   0       120   354    0        1      163      1      0.6      2   \n",
       "\n",
       "   ca  thal  target  \n",
       "0   0     1       1  \n",
       "1   0     2       1  \n",
       "2   0     2       1  \n",
       "3   0     2       1  \n",
       "4   0     2       1  "
      ]
     },
     "execution_count": 23,
     "metadata": {},
     "output_type": "execute_result"
    }
   ],
   "source": [
    "heart_disease.head()"
   ]
  },
  {
   "cell_type": "code",
   "execution_count": 24,
   "metadata": {},
   "outputs": [],
   "source": [
    "# Split data into features and labels (x,y)\n",
    "x = heart_disease.drop(\"target\", axis=1)\n",
    "y = heart_disease[\"target\"]"
   ]
  },
  {
   "cell_type": "code",
   "execution_count": 25,
   "metadata": {},
   "outputs": [],
   "source": [
    "# setup random seed\n",
    "np.random.seed(42)\n",
    "# Split data into trainning and testing set\n",
    "x_train, x_test, y_train, y_test = train_test_split(x,y,train_size=0.8)"
   ]
  },
  {
   "cell_type": "markdown",
   "metadata": {},
   "source": [
    "We are going to try 3 different machine learning models: \n",
    "1. LogisticRegression\n",
    "2. KNeighborClassifier\n",
    "3. RandomForestsClassifier"
   ]
  },
  {
   "cell_type": "code",
   "execution_count": 26,
   "metadata": {},
   "outputs": [],
   "source": [
    "# Puts model in dictionaries\n",
    "models = {\"Logistic Regression\" : LogisticRegression() ,\n",
    "          \"K-Nearest Neighbor Classifier\" : KNeighborsClassifier(),\n",
    "          \"Random Forest Classifier\" : RandomForestClassifier()\n",
    "         }\n",
    "\n",
    "# Create a function to fit and score models \n",
    "def fit_and_score_model(models, x_train, x_test, y_train, y_test) : \n",
    "    \"\"\"\n",
    "    Fits and evaluate given machine learning models.\n",
    "    models: a dict of difference Scikit-learn machine learning models\n",
    "    x_train: trainning data (no labels)\n",
    "    x_test: testing data(no labels)\n",
    "    y_train: trainning labels\n",
    "    y_test: testing labels    \n",
    "    \"\"\"\n",
    "    \n",
    "    np.random.seed(42)\n",
    "    # Make a dictionary to keep model scores\n",
    "    model_scores = {}\n",
    "    # Loop through models \n",
    "    for name, model in models.items() :\n",
    "        # Fit the model to data\n",
    "        model.fit(x_train, y_train)\n",
    "        # evaluate model and write down model_scores\n",
    "        model_scores[name] = model.score(x_test,y_test)\n",
    "    return model_scores    \n",
    "    \n"
   ]
  },
  {
   "cell_type": "code",
   "execution_count": 27,
   "metadata": {},
   "outputs": [
    {
     "name": "stderr",
     "output_type": "stream",
     "text": [
      "/home/mvt/.local/lib/python3.6/site-packages/sklearn/linear_model/_logistic.py:764: ConvergenceWarning: lbfgs failed to converge (status=1):\n",
      "STOP: TOTAL NO. of ITERATIONS REACHED LIMIT.\n",
      "\n",
      "Increase the number of iterations (max_iter) or scale the data as shown in:\n",
      "    https://scikit-learn.org/stable/modules/preprocessing.html\n",
      "Please also refer to the documentation for alternative solver options:\n",
      "    https://scikit-learn.org/stable/modules/linear_model.html#logistic-regression\n",
      "  extra_warning_msg=_LOGISTIC_SOLVER_CONVERGENCE_MSG)\n"
     ]
    },
    {
     "data": {
      "text/plain": [
       "{'Logistic Regression': 0.8852459016393442,\n",
       " 'K-Nearest Neighbor Classifier': 0.6885245901639344,\n",
       " 'Random Forest Classifier': 0.8360655737704918}"
      ]
     },
     "execution_count": 27,
     "metadata": {},
     "output_type": "execute_result"
    }
   ],
   "source": [
    "model_scores = fit_and_score_model(models, x_train, x_test, y_train, y_test)\n",
    "model_scores"
   ]
  },
  {
   "cell_type": "markdown",
   "metadata": {},
   "source": [
    "### Model comparison"
   ]
  },
  {
   "cell_type": "code",
   "execution_count": 28,
   "metadata": {},
   "outputs": [
    {
     "data": {
      "text/plain": [
       "<AxesSubplot:>"
      ]
     },
     "execution_count": 28,
     "metadata": {},
     "output_type": "execute_result"
    },
    {
     "data": {
      "image/png": "[encoded data removed]",
      "text/plain": [
       "<Figure size 432x288 with 1 Axes>"
      ]
     },
     "metadata": {
      "needs_background": "light"
     },
     "output_type": "display_data"
    }
   ],
   "source": [
    "model_compare = pd.DataFrame(model_scores, index=[\"accuracy\"])\n",
    "\n",
    "model_compare.T.plot(kind=\"bar\")"
   ]
  },
  {
   "cell_type": "markdown",
   "metadata": {},
   "source": [
    "Now we have got a baseline models. However, we knew a model's first predictions aren't always what we should expect, we should based our next steps off. What should we do ? \n",
    "Let's  look a following steps : \n",
    "1. Hyperparameter tuning\n",
    "2. Feature importance\n",
    "3. Confusion matrix\n",
    "4. Cross validation\n",
    "5. precision\n",
    "6. recall\n",
    "7. f1 score\n",
    "8. Classification report \n",
    "9. ROC curve\n",
    "10. Area under the curve (AUC)"
   ]
  },
  {
   "cell_type": "markdown",
   "metadata": {},
   "source": [
    "## Hyperparameter tuning ( by hand)"
   ]
  },
  {
   "cell_type": "code",
   "execution_count": 29,
   "metadata": {},
   "outputs": [
    {
     "data": {
      "text/plain": [
       "([1.0,\n",
       "  0.8099173553719008,\n",
       "  0.7727272727272727,\n",
       "  0.743801652892562,\n",
       "  0.7603305785123967,\n",
       "  0.7520661157024794,\n",
       "  0.743801652892562,\n",
       "  0.7231404958677686,\n",
       "  0.71900826446281,\n",
       "  0.6942148760330579,\n",
       "  0.7272727272727273,\n",
       "  0.6983471074380165,\n",
       "  0.6900826446280992,\n",
       "  0.6942148760330579,\n",
       "  0.6859504132231405,\n",
       "  0.6735537190082644,\n",
       "  0.6859504132231405,\n",
       "  0.6652892561983471,\n",
       "  0.6818181818181818,\n",
       "  0.6694214876033058],\n",
       " [0.6229508196721312,\n",
       "  0.639344262295082,\n",
       "  0.6557377049180327,\n",
       "  0.6721311475409836,\n",
       "  0.6885245901639344,\n",
       "  0.7213114754098361,\n",
       "  0.7049180327868853,\n",
       "  0.6885245901639344,\n",
       "  0.6885245901639344,\n",
       "  0.7049180327868853,\n",
       "  0.7540983606557377,\n",
       "  0.7377049180327869,\n",
       "  0.7377049180327869,\n",
       "  0.7377049180327869,\n",
       "  0.6885245901639344,\n",
       "  0.7213114754098361,\n",
       "  0.6885245901639344,\n",
       "  0.6885245901639344,\n",
       "  0.7049180327868853,\n",
       "  0.6557377049180327])"
      ]
     },
     "execution_count": 29,
     "metadata": {},
     "output_type": "execute_result"
    }
   ],
   "source": [
    "# Let's tune KNN\n",
    "train_scores = []\n",
    "test_scores = []\n",
    "\n",
    "# Create a list different values for n_neighbors\n",
    "neighbors = range(1,21)\n",
    "\n",
    "knn = KNeighborsClassifier()\n",
    "\n",
    "# Loop through different n_neighbors\n",
    "for i in neighbors : \n",
    "    knn.set_params(n_neighbors=i)\n",
    "    knn.fit(x_train, y_train)\n",
    "    # Append train score into train_scores\n",
    "    train_scores.append(knn.score(x_train,y_train))\n",
    "    # Append test score into test_scores    \n",
    "    test_scores.append(knn.score(x_test, y_test))\n",
    "train_scores, test_scores"
   ]
  },
  {
   "cell_type": "code",
   "execution_count": 30,
   "metadata": {
    "scrolled": true
   },
   "outputs": [
    {
     "name": "stdout",
     "output_type": "stream",
     "text": [
      "Maximum KNN score on the test data: 75.41%\n"
     ]
    },
    {
     "data": {
      "image/png": "[encoded data removed]",
      "text/plain": [
       "<Figure size 432x288 with 1 Axes>"
      ]
     },
     "metadata": {
      "needs_background": "light"
     },
     "output_type": "display_data"
    }
   ],
   "source": [
    "plt.plot(neighbors, train_scores, label=\"Train score\")\n",
    "plt.plot(neighbors, test_scores, label=\"Test score\")\n",
    "plt.xticks(np.arange(1,21))\n",
    "plt.xlabel(\"n_neighbors\")\n",
    "plt.ylabel(\"score\")\n",
    "plt.legend()\n",
    "\n",
    "print(f\"Maximum KNN score on the test data: {np.max(test_scores)*100:.2f}%\")"
   ]
  },
  {
   "cell_type": "markdown",
   "metadata": {},
   "source": [
    "### Use GridSearchCV to knn"
   ]
  },
  {
   "cell_type": "markdown",
   "metadata": {},
   "source": [
    "### Hyperparameter tunning with RandomizedSearchCV \n",
    "\n",
    "We are going to tune: \n",
    "* Logistic Regression\n",
    "* Random Forest Classifier"
   ]
  },
  {
   "cell_type": "code",
   "execution_count": 38,
   "metadata": {},
   "outputs": [],
   "source": [
    "# create hyperparameter grid for LogisticRegression\n",
    "log_reg_grid = {\n",
    "    \"C\" : np.logspace(-4,4,20),\n",
    "    \"solver\" : [\"liblinear\"], \n",
    "}\n",
    "\n",
    "# create hyperparameter grid for RandomForestClassifier\n",
    "rf_grid = {\n",
    "    \"n_estimators\" : np.arange(10,1000,50),\n",
    "    \"max_depth\" : [None, 3,5,10],\n",
    "    \"min_samples_split\" : np.arange(2,20,1),\n",
    "    \"min_samples_leaf\" : np.arange(1,20,1),\n",
    "    \"max_features\" : [\"auto\",\"log2\",]\n",
    "}"
   ]
  },
  {
   "cell_type": "code",
   "execution_count": 32,
   "metadata": {},
   "outputs": [
    {
     "name": "stdout",
     "output_type": "stream",
     "text": [
      "Fitting 5 folds for each of 20 candidates, totalling 100 fits\n",
      "[CV] solver=liblinear, C=0.0001 ......................................\n",
      "[CV] ....................... solver=liblinear, C=0.0001, total=   0.0s\n",
      "[CV] solver=liblinear, C=0.0001 ......................................\n",
      "[CV] ....................... solver=liblinear, C=0.0001, total=   0.0s\n",
      "[CV] solver=liblinear, C=0.0001 ......................................\n",
      "[CV] ....................... solver=liblinear, C=0.0001, total=   0.0s\n",
      "[CV] solver=liblinear, C=0.0001 ......................................\n",
      "[CV] ....................... solver=liblinear, C=0.0001, total=   0.0s\n",
      "[CV] solver=liblinear, C=0.0001 ......................................\n",
      "[CV] ....................... solver=liblinear, C=0.0001, total=   0.0s\n",
      "[CV] solver=liblinear, C=0.00026366508987303583 ......................\n",
      "[CV] ....... solver=liblinear, C=0.00026366508987303583, total=   0.0s\n",
      "[CV] solver=liblinear, C=0.00026366508987303583 ......................\n",
      "[CV] ....... solver=liblinear, C=0.00026366508987303583, total=   0.0s\n",
      "[CV] solver=liblinear, C=0.00026366508987303583 ......................\n",
      "[CV] ....... solver=liblinear, C=0.00026366508987303583, total=   0.0s\n",
      "[CV] solver=liblinear, C=0.00026366508987303583 ......................\n",
      "[CV] ....... solver=liblinear, C=0.00026366508987303583, total=   0.0s\n",
      "[CV] solver=liblinear, C=0.00026366508987303583 ......................\n",
      "[CV] ....... solver=liblinear, C=0.00026366508987303583, total=   0.0s\n",
      "[CV] solver=liblinear, C=0.0006951927961775605 .......................\n",
      "[CV] ........ solver=liblinear, C=0.0006951927961775605, total=   0.1s\n",
      "[CV] solver=liblinear, C=0.0006951927961775605 .......................\n",
      "[CV] ........ solver=liblinear, C=0.0006951927961775605, total=   0.0s\n",
      "[CV] solver=liblinear, C=0.0006951927961775605 .......................\n",
      "[CV] ........ solver=liblinear, C=0.0006951927961775605, total=   0.0s\n",
      "[CV] solver=liblinear, C=0.0006951927961775605 .......................\n",
      "[CV] ........ solver=liblinear, C=0.0006951927961775605, total=   0.0s\n",
      "[CV] solver=liblinear, C=0.0006951927961775605 .......................\n",
      "[CV] ........ solver=liblinear, C=0.0006951927961775605, total=   0.0s\n",
      "[CV] solver=liblinear, C=0.0018329807108324356 .......................\n",
      "[CV] ........ solver=liblinear, C=0.0018329807108324356, total=   0.0s\n",
      "[CV] solver=liblinear, C=0.0018329807108324356 .......................\n"
     ]
    },
    {
     "name": "stderr",
     "output_type": "stream",
     "text": [
      "[Parallel(n_jobs=1)]: Using backend SequentialBackend with 1 concurrent workers.\n",
      "[Parallel(n_jobs=1)]: Done   1 out of   1 | elapsed:    0.0s remaining:    0.0s\n"
     ]
    },
    {
     "name": "stdout",
     "output_type": "stream",
     "text": [
      "[CV] ........ solver=liblinear, C=0.0018329807108324356, total=   0.0s\n",
      "[CV] solver=liblinear, C=0.0018329807108324356 .......................\n",
      "[CV] ........ solver=liblinear, C=0.0018329807108324356, total=   0.0s\n",
      "[CV] solver=liblinear, C=0.0018329807108324356 .......................\n",
      "[CV] ........ solver=liblinear, C=0.0018329807108324356, total=   0.0s\n",
      "[CV] solver=liblinear, C=0.0018329807108324356 .......................\n",
      "[CV] ........ solver=liblinear, C=0.0018329807108324356, total=   0.0s\n",
      "[CV] solver=liblinear, C=0.004832930238571752 ........................\n",
      "[CV] ......... solver=liblinear, C=0.004832930238571752, total=   0.0s\n",
      "[CV] solver=liblinear, C=0.004832930238571752 ........................\n",
      "[CV] ......... solver=liblinear, C=0.004832930238571752, total=   0.0s\n",
      "[CV] solver=liblinear, C=0.004832930238571752 ........................\n",
      "[CV] ......... solver=liblinear, C=0.004832930238571752, total=   0.0s\n",
      "[CV] solver=liblinear, C=0.004832930238571752 ........................\n",
      "[CV] ......... solver=liblinear, C=0.004832930238571752, total=   0.0s\n",
      "[CV] solver=liblinear, C=0.004832930238571752 ........................\n",
      "[CV] ......... solver=liblinear, C=0.004832930238571752, total=   0.0s\n",
      "[CV] solver=liblinear, C=0.012742749857031334 ........................\n",
      "[CV] ......... solver=liblinear, C=0.012742749857031334, total=   0.0s\n",
      "[CV] solver=liblinear, C=0.012742749857031334 ........................\n",
      "[CV] ......... solver=liblinear, C=0.012742749857031334, total=   0.0s\n",
      "[CV] solver=liblinear, C=0.012742749857031334 ........................\n",
      "[CV] ......... solver=liblinear, C=0.012742749857031334, total=   0.0s\n",
      "[CV] solver=liblinear, C=0.012742749857031334 ........................\n",
      "[CV] ......... solver=liblinear, C=0.012742749857031334, total=   0.0s\n",
      "[CV] solver=liblinear, C=0.012742749857031334 ........................\n",
      "[CV] ......... solver=liblinear, C=0.012742749857031334, total=   0.0s\n",
      "[CV] solver=liblinear, C=0.03359818286283781 .........................\n",
      "[CV] .......... solver=liblinear, C=0.03359818286283781, total=   0.0s\n",
      "[CV] solver=liblinear, C=0.03359818286283781 .........................\n",
      "[CV] .......... solver=liblinear, C=0.03359818286283781, total=   0.0s\n",
      "[CV] solver=liblinear, C=0.03359818286283781 .........................\n",
      "[CV] .......... solver=liblinear, C=0.03359818286283781, total=   0.0s\n",
      "[CV] solver=liblinear, C=0.03359818286283781 .........................\n",
      "[CV] .......... solver=liblinear, C=0.03359818286283781, total=   0.0s\n",
      "[CV] solver=liblinear, C=0.03359818286283781 .........................\n",
      "[CV] .......... solver=liblinear, C=0.03359818286283781, total=   0.0s\n",
      "[CV] solver=liblinear, C=0.08858667904100823 .........................\n",
      "[CV] .......... solver=liblinear, C=0.08858667904100823, total=   0.0s\n",
      "[CV] solver=liblinear, C=0.08858667904100823 .........................\n",
      "[CV] .......... solver=liblinear, C=0.08858667904100823, total=   0.0s\n",
      "[CV] solver=liblinear, C=0.08858667904100823 .........................\n",
      "[CV] .......... solver=liblinear, C=0.08858667904100823, total=   0.0s\n",
      "[CV] solver=liblinear, C=0.08858667904100823 .........................\n",
      "[CV] .......... solver=liblinear, C=0.08858667904100823, total=   0.0s\n",
      "[CV] solver=liblinear, C=0.08858667904100823 .........................\n",
      "[CV] .......... solver=liblinear, C=0.08858667904100823, total=   0.0s\n",
      "[CV] solver=liblinear, C=0.23357214690901212 .........................\n",
      "[CV] .......... solver=liblinear, C=0.23357214690901212, total=   0.0s\n",
      "[CV] solver=liblinear, C=0.23357214690901212 .........................\n",
      "[CV] .......... solver=liblinear, C=0.23357214690901212, total=   0.0s\n",
      "[CV] solver=liblinear, C=0.23357214690901212 .........................\n",
      "[CV] .......... solver=liblinear, C=0.23357214690901212, total=   0.0s\n",
      "[CV] solver=liblinear, C=0.23357214690901212 .........................\n",
      "[CV] .......... solver=liblinear, C=0.23357214690901212, total=   0.0s\n",
      "[CV] solver=liblinear, C=0.23357214690901212 .........................\n",
      "[CV] .......... solver=liblinear, C=0.23357214690901212, total=   0.0s\n",
      "[CV] solver=liblinear, C=0.615848211066026 ...........................\n",
      "[CV] ............ solver=liblinear, C=0.615848211066026, total=   0.0s\n",
      "[CV] solver=liblinear, C=0.615848211066026 ...........................\n",
      "[CV] ............ solver=liblinear, C=0.615848211066026, total=   0.0s\n",
      "[CV] solver=liblinear, C=0.615848211066026 ...........................\n",
      "[CV] ............ solver=liblinear, C=0.615848211066026, total=   0.0s\n",
      "[CV] solver=liblinear, C=0.615848211066026 ...........................\n",
      "[CV] ............ solver=liblinear, C=0.615848211066026, total=   0.0s\n",
      "[CV] solver=liblinear, C=0.615848211066026 ...........................\n",
      "[CV] ............ solver=liblinear, C=0.615848211066026, total=   0.0s\n",
      "[CV] solver=liblinear, C=1.623776739188721 ...........................\n",
      "[CV] ............ solver=liblinear, C=1.623776739188721, total=   0.0s\n",
      "[CV] solver=liblinear, C=1.623776739188721 ...........................\n",
      "[CV] ............ solver=liblinear, C=1.623776739188721, total=   0.0s\n",
      "[CV] solver=liblinear, C=1.623776739188721 ...........................\n",
      "[CV] ............ solver=liblinear, C=1.623776739188721, total=   0.0s\n",
      "[CV] solver=liblinear, C=1.623776739188721 ...........................\n",
      "[CV] ............ solver=liblinear, C=1.623776739188721, total=   0.0s\n",
      "[CV] solver=liblinear, C=1.623776739188721 ...........................\n",
      "[CV] ............ solver=liblinear, C=1.623776739188721, total=   0.0s\n",
      "[CV] solver=liblinear, C=4.281332398719396 ...........................\n",
      "[CV] ............ solver=liblinear, C=4.281332398719396, total=   0.0s\n",
      "[CV] solver=liblinear, C=4.281332398719396 ...........................\n",
      "[CV] ............ solver=liblinear, C=4.281332398719396, total=   0.0s\n",
      "[CV] solver=liblinear, C=4.281332398719396 ...........................\n",
      "[CV] ............ solver=liblinear, C=4.281332398719396, total=   0.0s\n",
      "[CV] solver=liblinear, C=4.281332398719396 ...........................\n",
      "[CV] ............ solver=liblinear, C=4.281332398719396, total=   0.0s\n",
      "[CV] solver=liblinear, C=4.281332398719396 ...........................\n",
      "[CV] ............ solver=liblinear, C=4.281332398719396, total=   0.0s\n",
      "[CV] solver=liblinear, C=11.288378916846883 ..........................\n",
      "[CV] ........... solver=liblinear, C=11.288378916846883, total=   0.0s\n",
      "[CV] solver=liblinear, C=11.288378916846883 ..........................\n",
      "[CV] ........... solver=liblinear, C=11.288378916846883, total=   0.0s\n",
      "[CV] solver=liblinear, C=11.288378916846883 ..........................\n",
      "[CV] ........... solver=liblinear, C=11.288378916846883, total=   0.0s\n",
      "[CV] solver=liblinear, C=11.288378916846883 ..........................\n",
      "[CV] ........... solver=liblinear, C=11.288378916846883, total=   0.0s\n",
      "[CV] solver=liblinear, C=11.288378916846883 ..........................\n",
      "[CV] ........... solver=liblinear, C=11.288378916846883, total=   0.0s\n",
      "[CV] solver=liblinear, C=29.763514416313132 ..........................\n",
      "[CV] ........... solver=liblinear, C=29.763514416313132, total=   0.0s\n",
      "[CV] solver=liblinear, C=29.763514416313132 ..........................\n",
      "[CV] ........... solver=liblinear, C=29.763514416313132, total=   0.0s\n",
      "[CV] solver=liblinear, C=29.763514416313132 ..........................\n",
      "[CV] ........... solver=liblinear, C=29.763514416313132, total=   0.0s\n",
      "[CV] solver=liblinear, C=29.763514416313132 ..........................\n",
      "[CV] ........... solver=liblinear, C=29.763514416313132, total=   0.0s\n",
      "[CV] solver=liblinear, C=29.763514416313132 ..........................\n",
      "[CV] ........... solver=liblinear, C=29.763514416313132, total=   0.0s\n",
      "[CV] solver=liblinear, C=78.47599703514607 ...........................\n",
      "[CV] ............ solver=liblinear, C=78.47599703514607, total=   0.0s\n",
      "[CV] solver=liblinear, C=78.47599703514607 ...........................\n",
      "[CV] ............ solver=liblinear, C=78.47599703514607, total=   0.0s\n",
      "[CV] solver=liblinear, C=78.47599703514607 ...........................\n",
      "[CV] ............ solver=liblinear, C=78.47599703514607, total=   0.0s\n",
      "[CV] solver=liblinear, C=78.47599703514607 ...........................\n",
      "[CV] ............ solver=liblinear, C=78.47599703514607, total=   0.0s\n",
      "[CV] solver=liblinear, C=78.47599703514607 ...........................\n",
      "[CV] ............ solver=liblinear, C=78.47599703514607, total=   0.0s\n",
      "[CV] solver=liblinear, C=206.913808111479 ............................\n",
      "[CV] ............. solver=liblinear, C=206.913808111479, total=   0.0s\n",
      "[CV] solver=liblinear, C=206.913808111479 ............................\n",
      "[CV] ............. solver=liblinear, C=206.913808111479, total=   0.0s\n",
      "[CV] solver=liblinear, C=206.913808111479 ............................\n",
      "[CV] ............. solver=liblinear, C=206.913808111479, total=   0.0s\n",
      "[CV] solver=liblinear, C=206.913808111479 ............................\n",
      "[CV] ............. solver=liblinear, C=206.913808111479, total=   0.0s\n",
      "[CV] solver=liblinear, C=206.913808111479 ............................\n",
      "[CV] ............. solver=liblinear, C=206.913808111479, total=   0.0s\n",
      "[CV] solver=liblinear, C=545.5594781168514 ...........................\n",
      "[CV] ............ solver=liblinear, C=545.5594781168514, total=   0.0s\n",
      "[CV] solver=liblinear, C=545.5594781168514 ...........................\n",
      "[CV] ............ solver=liblinear, C=545.5594781168514, total=   0.0s\n",
      "[CV] solver=liblinear, C=545.5594781168514 ...........................\n",
      "[CV] ............ solver=liblinear, C=545.5594781168514, total=   0.0s\n",
      "[CV] solver=liblinear, C=545.5594781168514 ...........................\n",
      "[CV] ............ solver=liblinear, C=545.5594781168514, total=   0.0s\n",
      "[CV] solver=liblinear, C=545.5594781168514 ...........................\n",
      "[CV] ............ solver=liblinear, C=545.5594781168514, total=   0.0s\n",
      "[CV] solver=liblinear, C=1438.44988828766 ............................\n",
      "[CV] ............. solver=liblinear, C=1438.44988828766, total=   0.0s\n",
      "[CV] solver=liblinear, C=1438.44988828766 ............................\n"
     ]
    },
    {
     "name": "stdout",
     "output_type": "stream",
     "text": [
      "[CV] ............. solver=liblinear, C=1438.44988828766, total=   0.0s\n",
      "[CV] solver=liblinear, C=1438.44988828766 ............................\n",
      "[CV] ............. solver=liblinear, C=1438.44988828766, total=   0.0s\n",
      "[CV] solver=liblinear, C=1438.44988828766 ............................\n",
      "[CV] ............. solver=liblinear, C=1438.44988828766, total=   0.0s\n",
      "[CV] solver=liblinear, C=1438.44988828766 ............................\n",
      "[CV] ............. solver=liblinear, C=1438.44988828766, total=   0.0s\n",
      "[CV] solver=liblinear, C=3792.690190732246 ...........................\n",
      "[CV] ............ solver=liblinear, C=3792.690190732246, total=   0.0s\n",
      "[CV] solver=liblinear, C=3792.690190732246 ...........................\n",
      "[CV] ............ solver=liblinear, C=3792.690190732246, total=   0.0s\n",
      "[CV] solver=liblinear, C=3792.690190732246 ...........................\n",
      "[CV] ............ solver=liblinear, C=3792.690190732246, total=   0.0s\n",
      "[CV] solver=liblinear, C=3792.690190732246 ...........................\n",
      "[CV] ............ solver=liblinear, C=3792.690190732246, total=   0.0s\n",
      "[CV] solver=liblinear, C=3792.690190732246 ...........................\n",
      "[CV] ............ solver=liblinear, C=3792.690190732246, total=   0.0s\n",
      "[CV] solver=liblinear, C=10000.0 .....................................\n",
      "[CV] ...................... solver=liblinear, C=10000.0, total=   0.0s\n",
      "[CV] solver=liblinear, C=10000.0 .....................................\n",
      "[CV] ...................... solver=liblinear, C=10000.0, total=   0.0s\n",
      "[CV] solver=liblinear, C=10000.0 .....................................\n",
      "[CV] ...................... solver=liblinear, C=10000.0, total=   0.0s\n",
      "[CV] solver=liblinear, C=10000.0 .....................................\n",
      "[CV] ...................... solver=liblinear, C=10000.0, total=   0.0s\n",
      "[CV] solver=liblinear, C=10000.0 .....................................\n",
      "[CV] ...................... solver=liblinear, C=10000.0, total=   0.0s\n"
     ]
    },
    {
     "name": "stderr",
     "output_type": "stream",
     "text": [
      "[Parallel(n_jobs=1)]: Done 100 out of 100 | elapsed:    1.0s finished\n"
     ]
    },
    {
     "data": {
      "text/plain": [
       "RandomizedSearchCV(cv=5, estimator=LogisticRegression(), n_iter=20,\n",
       "                   param_distributions={'C': array([1.00000000e-04, 2.63665090e-04, 6.95192796e-04, 1.83298071e-03,\n",
       "       4.83293024e-03, 1.27427499e-02, 3.35981829e-02, 8.85866790e-02,\n",
       "       2.33572147e-01, 6.15848211e-01, 1.62377674e+00, 4.28133240e+00,\n",
       "       1.12883789e+01, 2.97635144e+01, 7.84759970e+01, 2.06913808e+02,\n",
       "       5.45559478e+02, 1.43844989e+03, 3.79269019e+03, 1.00000000e+04]),\n",
       "                                        'solver': ['liblinear']},\n",
       "                   verbose=2)"
      ]
     },
     "execution_count": 32,
     "metadata": {},
     "output_type": "execute_result"
    }
   ],
   "source": [
    "# setup random seed\n",
    "np.random.seed(42)\n",
    "\n",
    "# setup random hyperparameter search for LogisticRegression\n",
    "rs_log_res = RandomizedSearchCV(LogisticRegression(),log_reg_grid, cv=5, n_iter=20, verbose=2)\n",
    "rs_log_res.fit(x_train,y_train)"
   ]
  },
  {
   "cell_type": "code",
   "execution_count": 33,
   "metadata": {},
   "outputs": [
    {
     "data": {
      "text/plain": [
       "{'solver': 'liblinear', 'C': 0.23357214690901212}"
      ]
     },
     "execution_count": 33,
     "metadata": {},
     "output_type": "execute_result"
    }
   ],
   "source": [
    "rs_log_res.best_params_"
   ]
  },
  {
   "cell_type": "code",
   "execution_count": 34,
   "metadata": {},
   "outputs": [
    {
     "data": {
      "text/plain": [
       "0.8852459016393442"
      ]
     },
     "execution_count": 34,
     "metadata": {},
     "output_type": "execute_result"
    }
   ],
   "source": [
    "rs_log_res.score(x_test,y_test)"
   ]
  },
  {
   "cell_type": "markdown",
   "metadata": {},
   "source": [
    "Now we tune RandomForestClassifier(), let's do the same as LogistcRegression()"
   ]
  },
  {
   "cell_type": "code",
   "execution_count": 39,
   "metadata": {},
   "outputs": [
    {
     "name": "stdout",
     "output_type": "stream",
     "text": [
      "Fitting 5 folds for each of 20 candidates, totalling 100 fits\n",
      "[CV] n_estimators=810, min_samples_split=18, min_samples_leaf=2, max_features=log2, max_depth=3 \n"
     ]
    },
    {
     "name": "stderr",
     "output_type": "stream",
     "text": [
      "[Parallel(n_jobs=1)]: Using backend SequentialBackend with 1 concurrent workers.\n"
     ]
    },
    {
     "name": "stdout",
     "output_type": "stream",
     "text": [
      "[CV]  n_estimators=810, min_samples_split=18, min_samples_leaf=2, max_features=log2, max_depth=3, total=   1.4s\n",
      "[CV] n_estimators=810, min_samples_split=18, min_samples_leaf=2, max_features=log2, max_depth=3 \n"
     ]
    },
    {
     "name": "stderr",
     "output_type": "stream",
     "text": [
      "[Parallel(n_jobs=1)]: Done   1 out of   1 | elapsed:    1.4s remaining:    0.0s\n"
     ]
    },
    {
     "name": "stdout",
     "output_type": "stream",
     "text": [
      "[CV]  n_estimators=810, min_samples_split=18, min_samples_leaf=2, max_features=log2, max_depth=3, total=   1.3s\n",
      "[CV] n_estimators=810, min_samples_split=18, min_samples_leaf=2, max_features=log2, max_depth=3 \n",
      "[CV]  n_estimators=810, min_samples_split=18, min_samples_leaf=2, max_features=log2, max_depth=3, total=   1.4s\n",
      "[CV] n_estimators=810, min_samples_split=18, min_samples_leaf=2, max_features=log2, max_depth=3 \n",
      "[CV]  n_estimators=810, min_samples_split=18, min_samples_leaf=2, max_features=log2, max_depth=3, total=   1.5s\n",
      "[CV] n_estimators=810, min_samples_split=18, min_samples_leaf=2, max_features=log2, max_depth=3 \n",
      "[CV]  n_estimators=810, min_samples_split=18, min_samples_leaf=2, max_features=log2, max_depth=3, total=   1.4s\n",
      "[CV] n_estimators=310, min_samples_split=18, min_samples_leaf=8, max_features=auto, max_depth=5 \n",
      "[CV]  n_estimators=310, min_samples_split=18, min_samples_leaf=8, max_features=auto, max_depth=5, total=   0.6s\n",
      "[CV] n_estimators=310, min_samples_split=18, min_samples_leaf=8, max_features=auto, max_depth=5 \n",
      "[CV]  n_estimators=310, min_samples_split=18, min_samples_leaf=8, max_features=auto, max_depth=5, total=   0.5s\n",
      "[CV] n_estimators=310, min_samples_split=18, min_samples_leaf=8, max_features=auto, max_depth=5 \n",
      "[CV]  n_estimators=310, min_samples_split=18, min_samples_leaf=8, max_features=auto, max_depth=5, total=   0.6s\n",
      "[CV] n_estimators=310, min_samples_split=18, min_samples_leaf=8, max_features=auto, max_depth=5 \n",
      "[CV]  n_estimators=310, min_samples_split=18, min_samples_leaf=8, max_features=auto, max_depth=5, total=   0.5s\n",
      "[CV] n_estimators=310, min_samples_split=18, min_samples_leaf=8, max_features=auto, max_depth=5 \n",
      "[CV]  n_estimators=310, min_samples_split=18, min_samples_leaf=8, max_features=auto, max_depth=5, total=   0.6s\n",
      "[CV] n_estimators=460, min_samples_split=7, min_samples_leaf=6, max_features=auto, max_depth=5 \n",
      "[CV]  n_estimators=460, min_samples_split=7, min_samples_leaf=6, max_features=auto, max_depth=5, total=   0.8s\n",
      "[CV] n_estimators=460, min_samples_split=7, min_samples_leaf=6, max_features=auto, max_depth=5 \n",
      "[CV]  n_estimators=460, min_samples_split=7, min_samples_leaf=6, max_features=auto, max_depth=5, total=   0.9s\n",
      "[CV] n_estimators=460, min_samples_split=7, min_samples_leaf=6, max_features=auto, max_depth=5 \n",
      "[CV]  n_estimators=460, min_samples_split=7, min_samples_leaf=6, max_features=auto, max_depth=5, total=   1.0s\n",
      "[CV] n_estimators=460, min_samples_split=7, min_samples_leaf=6, max_features=auto, max_depth=5 \n",
      "[CV]  n_estimators=460, min_samples_split=7, min_samples_leaf=6, max_features=auto, max_depth=5, total=   1.1s\n",
      "[CV] n_estimators=460, min_samples_split=7, min_samples_leaf=6, max_features=auto, max_depth=5 \n",
      "[CV]  n_estimators=460, min_samples_split=7, min_samples_leaf=6, max_features=auto, max_depth=5, total=   0.9s\n",
      "[CV] n_estimators=210, min_samples_split=7, min_samples_leaf=6, max_features=auto, max_depth=5 \n",
      "[CV]  n_estimators=210, min_samples_split=7, min_samples_leaf=6, max_features=auto, max_depth=5, total=   0.4s\n",
      "[CV] n_estimators=210, min_samples_split=7, min_samples_leaf=6, max_features=auto, max_depth=5 \n",
      "[CV]  n_estimators=210, min_samples_split=7, min_samples_leaf=6, max_features=auto, max_depth=5, total=   0.4s\n",
      "[CV] n_estimators=210, min_samples_split=7, min_samples_leaf=6, max_features=auto, max_depth=5 \n",
      "[CV]  n_estimators=210, min_samples_split=7, min_samples_leaf=6, max_features=auto, max_depth=5, total=   0.4s\n",
      "[CV] n_estimators=210, min_samples_split=7, min_samples_leaf=6, max_features=auto, max_depth=5 \n",
      "[CV]  n_estimators=210, min_samples_split=7, min_samples_leaf=6, max_features=auto, max_depth=5, total=   0.4s\n",
      "[CV] n_estimators=210, min_samples_split=7, min_samples_leaf=6, max_features=auto, max_depth=5 \n",
      "[CV]  n_estimators=210, min_samples_split=7, min_samples_leaf=6, max_features=auto, max_depth=5, total=   0.4s\n",
      "[CV] n_estimators=960, min_samples_split=18, min_samples_leaf=15, max_features=log2, max_depth=None \n",
      "[CV]  n_estimators=960, min_samples_split=18, min_samples_leaf=15, max_features=log2, max_depth=None, total=   1.7s\n",
      "[CV] n_estimators=960, min_samples_split=18, min_samples_leaf=15, max_features=log2, max_depth=None \n",
      "[CV]  n_estimators=960, min_samples_split=18, min_samples_leaf=15, max_features=log2, max_depth=None, total=   2.1s\n",
      "[CV] n_estimators=960, min_samples_split=18, min_samples_leaf=15, max_features=log2, max_depth=None \n",
      "[CV]  n_estimators=960, min_samples_split=18, min_samples_leaf=15, max_features=log2, max_depth=None, total=   1.5s\n",
      "[CV] n_estimators=960, min_samples_split=18, min_samples_leaf=15, max_features=log2, max_depth=None \n",
      "[CV]  n_estimators=960, min_samples_split=18, min_samples_leaf=15, max_features=log2, max_depth=None, total=   1.5s\n",
      "[CV] n_estimators=960, min_samples_split=18, min_samples_leaf=15, max_features=log2, max_depth=None \n",
      "[CV]  n_estimators=960, min_samples_split=18, min_samples_leaf=15, max_features=log2, max_depth=None, total=   1.6s\n",
      "[CV] n_estimators=910, min_samples_split=5, min_samples_leaf=16, max_features=auto, max_depth=3 \n",
      "[CV]  n_estimators=910, min_samples_split=5, min_samples_leaf=16, max_features=auto, max_depth=3, total=   1.5s\n",
      "[CV] n_estimators=910, min_samples_split=5, min_samples_leaf=16, max_features=auto, max_depth=3 \n",
      "[CV]  n_estimators=910, min_samples_split=5, min_samples_leaf=16, max_features=auto, max_depth=3, total=   1.5s\n",
      "[CV] n_estimators=910, min_samples_split=5, min_samples_leaf=16, max_features=auto, max_depth=3 \n",
      "[CV]  n_estimators=910, min_samples_split=5, min_samples_leaf=16, max_features=auto, max_depth=3, total=   1.5s\n",
      "[CV] n_estimators=910, min_samples_split=5, min_samples_leaf=16, max_features=auto, max_depth=3 \n",
      "[CV]  n_estimators=910, min_samples_split=5, min_samples_leaf=16, max_features=auto, max_depth=3, total=   1.5s\n",
      "[CV] n_estimators=910, min_samples_split=5, min_samples_leaf=16, max_features=auto, max_depth=3 \n",
      "[CV]  n_estimators=910, min_samples_split=5, min_samples_leaf=16, max_features=auto, max_depth=3, total=   1.5s\n",
      "[CV] n_estimators=460, min_samples_split=5, min_samples_leaf=16, max_features=log2, max_depth=3 \n",
      "[CV]  n_estimators=460, min_samples_split=5, min_samples_leaf=16, max_features=log2, max_depth=3, total=   0.7s\n",
      "[CV] n_estimators=460, min_samples_split=5, min_samples_leaf=16, max_features=log2, max_depth=3 \n",
      "[CV]  n_estimators=460, min_samples_split=5, min_samples_leaf=16, max_features=log2, max_depth=3, total=   0.8s\n",
      "[CV] n_estimators=460, min_samples_split=5, min_samples_leaf=16, max_features=log2, max_depth=3 \n",
      "[CV]  n_estimators=460, min_samples_split=5, min_samples_leaf=16, max_features=log2, max_depth=3, total=   0.8s\n",
      "[CV] n_estimators=460, min_samples_split=5, min_samples_leaf=16, max_features=log2, max_depth=3 \n",
      "[CV]  n_estimators=460, min_samples_split=5, min_samples_leaf=16, max_features=log2, max_depth=3, total=   0.8s\n",
      "[CV] n_estimators=460, min_samples_split=5, min_samples_leaf=16, max_features=log2, max_depth=3 \n",
      "[CV]  n_estimators=460, min_samples_split=5, min_samples_leaf=16, max_features=log2, max_depth=3, total=   0.8s\n",
      "[CV] n_estimators=310, min_samples_split=16, min_samples_leaf=4, max_features=auto, max_depth=10 \n",
      "[CV]  n_estimators=310, min_samples_split=16, min_samples_leaf=4, max_features=auto, max_depth=10, total=   0.6s\n",
      "[CV] n_estimators=310, min_samples_split=16, min_samples_leaf=4, max_features=auto, max_depth=10 \n",
      "[CV]  n_estimators=310, min_samples_split=16, min_samples_leaf=4, max_features=auto, max_depth=10, total=   0.5s\n",
      "[CV] n_estimators=310, min_samples_split=16, min_samples_leaf=4, max_features=auto, max_depth=10 \n",
      "[CV]  n_estimators=310, min_samples_split=16, min_samples_leaf=4, max_features=auto, max_depth=10, total=   0.5s\n",
      "[CV] n_estimators=310, min_samples_split=16, min_samples_leaf=4, max_features=auto, max_depth=10 \n",
      "[CV]  n_estimators=310, min_samples_split=16, min_samples_leaf=4, max_features=auto, max_depth=10, total=   0.5s\n",
      "[CV] n_estimators=310, min_samples_split=16, min_samples_leaf=4, max_features=auto, max_depth=10 \n",
      "[CV]  n_estimators=310, min_samples_split=16, min_samples_leaf=4, max_features=auto, max_depth=10, total=   0.6s\n",
      "[CV] n_estimators=410, min_samples_split=19, min_samples_leaf=10, max_features=log2, max_depth=5 \n",
      "[CV]  n_estimators=410, min_samples_split=19, min_samples_leaf=10, max_features=log2, max_depth=5, total=   0.7s\n",
      "[CV] n_estimators=410, min_samples_split=19, min_samples_leaf=10, max_features=log2, max_depth=5 \n"
     ]
    },
    {
     "name": "stdout",
     "output_type": "stream",
     "text": [
      "[CV]  n_estimators=410, min_samples_split=19, min_samples_leaf=10, max_features=log2, max_depth=5, total=   0.7s\n",
      "[CV] n_estimators=410, min_samples_split=19, min_samples_leaf=10, max_features=log2, max_depth=5 \n",
      "[CV]  n_estimators=410, min_samples_split=19, min_samples_leaf=10, max_features=log2, max_depth=5, total=   1.0s\n",
      "[CV] n_estimators=410, min_samples_split=19, min_samples_leaf=10, max_features=log2, max_depth=5 \n",
      "[CV]  n_estimators=410, min_samples_split=19, min_samples_leaf=10, max_features=log2, max_depth=5, total=   1.0s\n",
      "[CV] n_estimators=410, min_samples_split=19, min_samples_leaf=10, max_features=log2, max_depth=5 \n",
      "[CV]  n_estimators=410, min_samples_split=19, min_samples_leaf=10, max_features=log2, max_depth=5, total=   1.0s\n",
      "[CV] n_estimators=910, min_samples_split=18, min_samples_leaf=2, max_features=auto, max_depth=5 \n",
      "[CV]  n_estimators=910, min_samples_split=18, min_samples_leaf=2, max_features=auto, max_depth=5, total=   2.1s\n",
      "[CV] n_estimators=910, min_samples_split=18, min_samples_leaf=2, max_features=auto, max_depth=5 \n",
      "[CV]  n_estimators=910, min_samples_split=18, min_samples_leaf=2, max_features=auto, max_depth=5, total=   1.4s\n",
      "[CV] n_estimators=910, min_samples_split=18, min_samples_leaf=2, max_features=auto, max_depth=5 \n",
      "[CV]  n_estimators=910, min_samples_split=18, min_samples_leaf=2, max_features=auto, max_depth=5, total=   1.5s\n",
      "[CV] n_estimators=910, min_samples_split=18, min_samples_leaf=2, max_features=auto, max_depth=5 \n",
      "[CV]  n_estimators=910, min_samples_split=18, min_samples_leaf=2, max_features=auto, max_depth=5, total=   1.6s\n",
      "[CV] n_estimators=910, min_samples_split=18, min_samples_leaf=2, max_features=auto, max_depth=5 \n",
      "[CV]  n_estimators=910, min_samples_split=18, min_samples_leaf=2, max_features=auto, max_depth=5, total=   2.5s\n",
      "[CV] n_estimators=610, min_samples_split=2, min_samples_leaf=11, max_features=log2, max_depth=3 \n",
      "[CV]  n_estimators=610, min_samples_split=2, min_samples_leaf=11, max_features=log2, max_depth=3, total=   1.2s\n",
      "[CV] n_estimators=610, min_samples_split=2, min_samples_leaf=11, max_features=log2, max_depth=3 \n",
      "[CV]  n_estimators=610, min_samples_split=2, min_samples_leaf=11, max_features=log2, max_depth=3, total=   1.0s\n",
      "[CV] n_estimators=610, min_samples_split=2, min_samples_leaf=11, max_features=log2, max_depth=3 \n",
      "[CV]  n_estimators=610, min_samples_split=2, min_samples_leaf=11, max_features=log2, max_depth=3, total=   1.0s\n",
      "[CV] n_estimators=610, min_samples_split=2, min_samples_leaf=11, max_features=log2, max_depth=3 \n",
      "[CV]  n_estimators=610, min_samples_split=2, min_samples_leaf=11, max_features=log2, max_depth=3, total=   1.0s\n",
      "[CV] n_estimators=610, min_samples_split=2, min_samples_leaf=11, max_features=log2, max_depth=3 \n",
      "[CV]  n_estimators=610, min_samples_split=2, min_samples_leaf=11, max_features=log2, max_depth=3, total=   1.0s\n",
      "[CV] n_estimators=810, min_samples_split=14, min_samples_leaf=17, max_features=log2, max_depth=10 \n",
      "[CV]  n_estimators=810, min_samples_split=14, min_samples_leaf=17, max_features=log2, max_depth=10, total=   1.3s\n",
      "[CV] n_estimators=810, min_samples_split=14, min_samples_leaf=17, max_features=log2, max_depth=10 \n",
      "[CV]  n_estimators=810, min_samples_split=14, min_samples_leaf=17, max_features=log2, max_depth=10, total=   1.7s\n",
      "[CV] n_estimators=810, min_samples_split=14, min_samples_leaf=17, max_features=log2, max_depth=10 \n",
      "[CV]  n_estimators=810, min_samples_split=14, min_samples_leaf=17, max_features=log2, max_depth=10, total=   1.5s\n",
      "[CV] n_estimators=810, min_samples_split=14, min_samples_leaf=17, max_features=log2, max_depth=10 \n",
      "[CV]  n_estimators=810, min_samples_split=14, min_samples_leaf=17, max_features=log2, max_depth=10, total=   1.4s\n",
      "[CV] n_estimators=810, min_samples_split=14, min_samples_leaf=17, max_features=log2, max_depth=10 \n",
      "[CV]  n_estimators=810, min_samples_split=14, min_samples_leaf=17, max_features=log2, max_depth=10, total=   1.3s\n",
      "[CV] n_estimators=510, min_samples_split=15, min_samples_leaf=9, max_features=auto, max_depth=3 \n",
      "[CV]  n_estimators=510, min_samples_split=15, min_samples_leaf=9, max_features=auto, max_depth=3, total=   0.8s\n",
      "[CV] n_estimators=510, min_samples_split=15, min_samples_leaf=9, max_features=auto, max_depth=3 \n",
      "[CV]  n_estimators=510, min_samples_split=15, min_samples_leaf=9, max_features=auto, max_depth=3, total=   1.0s\n",
      "[CV] n_estimators=510, min_samples_split=15, min_samples_leaf=9, max_features=auto, max_depth=3 \n",
      "[CV]  n_estimators=510, min_samples_split=15, min_samples_leaf=9, max_features=auto, max_depth=3, total=   0.9s\n",
      "[CV] n_estimators=510, min_samples_split=15, min_samples_leaf=9, max_features=auto, max_depth=3 \n",
      "[CV]  n_estimators=510, min_samples_split=15, min_samples_leaf=9, max_features=auto, max_depth=3, total=   0.9s\n",
      "[CV] n_estimators=510, min_samples_split=15, min_samples_leaf=9, max_features=auto, max_depth=3 \n",
      "[CV]  n_estimators=510, min_samples_split=15, min_samples_leaf=9, max_features=auto, max_depth=3, total=   0.8s\n",
      "[CV] n_estimators=510, min_samples_split=18, min_samples_leaf=2, max_features=auto, max_depth=5 \n",
      "[CV]  n_estimators=510, min_samples_split=18, min_samples_leaf=2, max_features=auto, max_depth=5, total=   1.1s\n",
      "[CV] n_estimators=510, min_samples_split=18, min_samples_leaf=2, max_features=auto, max_depth=5 \n",
      "[CV]  n_estimators=510, min_samples_split=18, min_samples_leaf=2, max_features=auto, max_depth=5, total=   0.8s\n",
      "[CV] n_estimators=510, min_samples_split=18, min_samples_leaf=2, max_features=auto, max_depth=5 \n",
      "[CV]  n_estimators=510, min_samples_split=18, min_samples_leaf=2, max_features=auto, max_depth=5, total=   0.9s\n",
      "[CV] n_estimators=510, min_samples_split=18, min_samples_leaf=2, max_features=auto, max_depth=5 \n",
      "[CV]  n_estimators=510, min_samples_split=18, min_samples_leaf=2, max_features=auto, max_depth=5, total=   0.8s\n",
      "[CV] n_estimators=510, min_samples_split=18, min_samples_leaf=2, max_features=auto, max_depth=5 \n",
      "[CV]  n_estimators=510, min_samples_split=18, min_samples_leaf=2, max_features=auto, max_depth=5, total=   0.8s\n",
      "[CV] n_estimators=210, min_samples_split=7, min_samples_leaf=16, max_features=auto, max_depth=5 \n",
      "[CV]  n_estimators=210, min_samples_split=7, min_samples_leaf=16, max_features=auto, max_depth=5, total=   0.3s\n",
      "[CV] n_estimators=210, min_samples_split=7, min_samples_leaf=16, max_features=auto, max_depth=5 \n",
      "[CV]  n_estimators=210, min_samples_split=7, min_samples_leaf=16, max_features=auto, max_depth=5, total=   0.3s\n",
      "[CV] n_estimators=210, min_samples_split=7, min_samples_leaf=16, max_features=auto, max_depth=5 \n",
      "[CV]  n_estimators=210, min_samples_split=7, min_samples_leaf=16, max_features=auto, max_depth=5, total=   0.3s\n",
      "[CV] n_estimators=210, min_samples_split=7, min_samples_leaf=16, max_features=auto, max_depth=5 \n",
      "[CV]  n_estimators=210, min_samples_split=7, min_samples_leaf=16, max_features=auto, max_depth=5, total=   0.3s\n",
      "[CV] n_estimators=210, min_samples_split=7, min_samples_leaf=16, max_features=auto, max_depth=5 \n",
      "[CV]  n_estimators=210, min_samples_split=7, min_samples_leaf=16, max_features=auto, max_depth=5, total=   0.3s\n",
      "[CV] n_estimators=710, min_samples_split=15, min_samples_leaf=3, max_features=log2, max_depth=5 \n",
      "[CV]  n_estimators=710, min_samples_split=15, min_samples_leaf=3, max_features=log2, max_depth=5, total=   1.1s\n",
      "[CV] n_estimators=710, min_samples_split=15, min_samples_leaf=3, max_features=log2, max_depth=5 \n",
      "[CV]  n_estimators=710, min_samples_split=15, min_samples_leaf=3, max_features=log2, max_depth=5, total=   1.1s\n",
      "[CV] n_estimators=710, min_samples_split=15, min_samples_leaf=3, max_features=log2, max_depth=5 \n",
      "[CV]  n_estimators=710, min_samples_split=15, min_samples_leaf=3, max_features=log2, max_depth=5, total=   1.1s\n",
      "[CV] n_estimators=710, min_samples_split=15, min_samples_leaf=3, max_features=log2, max_depth=5 \n",
      "[CV]  n_estimators=710, min_samples_split=15, min_samples_leaf=3, max_features=log2, max_depth=5, total=   1.3s\n",
      "[CV] n_estimators=710, min_samples_split=15, min_samples_leaf=3, max_features=log2, max_depth=5 \n",
      "[CV]  n_estimators=710, min_samples_split=15, min_samples_leaf=3, max_features=log2, max_depth=5, total=   1.2s\n",
      "[CV] n_estimators=860, min_samples_split=7, min_samples_leaf=8, max_features=auto, max_depth=10 \n",
      "[CV]  n_estimators=860, min_samples_split=7, min_samples_leaf=8, max_features=auto, max_depth=10, total=   1.6s\n",
      "[CV] n_estimators=860, min_samples_split=7, min_samples_leaf=8, max_features=auto, max_depth=10 \n"
     ]
    },
    {
     "name": "stdout",
     "output_type": "stream",
     "text": [
      "[CV]  n_estimators=860, min_samples_split=7, min_samples_leaf=8, max_features=auto, max_depth=10, total=   1.5s\n",
      "[CV] n_estimators=860, min_samples_split=7, min_samples_leaf=8, max_features=auto, max_depth=10 \n",
      "[CV]  n_estimators=860, min_samples_split=7, min_samples_leaf=8, max_features=auto, max_depth=10, total=   1.6s\n",
      "[CV] n_estimators=860, min_samples_split=7, min_samples_leaf=8, max_features=auto, max_depth=10 \n",
      "[CV]  n_estimators=860, min_samples_split=7, min_samples_leaf=8, max_features=auto, max_depth=10, total=   1.4s\n",
      "[CV] n_estimators=860, min_samples_split=7, min_samples_leaf=8, max_features=auto, max_depth=10 \n",
      "[CV]  n_estimators=860, min_samples_split=7, min_samples_leaf=8, max_features=auto, max_depth=10, total=   1.4s\n",
      "[CV] n_estimators=60, min_samples_split=12, min_samples_leaf=17, max_features=auto, max_depth=3 \n",
      "[CV]  n_estimators=60, min_samples_split=12, min_samples_leaf=17, max_features=auto, max_depth=3, total=   0.1s\n",
      "[CV] n_estimators=60, min_samples_split=12, min_samples_leaf=17, max_features=auto, max_depth=3 \n",
      "[CV]  n_estimators=60, min_samples_split=12, min_samples_leaf=17, max_features=auto, max_depth=3, total=   0.1s\n",
      "[CV] n_estimators=60, min_samples_split=12, min_samples_leaf=17, max_features=auto, max_depth=3 \n",
      "[CV]  n_estimators=60, min_samples_split=12, min_samples_leaf=17, max_features=auto, max_depth=3, total=   0.1s\n",
      "[CV] n_estimators=60, min_samples_split=12, min_samples_leaf=17, max_features=auto, max_depth=3 \n",
      "[CV]  n_estimators=60, min_samples_split=12, min_samples_leaf=17, max_features=auto, max_depth=3, total=   0.1s\n",
      "[CV] n_estimators=60, min_samples_split=12, min_samples_leaf=17, max_features=auto, max_depth=3 \n",
      "[CV]  n_estimators=60, min_samples_split=12, min_samples_leaf=17, max_features=auto, max_depth=3, total=   0.1s\n",
      "[CV] n_estimators=760, min_samples_split=8, min_samples_leaf=9, max_features=auto, max_depth=5 \n",
      "[CV]  n_estimators=760, min_samples_split=8, min_samples_leaf=9, max_features=auto, max_depth=5, total=   1.3s\n",
      "[CV] n_estimators=760, min_samples_split=8, min_samples_leaf=9, max_features=auto, max_depth=5 \n",
      "[CV]  n_estimators=760, min_samples_split=8, min_samples_leaf=9, max_features=auto, max_depth=5, total=   1.2s\n",
      "[CV] n_estimators=760, min_samples_split=8, min_samples_leaf=9, max_features=auto, max_depth=5 \n",
      "[CV]  n_estimators=760, min_samples_split=8, min_samples_leaf=9, max_features=auto, max_depth=5, total=   1.3s\n",
      "[CV] n_estimators=760, min_samples_split=8, min_samples_leaf=9, max_features=auto, max_depth=5 \n",
      "[CV]  n_estimators=760, min_samples_split=8, min_samples_leaf=9, max_features=auto, max_depth=5, total=   1.3s\n",
      "[CV] n_estimators=760, min_samples_split=8, min_samples_leaf=9, max_features=auto, max_depth=5 \n",
      "[CV]  n_estimators=760, min_samples_split=8, min_samples_leaf=9, max_features=auto, max_depth=5, total=   1.2s\n",
      "[CV] n_estimators=760, min_samples_split=13, min_samples_leaf=19, max_features=log2, max_depth=None \n",
      "[CV]  n_estimators=760, min_samples_split=13, min_samples_leaf=19, max_features=log2, max_depth=None, total=   1.6s\n",
      "[CV] n_estimators=760, min_samples_split=13, min_samples_leaf=19, max_features=log2, max_depth=None \n",
      "[CV]  n_estimators=760, min_samples_split=13, min_samples_leaf=19, max_features=log2, max_depth=None, total=   1.3s\n",
      "[CV] n_estimators=760, min_samples_split=13, min_samples_leaf=19, max_features=log2, max_depth=None \n",
      "[CV]  n_estimators=760, min_samples_split=13, min_samples_leaf=19, max_features=log2, max_depth=None, total=   1.3s\n",
      "[CV] n_estimators=760, min_samples_split=13, min_samples_leaf=19, max_features=log2, max_depth=None \n",
      "[CV]  n_estimators=760, min_samples_split=13, min_samples_leaf=19, max_features=log2, max_depth=None, total=   1.2s\n",
      "[CV] n_estimators=760, min_samples_split=13, min_samples_leaf=19, max_features=log2, max_depth=None \n",
      "[CV]  n_estimators=760, min_samples_split=13, min_samples_leaf=19, max_features=log2, max_depth=None, total=   1.2s\n"
     ]
    },
    {
     "name": "stderr",
     "output_type": "stream",
     "text": [
      "[Parallel(n_jobs=1)]: Done 100 out of 100 | elapsed:  1.7min finished\n"
     ]
    },
    {
     "data": {
      "text/plain": [
       "RandomizedSearchCV(cv=5, estimator=RandomForestClassifier(), n_iter=20,\n",
       "                   param_distributions={'max_depth': [None, 3, 5, 10],\n",
       "                                        'max_features': ['auto', 'log2'],\n",
       "                                        'min_samples_leaf': array([ 1,  2,  3,  4,  5,  6,  7,  8,  9, 10, 11, 12, 13, 14, 15, 16, 17,\n",
       "       18, 19]),\n",
       "                                        'min_samples_split': array([ 2,  3,  4,  5,  6,  7,  8,  9, 10, 11, 12, 13, 14, 15, 16, 17, 18,\n",
       "       19]),\n",
       "                                        'n_estimators': array([ 10,  60, 110, 160, 210, 260, 310, 360, 410, 460, 510, 560, 610,\n",
       "       660, 710, 760, 810, 860, 910, 960])},\n",
       "                   verbose=2)"
      ]
     },
     "execution_count": 39,
     "metadata": {},
     "output_type": "execute_result"
    }
   ],
   "source": [
    "# setup random hyperparameter search for RandomForestClassifier\n",
    "rs_clf = RandomizedSearchCV(RandomForestClassifier(),rf_grid, cv=5, n_iter=20, verbose=2)\n",
    "rs_clf.fit(x_train, y_train)"
   ]
  },
  {
   "cell_type": "code",
   "execution_count": 40,
   "metadata": {},
   "outputs": [
    {
     "data": {
      "text/plain": [
       "{'n_estimators': 210,\n",
       " 'min_samples_split': 7,\n",
       " 'min_samples_leaf': 6,\n",
       " 'max_features': 'auto',\n",
       " 'max_depth': 5}"
      ]
     },
     "execution_count": 40,
     "metadata": {},
     "output_type": "execute_result"
    }
   ],
   "source": [
    "rs_clf.best_params_"
   ]
  },
  {
   "cell_type": "code",
   "execution_count": 41,
   "metadata": {},
   "outputs": [
    {
     "data": {
      "text/plain": [
       "0.8688524590163934"
      ]
     },
     "execution_count": 41,
     "metadata": {},
     "output_type": "execute_result"
    }
   ],
   "source": [
    "rs_clf.score(x_test, y_test)"
   ]
  },
  {
   "cell_type": "markdown",
   "metadata": {},
   "source": [
    "## Hyperparameter tuning with GridSearchCV\n",
    "\n",
    "Since out LogisticRegression model provides the best scores so far, we'll try and improve them again usin GridSearchCV"
   ]
  },
  {
   "cell_type": "code",
   "execution_count": 47,
   "metadata": {},
   "outputs": [
    {
     "name": "stdout",
     "output_type": "stream",
     "text": [
      "Fitting 5 folds for each of 30 candidates, totalling 150 fits\n",
      "[CV] C=0.0001, solver=liblinear ......................................\n",
      "[CV] ....................... C=0.0001, solver=liblinear, total=   0.0s\n",
      "[CV] C=0.0001, solver=liblinear ......................................\n",
      "[CV] ....................... C=0.0001, solver=liblinear, total=   0.0s\n",
      "[CV] C=0.0001, solver=liblinear ......................................\n",
      "[CV] ....................... C=0.0001, solver=liblinear, total=   0.0s\n",
      "[CV] C=0.0001, solver=liblinear ......................................\n",
      "[CV] ....................... C=0.0001, solver=liblinear, total=   0.0s\n",
      "[CV] C=0.0001, solver=liblinear ......................................\n",
      "[CV] ....................... C=0.0001, solver=liblinear, total=   0.0s\n",
      "[CV] C=0.00018873918221350977, solver=liblinear ......................\n",
      "[CV] ....... C=0.00018873918221350977, solver=liblinear, total=   0.0s\n",
      "[CV] C=0.00018873918221350977, solver=liblinear ......................\n",
      "[CV] ....... C=0.00018873918221350977, solver=liblinear, total=   0.0s\n",
      "[CV] C=0.00018873918221350977, solver=liblinear ......................\n",
      "[CV] ....... C=0.00018873918221350977, solver=liblinear, total=   0.0s\n",
      "[CV] C=0.00018873918221350977, solver=liblinear ......................\n",
      "[CV] ....... C=0.00018873918221350977, solver=liblinear, total=   0.0s\n",
      "[CV] C=0.00018873918221350977, solver=liblinear ......................\n",
      "[CV] ....... C=0.00018873918221350977, solver=liblinear, total=   0.0s\n",
      "[CV] C=0.0003562247890262444, solver=liblinear .......................\n",
      "[CV] ........ C=0.0003562247890262444, solver=liblinear, total=   0.0s\n",
      "[CV] C=0.0003562247890262444, solver=liblinear .......................\n",
      "[CV] ........ C=0.0003562247890262444, solver=liblinear, total=   0.0s\n",
      "[CV] C=0.0003562247890262444, solver=liblinear .......................\n",
      "[CV] ........ C=0.0003562247890262444, solver=liblinear, total=   0.0s\n",
      "[CV] C=0.0003562247890262444, solver=liblinear .......................\n",
      "[CV] ........ C=0.0003562247890262444, solver=liblinear, total=   0.0s\n",
      "[CV] C=0.0003562247890262444, solver=liblinear .......................\n",
      "[CV] ........ C=0.0003562247890262444, solver=liblinear, total=   0.0s\n",
      "[CV] C=0.0006723357536499335, solver=liblinear .......................\n",
      "[CV] ........ C=0.0006723357536499335, solver=liblinear, total=   0.0s\n",
      "[CV] C=0.0006723357536499335, solver=liblinear .......................\n",
      "[CV] ........ C=0.0006723357536499335, solver=liblinear, total=   0.0s\n",
      "[CV] C=0.0006723357536499335, solver=liblinear .......................\n",
      "[CV] ........ C=0.0006723357536499335, solver=liblinear, total=   0.0s\n",
      "[CV] C=0.0006723357536499335, solver=liblinear .......................\n",
      "[CV] ........ C=0.0006723357536499335, solver=liblinear, total=   0.0s\n",
      "[CV] C=0.0006723357536499335, solver=liblinear .......................\n",
      "[CV] ........ C=0.0006723357536499335, solver=liblinear, total=   0.0s\n",
      "[CV] C=0.0012689610031679222, solver=liblinear .......................\n",
      "[CV] ........ C=0.0012689610031679222, solver=liblinear, total=   0.0s\n",
      "[CV] C=0.0012689610031679222, solver=liblinear .......................\n",
      "[CV] ........ C=0.0012689610031679222, solver=liblinear, total=   0.0s\n",
      "[CV] C=0.0012689610031679222, solver=liblinear .......................\n"
     ]
    },
    {
     "name": "stderr",
     "output_type": "stream",
     "text": [
      "[Parallel(n_jobs=1)]: Using backend SequentialBackend with 1 concurrent workers.\n",
      "[Parallel(n_jobs=1)]: Done   1 out of   1 | elapsed:    0.0s remaining:    0.0s\n"
     ]
    },
    {
     "name": "stdout",
     "output_type": "stream",
     "text": [
      "[CV] ........ C=0.0012689610031679222, solver=liblinear, total=   0.0s\n",
      "[CV] C=0.0012689610031679222, solver=liblinear .......................\n",
      "[CV] ........ C=0.0012689610031679222, solver=liblinear, total=   0.0s\n",
      "[CV] C=0.0012689610031679222, solver=liblinear .......................\n",
      "[CV] ........ C=0.0012689610031679222, solver=liblinear, total=   0.0s\n",
      "[CV] C=0.002395026619987486, solver=liblinear ........................\n",
      "[CV] ......... C=0.002395026619987486, solver=liblinear, total=   0.0s\n",
      "[CV] C=0.002395026619987486, solver=liblinear ........................\n",
      "[CV] ......... C=0.002395026619987486, solver=liblinear, total=   0.0s\n",
      "[CV] C=0.002395026619987486, solver=liblinear ........................\n",
      "[CV] ......... C=0.002395026619987486, solver=liblinear, total=   0.0s\n",
      "[CV] C=0.002395026619987486, solver=liblinear ........................\n",
      "[CV] ......... C=0.002395026619987486, solver=liblinear, total=   0.0s\n",
      "[CV] C=0.002395026619987486, solver=liblinear ........................\n",
      "[CV] ......... C=0.002395026619987486, solver=liblinear, total=   0.0s\n",
      "[CV] C=0.004520353656360241, solver=liblinear ........................\n",
      "[CV] ......... C=0.004520353656360241, solver=liblinear, total=   0.0s\n",
      "[CV] C=0.004520353656360241, solver=liblinear ........................\n",
      "[CV] ......... C=0.004520353656360241, solver=liblinear, total=   0.0s\n",
      "[CV] C=0.004520353656360241, solver=liblinear ........................\n",
      "[CV] ......... C=0.004520353656360241, solver=liblinear, total=   0.0s\n",
      "[CV] C=0.004520353656360241, solver=liblinear ........................\n",
      "[CV] ......... C=0.004520353656360241, solver=liblinear, total=   0.0s\n",
      "[CV] C=0.004520353656360241, solver=liblinear ........................\n",
      "[CV] ......... C=0.004520353656360241, solver=liblinear, total=   0.0s\n",
      "[CV] C=0.008531678524172805, solver=liblinear ........................\n",
      "[CV] ......... C=0.008531678524172805, solver=liblinear, total=   0.0s\n",
      "[CV] C=0.008531678524172805, solver=liblinear ........................\n",
      "[CV] ......... C=0.008531678524172805, solver=liblinear, total=   0.0s\n",
      "[CV] C=0.008531678524172805, solver=liblinear ........................\n",
      "[CV] ......... C=0.008531678524172805, solver=liblinear, total=   0.0s\n",
      "[CV] C=0.008531678524172805, solver=liblinear ........................\n",
      "[CV] ......... C=0.008531678524172805, solver=liblinear, total=   0.0s\n",
      "[CV] C=0.008531678524172805, solver=liblinear ........................\n",
      "[CV] ......... C=0.008531678524172805, solver=liblinear, total=   0.0s\n",
      "[CV] C=0.01610262027560939, solver=liblinear .........................\n",
      "[CV] .......... C=0.01610262027560939, solver=liblinear, total=   0.0s\n",
      "[CV] C=0.01610262027560939, solver=liblinear .........................\n",
      "[CV] .......... C=0.01610262027560939, solver=liblinear, total=   0.0s\n",
      "[CV] C=0.01610262027560939, solver=liblinear .........................\n",
      "[CV] .......... C=0.01610262027560939, solver=liblinear, total=   0.0s\n",
      "[CV] C=0.01610262027560939, solver=liblinear .........................\n",
      "[CV] .......... C=0.01610262027560939, solver=liblinear, total=   0.0s\n",
      "[CV] C=0.01610262027560939, solver=liblinear .........................\n",
      "[CV] .......... C=0.01610262027560939, solver=liblinear, total=   0.0s\n",
      "[CV] C=0.03039195382313198, solver=liblinear .........................\n",
      "[CV] .......... C=0.03039195382313198, solver=liblinear, total=   0.0s\n",
      "[CV] C=0.03039195382313198, solver=liblinear .........................\n",
      "[CV] .......... C=0.03039195382313198, solver=liblinear, total=   0.0s\n",
      "[CV] C=0.03039195382313198, solver=liblinear .........................\n",
      "[CV] .......... C=0.03039195382313198, solver=liblinear, total=   0.0s\n",
      "[CV] C=0.03039195382313198, solver=liblinear .........................\n",
      "[CV] .......... C=0.03039195382313198, solver=liblinear, total=   0.0s\n",
      "[CV] C=0.03039195382313198, solver=liblinear .........................\n",
      "[CV] .......... C=0.03039195382313198, solver=liblinear, total=   0.0s\n",
      "[CV] C=0.05736152510448681, solver=liblinear .........................\n",
      "[CV] .......... C=0.05736152510448681, solver=liblinear, total=   0.0s\n",
      "[CV] C=0.05736152510448681, solver=liblinear .........................\n",
      "[CV] .......... C=0.05736152510448681, solver=liblinear, total=   0.0s\n",
      "[CV] C=0.05736152510448681, solver=liblinear .........................\n",
      "[CV] .......... C=0.05736152510448681, solver=liblinear, total=   0.0s\n",
      "[CV] C=0.05736152510448681, solver=liblinear .........................\n",
      "[CV] .......... C=0.05736152510448681, solver=liblinear, total=   0.0s\n",
      "[CV] C=0.05736152510448681, solver=liblinear .........................\n",
      "[CV] .......... C=0.05736152510448681, solver=liblinear, total=   0.0s\n",
      "[CV] C=0.1082636733874054, solver=liblinear ..........................\n",
      "[CV] ........... C=0.1082636733874054, solver=liblinear, total=   0.0s\n",
      "[CV] C=0.1082636733874054, solver=liblinear ..........................\n",
      "[CV] ........... C=0.1082636733874054, solver=liblinear, total=   0.0s\n",
      "[CV] C=0.1082636733874054, solver=liblinear ..........................\n",
      "[CV] ........... C=0.1082636733874054, solver=liblinear, total=   0.0s\n",
      "[CV] C=0.1082636733874054, solver=liblinear ..........................\n",
      "[CV] ........... C=0.1082636733874054, solver=liblinear, total=   0.0s\n",
      "[CV] C=0.1082636733874054, solver=liblinear ..........................\n",
      "[CV] ........... C=0.1082636733874054, solver=liblinear, total=   0.0s\n",
      "[CV] C=0.20433597178569418, solver=liblinear .........................\n",
      "[CV] .......... C=0.20433597178569418, solver=liblinear, total=   0.0s\n",
      "[CV] C=0.20433597178569418, solver=liblinear .........................\n",
      "[CV] .......... C=0.20433597178569418, solver=liblinear, total=   0.0s\n",
      "[CV] C=0.20433597178569418, solver=liblinear .........................\n",
      "[CV] .......... C=0.20433597178569418, solver=liblinear, total=   0.0s\n",
      "[CV] C=0.20433597178569418, solver=liblinear .........................\n",
      "[CV] .......... C=0.20433597178569418, solver=liblinear, total=   0.0s\n",
      "[CV] C=0.20433597178569418, solver=liblinear .........................\n",
      "[CV] .......... C=0.20433597178569418, solver=liblinear, total=   0.0s\n",
      "[CV] C=0.38566204211634725, solver=liblinear .........................\n",
      "[CV] .......... C=0.38566204211634725, solver=liblinear, total=   0.0s\n",
      "[CV] C=0.38566204211634725, solver=liblinear .........................\n",
      "[CV] .......... C=0.38566204211634725, solver=liblinear, total=   0.0s\n",
      "[CV] C=0.38566204211634725, solver=liblinear .........................\n",
      "[CV] .......... C=0.38566204211634725, solver=liblinear, total=   0.0s\n",
      "[CV] C=0.38566204211634725, solver=liblinear .........................\n",
      "[CV] .......... C=0.38566204211634725, solver=liblinear, total=   0.0s\n",
      "[CV] C=0.38566204211634725, solver=liblinear .........................\n",
      "[CV] .......... C=0.38566204211634725, solver=liblinear, total=   0.0s\n",
      "[CV] C=0.7278953843983146, solver=liblinear ..........................\n",
      "[CV] ........... C=0.7278953843983146, solver=liblinear, total=   0.0s\n",
      "[CV] C=0.7278953843983146, solver=liblinear ..........................\n",
      "[CV] ........... C=0.7278953843983146, solver=liblinear, total=   0.0s\n",
      "[CV] C=0.7278953843983146, solver=liblinear ..........................\n",
      "[CV] ........... C=0.7278953843983146, solver=liblinear, total=   0.0s\n",
      "[CV] C=0.7278953843983146, solver=liblinear ..........................\n",
      "[CV] ........... C=0.7278953843983146, solver=liblinear, total=   0.0s\n",
      "[CV] C=0.7278953843983146, solver=liblinear ..........................\n",
      "[CV] ........... C=0.7278953843983146, solver=liblinear, total=   0.0s\n",
      "[CV] C=1.3738237958832638, solver=liblinear ..........................\n",
      "[CV] ........... C=1.3738237958832638, solver=liblinear, total=   0.0s\n",
      "[CV] C=1.3738237958832638, solver=liblinear ..........................\n",
      "[CV] ........... C=1.3738237958832638, solver=liblinear, total=   0.0s\n",
      "[CV] C=1.3738237958832638, solver=liblinear ..........................\n",
      "[CV] ........... C=1.3738237958832638, solver=liblinear, total=   0.0s\n",
      "[CV] C=1.3738237958832638, solver=liblinear ..........................\n",
      "[CV] ........... C=1.3738237958832638, solver=liblinear, total=   0.0s\n",
      "[CV] C=1.3738237958832638, solver=liblinear ..........................\n",
      "[CV] ........... C=1.3738237958832638, solver=liblinear, total=   0.0s\n",
      "[CV] C=2.592943797404667, solver=liblinear ...........................\n",
      "[CV] ............ C=2.592943797404667, solver=liblinear, total=   0.0s\n",
      "[CV] C=2.592943797404667, solver=liblinear ...........................\n",
      "[CV] ............ C=2.592943797404667, solver=liblinear, total=   0.0s\n",
      "[CV] C=2.592943797404667, solver=liblinear ...........................\n",
      "[CV] ............ C=2.592943797404667, solver=liblinear, total=   0.0s\n",
      "[CV] C=2.592943797404667, solver=liblinear ...........................\n",
      "[CV] ............ C=2.592943797404667, solver=liblinear, total=   0.0s\n",
      "[CV] C=2.592943797404667, solver=liblinear ...........................\n",
      "[CV] ............ C=2.592943797404667, solver=liblinear, total=   0.0s\n",
      "[CV] C=4.893900918477489, solver=liblinear ...........................\n",
      "[CV] ............ C=4.893900918477489, solver=liblinear, total=   0.0s\n",
      "[CV] C=4.893900918477489, solver=liblinear ...........................\n",
      "[CV] ............ C=4.893900918477489, solver=liblinear, total=   0.0s\n",
      "[CV] C=4.893900918477489, solver=liblinear ...........................\n"
     ]
    },
    {
     "name": "stdout",
     "output_type": "stream",
     "text": [
      "[CV] ............ C=4.893900918477489, solver=liblinear, total=   0.0s\n",
      "[CV] C=4.893900918477489, solver=liblinear ...........................\n",
      "[CV] ............ C=4.893900918477489, solver=liblinear, total=   0.0s\n",
      "[CV] C=4.893900918477489, solver=liblinear ...........................\n",
      "[CV] ............ C=4.893900918477489, solver=liblinear, total=   0.0s\n",
      "[CV] C=9.236708571873866, solver=liblinear ...........................\n",
      "[CV] ............ C=9.236708571873866, solver=liblinear, total=   0.0s\n",
      "[CV] C=9.236708571873866, solver=liblinear ...........................\n",
      "[CV] ............ C=9.236708571873866, solver=liblinear, total=   0.0s\n",
      "[CV] C=9.236708571873866, solver=liblinear ...........................\n",
      "[CV] ............ C=9.236708571873866, solver=liblinear, total=   0.0s\n",
      "[CV] C=9.236708571873866, solver=liblinear ...........................\n",
      "[CV] ............ C=9.236708571873866, solver=liblinear, total=   0.0s\n",
      "[CV] C=9.236708571873866, solver=liblinear ...........................\n",
      "[CV] ............ C=9.236708571873866, solver=liblinear, total=   0.0s\n",
      "[CV] C=17.433288221999874, solver=liblinear ..........................\n",
      "[CV] ........... C=17.433288221999874, solver=liblinear, total=   0.0s\n",
      "[CV] C=17.433288221999874, solver=liblinear ..........................\n",
      "[CV] ........... C=17.433288221999874, solver=liblinear, total=   0.0s\n",
      "[CV] C=17.433288221999874, solver=liblinear ..........................\n",
      "[CV] ........... C=17.433288221999874, solver=liblinear, total=   0.0s\n",
      "[CV] C=17.433288221999874, solver=liblinear ..........................\n",
      "[CV] ........... C=17.433288221999874, solver=liblinear, total=   0.0s\n",
      "[CV] C=17.433288221999874, solver=liblinear ..........................\n",
      "[CV] ........... C=17.433288221999874, solver=liblinear, total=   0.0s\n",
      "[CV] C=32.90344562312671, solver=liblinear ...........................\n",
      "[CV] ............ C=32.90344562312671, solver=liblinear, total=   0.0s\n",
      "[CV] C=32.90344562312671, solver=liblinear ...........................\n",
      "[CV] ............ C=32.90344562312671, solver=liblinear, total=   0.0s\n",
      "[CV] C=32.90344562312671, solver=liblinear ...........................\n",
      "[CV] ............ C=32.90344562312671, solver=liblinear, total=   0.0s\n",
      "[CV] C=32.90344562312671, solver=liblinear ...........................\n",
      "[CV] ............ C=32.90344562312671, solver=liblinear, total=   0.0s\n",
      "[CV] C=32.90344562312671, solver=liblinear ...........................\n",
      "[CV] ............ C=32.90344562312671, solver=liblinear, total=   0.0s\n",
      "[CV] C=62.10169418915616, solver=liblinear ...........................\n",
      "[CV] ............ C=62.10169418915616, solver=liblinear, total=   0.0s\n",
      "[CV] C=62.10169418915616, solver=liblinear ...........................\n",
      "[CV] ............ C=62.10169418915616, solver=liblinear, total=   0.0s\n",
      "[CV] C=62.10169418915616, solver=liblinear ...........................\n",
      "[CV] ............ C=62.10169418915616, solver=liblinear, total=   0.0s\n",
      "[CV] C=62.10169418915616, solver=liblinear ...........................\n",
      "[CV] ............ C=62.10169418915616, solver=liblinear, total=   0.0s\n",
      "[CV] C=62.10169418915616, solver=liblinear ...........................\n",
      "[CV] ............ C=62.10169418915616, solver=liblinear, total=   0.0s\n",
      "[CV] C=117.21022975334793, solver=liblinear ..........................\n",
      "[CV] ........... C=117.21022975334793, solver=liblinear, total=   0.0s\n",
      "[CV] C=117.21022975334793, solver=liblinear ..........................\n",
      "[CV] ........... C=117.21022975334793, solver=liblinear, total=   0.0s\n",
      "[CV] C=117.21022975334793, solver=liblinear ..........................\n",
      "[CV] ........... C=117.21022975334793, solver=liblinear, total=   0.0s\n",
      "[CV] C=117.21022975334793, solver=liblinear ..........................\n",
      "[CV] ........... C=117.21022975334793, solver=liblinear, total=   0.0s\n",
      "[CV] C=117.21022975334793, solver=liblinear ..........................\n",
      "[CV] ........... C=117.21022975334793, solver=liblinear, total=   0.0s\n",
      "[CV] C=221.22162910704503, solver=liblinear ..........................\n",
      "[CV] ........... C=221.22162910704503, solver=liblinear, total=   0.0s\n",
      "[CV] C=221.22162910704503, solver=liblinear ..........................\n",
      "[CV] ........... C=221.22162910704503, solver=liblinear, total=   0.0s\n",
      "[CV] C=221.22162910704503, solver=liblinear ..........................\n",
      "[CV] ........... C=221.22162910704503, solver=liblinear, total=   0.0s\n",
      "[CV] C=221.22162910704503, solver=liblinear ..........................\n",
      "[CV] ........... C=221.22162910704503, solver=liblinear, total=   0.0s\n",
      "[CV] C=221.22162910704503, solver=liblinear ..........................\n",
      "[CV] ........... C=221.22162910704503, solver=liblinear, total=   0.0s\n",
      "[CV] C=417.53189365604004, solver=liblinear ..........................\n",
      "[CV] ........... C=417.53189365604004, solver=liblinear, total=   0.0s\n",
      "[CV] C=417.53189365604004, solver=liblinear ..........................\n",
      "[CV] ........... C=417.53189365604004, solver=liblinear, total=   0.0s\n",
      "[CV] C=417.53189365604004, solver=liblinear ..........................\n",
      "[CV] ........... C=417.53189365604004, solver=liblinear, total=   0.0s\n",
      "[CV] C=417.53189365604004, solver=liblinear ..........................\n",
      "[CV] ........... C=417.53189365604004, solver=liblinear, total=   0.0s\n",
      "[CV] C=417.53189365604004, solver=liblinear ..........................\n",
      "[CV] ........... C=417.53189365604004, solver=liblinear, total=   0.0s\n",
      "[CV] C=788.0462815669904, solver=liblinear ...........................\n",
      "[CV] ............ C=788.0462815669904, solver=liblinear, total=   0.0s\n",
      "[CV] C=788.0462815669904, solver=liblinear ...........................\n",
      "[CV] ............ C=788.0462815669904, solver=liblinear, total=   0.0s\n",
      "[CV] C=788.0462815669904, solver=liblinear ...........................\n",
      "[CV] ............ C=788.0462815669904, solver=liblinear, total=   0.0s\n",
      "[CV] C=788.0462815669904, solver=liblinear ...........................\n",
      "[CV] ............ C=788.0462815669904, solver=liblinear, total=   0.0s\n",
      "[CV] C=788.0462815669904, solver=liblinear ...........................\n",
      "[CV] ............ C=788.0462815669904, solver=liblinear, total=   0.0s\n",
      "[CV] C=1487.3521072935118, solver=liblinear ..........................\n",
      "[CV] ........... C=1487.3521072935118, solver=liblinear, total=   0.0s\n",
      "[CV] C=1487.3521072935118, solver=liblinear ..........................\n",
      "[CV] ........... C=1487.3521072935118, solver=liblinear, total=   0.0s\n",
      "[CV] C=1487.3521072935118, solver=liblinear ..........................\n",
      "[CV] ........... C=1487.3521072935118, solver=liblinear, total=   0.0s\n",
      "[CV] C=1487.3521072935118, solver=liblinear ..........................\n",
      "[CV] ........... C=1487.3521072935118, solver=liblinear, total=   0.0s\n",
      "[CV] C=1487.3521072935118, solver=liblinear ..........................\n",
      "[CV] ........... C=1487.3521072935118, solver=liblinear, total=   0.0s\n",
      "[CV] C=2807.2162039411755, solver=liblinear ..........................\n",
      "[CV] ........... C=2807.2162039411755, solver=liblinear, total=   0.0s\n",
      "[CV] C=2807.2162039411755, solver=liblinear ..........................\n",
      "[CV] ........... C=2807.2162039411755, solver=liblinear, total=   0.0s\n",
      "[CV] C=2807.2162039411755, solver=liblinear ..........................\n",
      "[CV] ........... C=2807.2162039411755, solver=liblinear, total=   0.0s\n",
      "[CV] C=2807.2162039411755, solver=liblinear ..........................\n",
      "[CV] ........... C=2807.2162039411755, solver=liblinear, total=   0.0s\n",
      "[CV] C=2807.2162039411755, solver=liblinear ..........................\n",
      "[CV] ........... C=2807.2162039411755, solver=liblinear, total=   0.0s\n",
      "[CV] C=5298.316906283702, solver=liblinear ...........................\n",
      "[CV] ............ C=5298.316906283702, solver=liblinear, total=   0.0s\n",
      "[CV] C=5298.316906283702, solver=liblinear ...........................\n",
      "[CV] ............ C=5298.316906283702, solver=liblinear, total=   0.0s\n",
      "[CV] C=5298.316906283702, solver=liblinear ...........................\n",
      "[CV] ............ C=5298.316906283702, solver=liblinear, total=   0.0s\n",
      "[CV] C=5298.316906283702, solver=liblinear ...........................\n",
      "[CV] ............ C=5298.316906283702, solver=liblinear, total=   0.0s\n",
      "[CV] C=5298.316906283702, solver=liblinear ...........................\n",
      "[CV] ............ C=5298.316906283702, solver=liblinear, total=   0.0s\n",
      "[CV] C=10000.0, solver=liblinear .....................................\n",
      "[CV] ...................... C=10000.0, solver=liblinear, total=   0.0s\n",
      "[CV] C=10000.0, solver=liblinear .....................................\n",
      "[CV] ...................... C=10000.0, solver=liblinear, total=   0.0s\n",
      "[CV] C=10000.0, solver=liblinear .....................................\n",
      "[CV] ...................... C=10000.0, solver=liblinear, total=   0.0s\n",
      "[CV] C=10000.0, solver=liblinear .....................................\n",
      "[CV] ...................... C=10000.0, solver=liblinear, total=   0.0s\n",
      "[CV] C=10000.0, solver=liblinear .....................................\n",
      "[CV] ...................... C=10000.0, solver=liblinear, total=   0.0s\n"
     ]
    },
    {
     "name": "stderr",
     "output_type": "stream",
     "text": [
      "[Parallel(n_jobs=1)]: Done 150 out of 150 | elapsed:    1.7s finished\n"
     ]
    },
    {
     "data": {
      "text/plain": [
       "GridSearchCV(cv=5, estimator=LogisticRegression(),\n",
       "             param_grid={'C': array([1.00000000e-04, 1.88739182e-04, 3.56224789e-04, 6.72335754e-04,\n",
       "       1.26896100e-03, 2.39502662e-03, 4.52035366e-03, 8.53167852e-03,\n",
       "       1.61026203e-02, 3.03919538e-02, 5.73615251e-02, 1.08263673e-01,\n",
       "       2.04335972e-01, 3.85662042e-01, 7.27895384e-01, 1.37382380e+00,\n",
       "       2.59294380e+00, 4.89390092e+00, 9.23670857e+00, 1.74332882e+01,\n",
       "       3.29034456e+01, 6.21016942e+01, 1.17210230e+02, 2.21221629e+02,\n",
       "       4.17531894e+02, 7.88046282e+02, 1.48735211e+03, 2.80721620e+03,\n",
       "       5.29831691e+03, 1.00000000e+04]),\n",
       "                         'solver': ['liblinear']},\n",
       "             verbose=2)"
      ]
     },
     "execution_count": 47,
     "metadata": {},
     "output_type": "execute_result"
    }
   ],
   "source": [
    "# Difference hyperparameter for out LogisticRegression model\n",
    "log_reg_grid = {\n",
    "    \"C\" : np.logspace(-4,4,30),\n",
    "    \"solver\" : [\"liblinear\"],\n",
    "}\n",
    "\n",
    "gs_log_reg = GridSearchCV(LogisticRegression(),log_reg_grid,cv=5,verbose=2)\n",
    "gs_log_reg.fit(x_train, y_train)"
   ]
  },
  {
   "cell_type": "code",
   "execution_count": 48,
   "metadata": {},
   "outputs": [
    {
     "data": {
      "text/plain": [
       "{'C': 0.20433597178569418, 'solver': 'liblinear'}"
      ]
     },
     "execution_count": 48,
     "metadata": {},
     "output_type": "execute_result"
    }
   ],
   "source": [
    "gs_log_reg.best_params_"
   ]
  },
  {
   "cell_type": "code",
   "execution_count": 50,
   "metadata": {},
   "outputs": [
    {
     "data": {
      "text/plain": [
       "0.8852459016393442"
      ]
     },
     "execution_count": 50,
     "metadata": {},
     "output_type": "execute_result"
    }
   ],
   "source": [
    "gs_log_reg.score(x_test,y_test)"
   ]
  },
  {
   "cell_type": "markdown",
   "metadata": {},
   "source": [
    "### Evaluating our tuned ML model, beyond accuracy\n",
    "* ROC curve and AUC\n",
    "* matrix confusion\n",
    "* classification report\n",
    "* precision\n",
    "* recall\n",
    "* f1-score\n",
    "\n",
    "... and it would be great if cross-validation was used where possible\n",
    "\n",
    "To make comparisions and evaluate our trainned model, first we need to make predictions"
   ]
  },
  {
   "cell_type": "code",
   "execution_count": 53,
   "metadata": {},
   "outputs": [
    {
     "data": {
      "text/plain": [
       "array([0, 1, 1, 0, 1, 1, 1, 0, 0, 1, 1, 0, 1, 0, 1, 1, 1, 0, 0, 0, 1, 0,\n",
       "       0, 1, 1, 1, 1, 1, 0, 1, 0, 0, 0, 0, 1, 0, 1, 1, 1, 1, 1, 1, 1, 1,\n",
       "       1, 0, 1, 1, 0, 0, 0, 0, 1, 1, 0, 0, 0, 1, 0, 0, 0])"
      ]
     },
     "execution_count": 53,
     "metadata": {},
     "output_type": "execute_result"
    }
   ],
   "source": [
    "y_preds = gs_log_reg.predict(x_test)\n",
    "y_preds"
   ]
  },
  {
   "cell_type": "code",
   "execution_count": 56,
   "metadata": {
    "scrolled": true
   },
   "outputs": [
    {
     "data": {
      "text/plain": [
       "array([0, 0, 1, 0, 1, 1, 1, 0, 0, 1, 1, 1, 1, 0, 1, 1, 1, 0, 0, 0, 1, 0,\n",
       "       0, 1, 1, 0, 0, 1, 0, 1, 1, 0, 0, 1, 1, 0, 1, 1, 1, 1, 1, 1, 1, 1,\n",
       "       1, 0, 0, 1, 0, 0, 0, 0, 1, 1, 0, 0, 0, 1, 0, 0, 0])"
      ]
     },
     "execution_count": 56,
     "metadata": {},
     "output_type": "execute_result"
    }
   ],
   "source": [
    "np.array(y_test)"
   ]
  },
  {
   "cell_type": "markdown",
   "metadata": {},
   "source": [
    "### Import ROC curve function from the sklearn"
   ]
  },
  {
   "cell_type": "code",
   "execution_count": 59,
   "metadata": {
    "scrolled": true
   },
   "outputs": [
    {
     "data": {
      "text/plain": [
       "[<matplotlib.lines.Line2D at 0x7f995a3599e8>]"
      ]
     },
     "execution_count": 59,
     "metadata": {},
     "output_type": "execute_result"
    },
    {
     "data": {
      "image/png": "[encoded data removed]",
      "text/plain": [
       "<Figure size 432x288 with 1 Axes>"
      ]
     },
     "metadata": {
      "needs_background": "light"
     },
     "output_type": "display_data"
    }
   ],
   "source": [
    "\n",
    "plot_roc_curve(gs_log_reg, x_test, y_test)\n",
    "plt.plot([0,1],[0,1],\"--\")"
   ]
  },
  {
   "cell_type": "markdown",
   "metadata": {},
   "source": [
    "### Confusion matrix"
   ]
  },
  {
   "cell_type": "code",
   "execution_count": 62,
   "metadata": {},
   "outputs": [
    {
     "data": {
      "text/plain": [
       "array([[25,  4],\n",
       "       [ 3, 29]])"
      ]
     },
     "execution_count": 62,
     "metadata": {},
     "output_type": "execute_result"
    }
   ],
   "source": []
  },
  {
   "cell_type": "code",
   "execution_count": 69,
   "metadata": {},
   "outputs": [
    {
     "data": {
      "text/plain": [
       "(2.5, -0.5)"
      ]
     },
     "execution_count": 69,
     "metadata": {},
     "output_type": "execute_result"
    },
    {
     "data": {
      "image/png": "[encoded data removed]",
      "text/plain": [
       "<Figure size 432x432 with 1 Axes>"
      ]
     },
     "metadata": {
      "needs_background": "light"
     },
     "output_type": "display_data"
    }
   ],
   "source": [
    "fig, ax = plt.subplots(figsize=(6,6))\n",
    "ax= sns.heatmap(confusion_matrix(y_test, y_preds), annot=True,cbar=False)\n",
    "plt.xlabel(\"True label\")\n",
    "plt.ylabel(\"Predict label\")\n",
    "bottom, top = ax.get_ylim()\n",
    "ax.set_ylim(bottom+0.5,top-0.5)"
   ]
  },
  {
   "cell_type": "markdown",
   "metadata": {},
   "source": [
    "### Classification report "
   ]
  },
  {
   "cell_type": "code",
   "execution_count": 71,
   "metadata": {},
   "outputs": [
    {
     "name": "stdout",
     "output_type": "stream",
     "text": [
      "              precision    recall  f1-score   support\n",
      "\n",
      "           0       0.89      0.86      0.88        29\n",
      "           1       0.88      0.91      0.89        32\n",
      "\n",
      "    accuracy                           0.89        61\n",
      "   macro avg       0.89      0.88      0.88        61\n",
      "weighted avg       0.89      0.89      0.89        61\n",
      "\n"
     ]
    }
   ],
   "source": [
    "print(classification_report(y_test, y_preds))"
   ]
  },
  {
   "cell_type": "markdown",
   "metadata": {},
   "source": [
    "### Calcualate evaluation metrics using cross-validation\n",
    "\n",
    "We are going to calculate precision, recall and f1-score of our model using cross-validation and to do so we'll using `cross_val_score()`"
   ]
  },
  {
   "cell_type": "code",
   "execution_count": 73,
   "metadata": {},
   "outputs": [
    {
     "data": {
      "text/plain": [
       "{'C': 0.20433597178569418, 'solver': 'liblinear'}"
      ]
     },
     "execution_count": 73,
     "metadata": {},
     "output_type": "execute_result"
    }
   ],
   "source": [
    "# Check the best hyperparameter\n",
    "gs_log_reg.best_params_"
   ]
  },
  {
   "cell_type": "code",
   "execution_count": 87,
   "metadata": {},
   "outputs": [
    {
     "data": {
      "text/plain": [
       "array([0.81632653, 0.85714286, 0.8125    , 0.85416667, 0.8125    ])"
      ]
     },
     "execution_count": 87,
     "metadata": {},
     "output_type": "execute_result"
    }
   ],
   "source": [
    "# Create a new classifier with best parameters\n",
    "np.random.seed(42)\n",
    "clf = LogisticRegression(C= 0.20433597178569418, solver=\"liblinear\")\n",
    "\n",
    "cross_val_score(clf, x_train, y_train, cv=5, )"
   ]
  },
  {
   "cell_type": "code",
   "execution_count": 88,
   "metadata": {},
   "outputs": [
    {
     "data": {
      "text/plain": [
       "0.8305272108843538"
      ]
     },
     "execution_count": 88,
     "metadata": {},
     "output_type": "execute_result"
    }
   ],
   "source": [
    "# Cross-validation accuracy\n",
    "cv_acc = cross_val_score(clf,x_train, y_train, cv=5, scoring=\"accuracy\")\n",
    "cv_acc = np.mean(cv_acc)\n",
    "cv_acc"
   ]
  },
  {
   "cell_type": "code",
   "execution_count": 89,
   "metadata": {},
   "outputs": [
    {
     "data": {
      "text/plain": [
       "0.8156825852946541"
      ]
     },
     "execution_count": 89,
     "metadata": {},
     "output_type": "execute_result"
    }
   ],
   "source": [
    "# Cross-validation precision\n",
    "cv_pre = cross_val_score(clf,x_train, y_train,scoring=\"precision\")\n",
    "cv_pre = np.mean(cv_pre)\n",
    "cv_pre"
   ]
  },
  {
   "cell_type": "code",
   "execution_count": 92,
   "metadata": {},
   "outputs": [
    {
     "data": {
      "text/plain": [
       "0.8527860395821953"
      ]
     },
     "execution_count": 92,
     "metadata": {},
     "output_type": "execute_result"
    }
   ],
   "source": [
    "# Cross-validation f1-score\n",
    "cv_f1 = cross_val_score(clf, x_train, y_train, scoring=\"f1\")\n",
    "cv_f1 = np.mean(cv_f1)\n",
    "cv_f1"
   ]
  },
  {
   "cell_type": "code",
   "execution_count": 95,
   "metadata": {},
   "outputs": [
    {
     "data": {
      "text/plain": [
       "0.8945868945868944"
      ]
     },
     "execution_count": 95,
     "metadata": {},
     "output_type": "execute_result"
    }
   ],
   "source": [
    "# Cross-validation Recall \n",
    "cv_recall = cross_val_score(clf, x_train, y_train, scoring=\"recall\")\n",
    "cv_recall = np.mean(cv_recall)\n",
    "cv_recall"
   ]
  },
  {
   "cell_type": "code",
   "execution_count": 102,
   "metadata": {},
   "outputs": [
    {
     "data": {
      "text/plain": [
       "<AxesSubplot:>"
      ]
     },
     "execution_count": 102,
     "metadata": {},
     "output_type": "execute_result"
    },
    {
     "data": {
      "image/png": "[encoded data removed]",
      "text/plain": [
       "<Figure size 432x288 with 1 Axes>"
      ]
     },
     "metadata": {
      "needs_background": "light"
     },
     "output_type": "display_data"
    }
   ],
   "source": [
    "# Visualize cross-validation metrics\n",
    "cv_metrics = {\"accuracy\" : cv_acc,\n",
    "              \"precision\" : cv_pre,\n",
    "              \"f1\" : cv_f1,\n",
    "               \"recall\" : cv_recall\n",
    "            }\n",
    "df = pd.DataFrame(cv_metrics, index=[\"value\"])\n",
    "df.T.plot(kind=\"bar\", legend=False)"
   ]
  },
  {
   "cell_type": "markdown",
   "metadata": {},
   "source": [
    "## Features impotance\n",
    "\n",
    "Features importance is another as asking, \"which features contributed most to the outcomes of the models and how did they contribute ?\" \n",
    "\n",
    "Finding feature importance is different from each of machine learning model. One way to find feature importance is to search for (MODEL NAME) fearture importance\n",
    "\n"
   ]
  },
  {
   "cell_type": "code",
   "execution_count": 103,
   "metadata": {},
   "outputs": [
    {
     "data": {
      "text/plain": [
       "LogisticRegression(C=0.20433597178569418, solver='liblinear')"
      ]
     },
     "execution_count": 103,
     "metadata": {},
     "output_type": "execute_result"
    }
   ],
   "source": [
    "# Fit an istance of LogisticRegression\n",
    "clf = LogisticRegression(C= 0.20433597178569418, solver=\"liblinear\")\n",
    "\n",
    "clf.fit(x_train,y_train)"
   ]
  },
  {
   "cell_type": "code",
   "execution_count": 122,
   "metadata": {},
   "outputs": [
    {
     "data": {
      "text/plain": [
       "array([[ 0.00320769, -0.86062049,  0.66001432, -0.01155971, -0.00166496,\n",
       "         0.04017236,  0.31603405,  0.02458922, -0.60470171, -0.56795456,\n",
       "         0.45085392, -0.63733328, -0.67555094]])"
      ]
     },
     "execution_count": 122,
     "metadata": {},
     "output_type": "execute_result"
    }
   ],
   "source": [
    "# Check coef_\n",
    "clf.coef_"
   ]
  },
  {
   "cell_type": "code",
   "execution_count": 123,
   "metadata": {},
   "outputs": [
    {
     "data": {
      "text/plain": [
       "{'age': array([0.00320769]),\n",
       " 'sex': array([-0.86062049]),\n",
       " 'cp': array([0.66001432]),\n",
       " 'trestbps': array([-0.01155971]),\n",
       " 'chol': array([-0.00166496]),\n",
       " 'fbs': array([0.04017236]),\n",
       " 'restecg': array([0.31603405]),\n",
       " 'thalach': array([0.02458922]),\n",
       " 'exang': array([-0.60470171]),\n",
       " 'oldpeak': array([-0.56795456]),\n",
       " 'slope': array([0.45085392]),\n",
       " 'ca': array([-0.63733328]),\n",
       " 'thal': array([-0.67555094])}"
      ]
     },
     "execution_count": 123,
     "metadata": {},
     "output_type": "execute_result"
    }
   ],
   "source": [
    "features_dict = dict(zip(heart_disease.columns.values, np.transpose(clf.coef_)) )\n"
   ]
  },
  {
   "cell_type": "code",
   "execution_count": 129,
   "metadata": {
    "scrolled": true
   },
   "outputs": [
    {
     "data": {
      "text/plain": [
       "<AxesSubplot:>"
      ]
     },
     "execution_count": 129,
     "metadata": {},
     "output_type": "execute_result"
    },
    {
     "data": {
      "image/png": "[encoded data removed]",
      "text/plain": [
       "<Figure size 720x432 with 1 Axes>"
      ]
     },
     "metadata": {
      "needs_background": "light"
     },
     "output_type": "display_data"
    }
   ],
   "source": [
    "# Visualize feature importance\n",
    "features_df = pd.DataFrame(features_dict)\n",
    "features_df.T.plot(kind=\"bar\", legend=False, figsize=(10,6))"
   ]
  },
  {
   "cell_type": "code",
   "execution_count": 139,
   "metadata": {},
   "outputs": [
    {
     "data": {
      "text/plain": [
       "(14.2, -0.2)"
      ]
     },
     "execution_count": 139,
     "metadata": {},
     "output_type": "execute_result"
    },
    {
     "data": {
      "image/png": "[encoded data removed]",
      "text/plain": [
       "<Figure size 1152x576 with 2 Axes>"
      ]
     },
     "metadata": {
      "needs_background": "light"
     },
     "output_type": "display_data"
    }
   ],
   "source": [
    "# getting again correlation\n",
    "fig,ax = plt.subplots(figsize=(16,8))\n",
    "ax = sns.heatmap(heart_disease.corr(), annot=True, fmt=\".2f\")\n",
    "bottom, top = ax.get_ylim()\n",
    "ax.set_ylim(bottom+0.2,top-0.2)"
   ]
  },
  {
   "cell_type": "code",
   "execution_count": 141,
   "metadata": {},
   "outputs": [
    {
     "data": {
      "text/html": [
       "<div>\n",
       "<style scoped>\n",
       "    .dataframe tbody tr th:only-of-type {\n",
       "        vertical-align: middle;\n",
       "    }\n",
       "\n",
       "    .dataframe tbody tr th {\n",
       "        vertical-align: top;\n",
       "    }\n",
       "\n",
       "    .dataframe thead th {\n",
       "        text-align: right;\n",
       "    }\n",
       "</style>\n",
       "<table border=\"1\" class=\"dataframe\">\n",
       "  <thead>\n",
       "    <tr style=\"text-align: right;\">\n",
       "      <th>target</th>\n",
       "      <th>0</th>\n",
       "      <th>1</th>\n",
       "    </tr>\n",
       "    <tr>\n",
       "      <th>sex</th>\n",
       "      <th></th>\n",
       "      <th></th>\n",
       "    </tr>\n",
       "  </thead>\n",
       "  <tbody>\n",
       "    <tr>\n",
       "      <th>0</th>\n",
       "      <td>24</td>\n",
       "      <td>72</td>\n",
       "    </tr>\n",
       "    <tr>\n",
       "      <th>1</th>\n",
       "      <td>114</td>\n",
       "      <td>93</td>\n",
       "    </tr>\n",
       "  </tbody>\n",
       "</table>\n",
       "</div>"
      ],
      "text/plain": [
       "target    0   1\n",
       "sex            \n",
       "0        24  72\n",
       "1       114  93"
      ]
     },
     "execution_count": 141,
     "metadata": {},
     "output_type": "execute_result"
    }
   ],
   "source": [
    "pd.crosstab(heart_disease.sex, heart_disease.target)"
   ]
  },
  {
   "cell_type": "code",
   "execution_count": 144,
   "metadata": {},
   "outputs": [
    {
     "data": {
      "text/html": [
       "<div>\n",
       "<style scoped>\n",
       "    .dataframe tbody tr th:only-of-type {\n",
       "        vertical-align: middle;\n",
       "    }\n",
       "\n",
       "    .dataframe tbody tr th {\n",
       "        vertical-align: top;\n",
       "    }\n",
       "\n",
       "    .dataframe thead th {\n",
       "        text-align: right;\n",
       "    }\n",
       "</style>\n",
       "<table border=\"1\" class=\"dataframe\">\n",
       "  <thead>\n",
       "    <tr style=\"text-align: right;\">\n",
       "      <th>target</th>\n",
       "      <th>0</th>\n",
       "      <th>1</th>\n",
       "    </tr>\n",
       "    <tr>\n",
       "      <th>slope</th>\n",
       "      <th></th>\n",
       "      <th></th>\n",
       "    </tr>\n",
       "  </thead>\n",
       "  <tbody>\n",
       "    <tr>\n",
       "      <th>0</th>\n",
       "      <td>12</td>\n",
       "      <td>9</td>\n",
       "    </tr>\n",
       "    <tr>\n",
       "      <th>1</th>\n",
       "      <td>91</td>\n",
       "      <td>49</td>\n",
       "    </tr>\n",
       "    <tr>\n",
       "      <th>2</th>\n",
       "      <td>35</td>\n",
       "      <td>107</td>\n",
       "    </tr>\n",
       "  </tbody>\n",
       "</table>\n",
       "</div>"
      ],
      "text/plain": [
       "target   0    1\n",
       "slope          \n",
       "0       12    9\n",
       "1       91   49\n",
       "2       35  107"
      ]
     },
     "execution_count": 144,
     "metadata": {},
     "output_type": "execute_result"
    }
   ],
   "source": [
    "# slope - the slope of the peak exercise ST segment\n",
    "# 0: Upsloping: better heart rate with excercise (uncommon)\n",
    "# 1: Flatsloping: minimal change (typical healthy heart)\n",
    "# 2: Downslopins: signs of unhealthy heart\n",
    "pd.crosstab(heart_disease.slope, heart_disease.target)"
   ]
  },
  {
   "cell_type": "markdown",
   "metadata": {},
   "source": [
    "## 6. Experimentation\n",
    "\n",
    "Well we've completed all the metrics your boss requested. You should be able to put together a great report containing a confusion matrix, a handful of cross-valdated metrics such as precision, recall and F1 as well as which features contribute most to the model making a decision.\n",
    "\n",
    "But after all this you might be wondering where step 6 in the framework is, experimentation.\n",
    "\n",
    "Well the secret here is, as you might've guessed, the whole thing is experimentation.\n",
    "\n",
    "From trying different models, to tuning different models to figuring out which hyperparameters were best.\n",
    "\n",
    "What we've worked through so far has been a series of experiments.\n",
    "\n",
    "And the truth is, we could keep going. But of course, things can't go on forever.\n",
    "\n",
    "So by this stage, after trying a few different things, we'd ask ourselves did we meet the evaluation metric?\n",
    "\n",
    "Remember we defined one in step 3.\n",
    "\n",
    "> If we can reach 95% accuracy at predicting whether or not a patient has heart disease during the proof of concept, we'll pursure this project.\n",
    "\n",
    "In this case, we didn't. The highest accuracy our model achieved was below 90%.\n",
    "\n",
    "#### What next?\n",
    "\n",
    "You might be wondering, what happens when the evaluation metric doesn't get hit?\n",
    "\n",
    "Is everything we've done wasted?\n",
    "\n",
    "No.\n",
    "\n",
    "It means we know what doesn't work. In this case, we know the current model we're using (a tuned version of `LogisticRegression`) along with our specific data set doesn't hit the target we set ourselves.\n",
    "\n",
    "This is where step 6 comes into its own.\n",
    "\n",
    "A good next step would be to discuss with your team or research on your own different options of going forward.\n",
    "\n",
    "* Could you collect more data?\n",
    "\n",
    "* Could you try a better model? If you're working with structured data, you might want to look into [CatBoost](https://catboost.ai/) or [XGBoost](https://xgboost.ai/).\n",
    "\n",
    "* Could you improve the current models (beyond what we've done so far)?\n",
    "* If your model is good enough, how would you export it and share it with others? (Hint: check out [Scikit-Learn's documentation on model persistance](https://scikit-learn.org/stable/modules/model_persistence.html))\n",
    "\n",
    "The key here is to remember, your biggest restriction will be time. Hence, why it's paramount to minimise your times between experiments.\n",
    "\n",
    "The more you try, the more you figure out what doesn't work, the more you'll start to get a hang of what does."
   ]
  }
 ],
 "metadata": {
  "kernelspec": {
   "display_name": "Python 3",
   "language": "python",
   "name": "python3"
  },
  "language_info": {
   "codemirror_mode": {
    "name": "ipython",
    "version": 3
   },
   "file_extension": ".py",
   "mimetype": "text/x-python",
   "name": "python",
   "nbconvert_exporter": "python",
   "pygments_lexer": "ipython3",
   "version": "3.6.9"
  }
 },
 "nbformat": 4,
 "nbformat_minor": 4
}
