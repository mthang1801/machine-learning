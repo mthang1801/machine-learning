{
 "cells": [
  {
   "cell_type": "markdown",
   "metadata": {},
   "source": [
    "# Predicting heart disease using ML\n",
    "\n",
    "This notebook looks into using various Python-based machine learning and data science libraries in an attempt to build a machine model capable of predicting whether or not someone has heart disease based on their medical attributes\n",
    "\n",
    "## What is classification?\n",
    "\n",
    "Classification involves deciding whether a sample is part of one class or another (single-class classification). If there are multiple class options, it's referred to as **multi-class classification**.\n",
    "\n",
    "## What we'll end up with¶\n",
    "Since we already have a dataset, we'll approach the problem with the following machine learning modelling framework.\n",
    "\n",
    "| <img src=\"../images/ml101-6-step-ml-framework.png\" width=500/> |\n",
    "|:--:|\n",
    "| 6 Step Machine Learning Modelling Framework ([read more](https://whimsical.com/9g65jgoRYTxMXxDosndYTB)) |\n",
    "\n",
    "More specifically, we'll look at the following topics.\n",
    "* **Exploratory data analysis (EDA)** - the process of going through a dataset and finding out more about it.\n",
    "* **Model training** - create model(s) to learn to predict a target variable based on other variables.\n",
    "* **Model evaluation** - evaluating a models predictions using problem-specific evaluation metrics. \n",
    "* **Model comparison** - comparing several different models to find the best one.\n",
    "* **Model fine-tuning** - once we've found a good model, how can we improve it?\n",
    "* **Feature importance** - since we're predicting the presence of heart disease, are there some things which are more important for prediction?\n",
    "* **Cross-validation** - if we do build a good model, can we be sure it will work on unseen data?\n",
    "* **Reporting what we've found** - if we had to present our work, what would we show someone?\n",
    "\n",
    "To work through these topics, we'll use pandas, Matplotlib and NumPy for data anaylsis, as well as, Scikit-Learn \n",
    "for machine learning and modelling tasks\n",
    "\n",
    "| <img src=\"../images/supervised-projects-6-step-ml-framework-tools-highlight.png\" width=500/>|\n",
    "|:--:|\n",
    "|Tools which can be used for each step of the machine learning modelling process.|\n",
    "\n",
    "**We're going to take the following approach:**\n",
    "1. Problem definition\n",
    "2. Data\n",
    "3. Evaluation\n",
    "4. Features\n",
    "5. Modelling\n",
    "6. Experimentation\n",
    "\n",
    "## 1. Problem definition\n",
    "In our case, the problem we will be exploring is **binary classification** (a sample can only be one of two things).\\\n",
    "This is because we're going to be using a number of differnet **features** (pieces of information) about a person to predict whether they have heart disease or not.\n",
    "\n",
    "\n",
    "In a statement, \n",
    "> Given clinical parameters about patients, can we predict whether or not they has heart disease?\n",
    "\n",
    "## 2. Data\n",
    "\n",
    "\n",
    "What you'll want to do here is dive into the data your problem definition is based on. This may involve, sourcing, defining different parameters, talking to experts about it and finding out what you should expect.\n",
    "\n",
    "The original data came from the [Cleveland database](https://archive.ics.uci.edu/ml/datasets/heart+Disease) from UCI Machine Learning Repository.\n",
    "\n",
    "Howevever, we've downloaded it in a formatted way from [Kaggle](https://www.kaggle.com/ronitf/heart-disease-uci/).\n",
    "\n",
    "The original database contains 76 attributes, but here only 14 attributes will be used. **Attributes** (also called **features**) are the variables what we'll use to predict our **target variable**.\n",
    "\n",
    "Attributes and features are also referred to as **independent variables** and a target variable can be referred to as a **dependent variable**.\n",
    "\n",
    "> We use the independent variables to predict our dependent variable.\n",
    "\n",
    "Or in our case, the independent variables are a patients different medical attributes and the dependent variable is whether or not they have heart disease.\n",
    "\n",
    "\n",
    "## 3. Evaluation\n",
    "\n",
    "The evaluation metric is something you might define at the start of a project.\n",
    "\n",
    "Since machine learning is very experimental, you might say something like, \n",
    "\n",
    "> If we can reach 95% accuracy at predicting whether or not a patient has heart disease during the proof of concept, we'll pursure this project.\n",
    "\n",
    "The reason this is helpful is it provides a rough goal for a machine learning engineer or data scientist to work towards.\n",
    "\n",
    "However, due to the nature of experimentation, the evaluation metric may change over time.\n",
    "\n",
    "## 4. Features \n",
    "\n",
    "TFeatures are different parts of the data. During this step, you'll want to start finding out what you can about the data.\n",
    "\n",
    "One of the most common ways to do this, is to create a **data dictionary**.\n",
    "\n",
    "### Heart Disease Data Dictionary\n",
    "\n",
    "A data dictionary describes the data you're dealing with. Not all datasets come with them so this is where you may have to do your research or ask a **subject matter expert** (someone who knows about the data) for more.\n",
    "\n",
    "The following are the features we'll use to predict our target variable (heart disease or no heart disease).\n",
    "\n",
    "1. age - age in years \n",
    "2. sex - (1 = male; 0 = female) \n",
    "3. cp - chest pain type \n",
    "    * 0: Typical angina: chest pain related decrease blood supply to the heart\n",
    "    * 1: Atypical angina: chest pain not related to heart\n",
    "    * 2: Non-anginal pain: typically esophageal spasms (non heart related)\n",
    "    * 3: Asymptomatic: chest pain not showing signs of disease\n",
    "4. trestbps - resting blood pressure (in mm Hg on admission to the hospital)\n",
    "    * anything above 130-140 is typically cause for concern\n",
    "5. chol - serum cholestoral in mg/dl \n",
    "    * serum = LDL + HDL + .2 * triglycerides\n",
    "    * above 200 is cause for concern\n",
    "6. fbs - (fasting blood sugar > 120 mg/dl) (1 = true; 0 = false) \n",
    "    * '>126' mg/dL signals diabetes\n",
    "7. restecg - resting electrocardiographic results\n",
    "    * 0: Nothing to note\n",
    "    * 1: ST-T Wave abnormality\n",
    "        - can range from mild symptoms to severe problems\n",
    "        - signals non-normal heart beat\n",
    "    * 2: Possible or definite left ventricular hypertrophy\n",
    "        - Enlarged heart's main pumping chamber\n",
    "8. thalach - maximum heart rate achieved \n",
    "9. exang - exercise induced angina (1 = yes; 0 = no) \n",
    "10. oldpeak - ST depression induced by exercise relative to rest \n",
    "    * looks at stress of heart during excercise\n",
    "    * unhealthy heart will stress more\n",
    "11. slope - the slope of the peak exercise ST segment\n",
    "    * 0: Upsloping: better heart rate with excercise (uncommon)\n",
    "    * 1: Flatsloping: minimal change (typical healthy heart)\n",
    "    * 2: Downslopins: signs of unhealthy heart\n",
    "12. ca - number of major vessels (0-3) colored by flourosopy \n",
    "    * colored vessel means the doctor can see the blood passing through\n",
    "    * the more blood movement the better (no clots)\n",
    "13. thal - thalium stress result\n",
    "    * 1,3: normal\n",
    "    * 6: fixed defect: used to be defect but ok now\n",
    "    * 7: reversable defect: no proper blood movement when excercising \n",
    "14. target - have disease or not (1=yes, 0=no) (= the predicted attribute)\n",
    "\n",
    "**Note:** No personal identifiable information (PPI) can be found in the dataset.\n",
    "\n",
    "It's a good idea to save these to a Python dictionary or in an external file, so we can look at them later without coming back here."
   ]
  },
  {
   "cell_type": "markdown",
   "metadata": {},
   "source": [
    "## Remember we are following Scikit-learn machine learning map\n",
    "\n",
    "<img src=\"../images/ml_map.png\" width=800/>"
   ]
  },
  {
   "cell_type": "markdown",
   "metadata": {},
   "source": [
    "## Import relevant libriries"
   ]
  },
  {
   "cell_type": "code",
   "execution_count": 1,
   "metadata": {},
   "outputs": [],
   "source": [
    "# Getting data ready ( Thư viện để xử lý, làm mịn dữ liệu)\n",
    "import numpy as np \n",
    "import pandas as pd\n",
    "import matplotlib.pyplot as plt\n",
    "import seaborn as sns\n",
    "sns.set()\n",
    "\n",
    "# Modelling ( Mô hình cho dự đoán Classification)\n",
    "from sklearn.ensemble import RandomForestClassifier\n",
    "from sklearn.linear_model import LogisticRegression\n",
    "from sklearn.neighbors import KNeighborsClassifier\n",
    "\n",
    "# Evaluating models ( Đánh giá mô hình )\n",
    "from sklearn.metrics import accuracy_score,precision_score, f1_score, recall_score\n",
    "from sklearn.metrics import plot_roc_curve\n",
    "from sklearn.metrics import confusion_matrix , classification_report\n",
    "from sklearn.model_selection import GridSearchCV, RandomizedSearchCV \n",
    "from sklearn.model_selection import train_test_split, cross_val_score"
   ]
  },
  {
   "cell_type": "markdown",
   "metadata": {},
   "source": [
    "## Load data ( Import data ) "
   ]
  },
  {
   "cell_type": "code",
   "execution_count": 53,
   "metadata": {},
   "outputs": [
    {
     "data": {
      "text/html": [
       "<div>\n",
       "<style scoped>\n",
       "    .dataframe tbody tr th:only-of-type {\n",
       "        vertical-align: middle;\n",
       "    }\n",
       "\n",
       "    .dataframe tbody tr th {\n",
       "        vertical-align: top;\n",
       "    }\n",
       "\n",
       "    .dataframe thead th {\n",
       "        text-align: right;\n",
       "    }\n",
       "</style>\n",
       "<table border=\"1\" class=\"dataframe\">\n",
       "  <thead>\n",
       "    <tr style=\"text-align: right;\">\n",
       "      <th></th>\n",
       "      <th>age</th>\n",
       "      <th>sex</th>\n",
       "      <th>cp</th>\n",
       "      <th>trestbps</th>\n",
       "      <th>chol</th>\n",
       "      <th>fbs</th>\n",
       "      <th>restecg</th>\n",
       "      <th>thalach</th>\n",
       "      <th>exang</th>\n",
       "      <th>oldpeak</th>\n",
       "      <th>slope</th>\n",
       "      <th>ca</th>\n",
       "      <th>thal</th>\n",
       "      <th>target</th>\n",
       "    </tr>\n",
       "  </thead>\n",
       "  <tbody>\n",
       "    <tr>\n",
       "      <th>0</th>\n",
       "      <td>63</td>\n",
       "      <td>1</td>\n",
       "      <td>3</td>\n",
       "      <td>145</td>\n",
       "      <td>233</td>\n",
       "      <td>1</td>\n",
       "      <td>0</td>\n",
       "      <td>150</td>\n",
       "      <td>0</td>\n",
       "      <td>2.3</td>\n",
       "      <td>0</td>\n",
       "      <td>0</td>\n",
       "      <td>1</td>\n",
       "      <td>1</td>\n",
       "    </tr>\n",
       "    <tr>\n",
       "      <th>1</th>\n",
       "      <td>37</td>\n",
       "      <td>1</td>\n",
       "      <td>2</td>\n",
       "      <td>130</td>\n",
       "      <td>250</td>\n",
       "      <td>0</td>\n",
       "      <td>1</td>\n",
       "      <td>187</td>\n",
       "      <td>0</td>\n",
       "      <td>3.5</td>\n",
       "      <td>0</td>\n",
       "      <td>0</td>\n",
       "      <td>2</td>\n",
       "      <td>1</td>\n",
       "    </tr>\n",
       "    <tr>\n",
       "      <th>2</th>\n",
       "      <td>41</td>\n",
       "      <td>0</td>\n",
       "      <td>1</td>\n",
       "      <td>130</td>\n",
       "      <td>204</td>\n",
       "      <td>0</td>\n",
       "      <td>0</td>\n",
       "      <td>172</td>\n",
       "      <td>0</td>\n",
       "      <td>1.4</td>\n",
       "      <td>2</td>\n",
       "      <td>0</td>\n",
       "      <td>2</td>\n",
       "      <td>1</td>\n",
       "    </tr>\n",
       "    <tr>\n",
       "      <th>3</th>\n",
       "      <td>56</td>\n",
       "      <td>1</td>\n",
       "      <td>1</td>\n",
       "      <td>120</td>\n",
       "      <td>236</td>\n",
       "      <td>0</td>\n",
       "      <td>1</td>\n",
       "      <td>178</td>\n",
       "      <td>0</td>\n",
       "      <td>0.8</td>\n",
       "      <td>2</td>\n",
       "      <td>0</td>\n",
       "      <td>2</td>\n",
       "      <td>1</td>\n",
       "    </tr>\n",
       "    <tr>\n",
       "      <th>4</th>\n",
       "      <td>57</td>\n",
       "      <td>0</td>\n",
       "      <td>0</td>\n",
       "      <td>120</td>\n",
       "      <td>354</td>\n",
       "      <td>0</td>\n",
       "      <td>1</td>\n",
       "      <td>163</td>\n",
       "      <td>1</td>\n",
       "      <td>0.6</td>\n",
       "      <td>2</td>\n",
       "      <td>0</td>\n",
       "      <td>2</td>\n",
       "      <td>1</td>\n",
       "    </tr>\n",
       "  </tbody>\n",
       "</table>\n",
       "</div>"
      ],
      "text/plain": [
       "   age  sex  cp  trestbps  chol  fbs  restecg  thalach  exang  oldpeak  slope  \\\n",
       "0   63    1   3       145   233    1        0      150      0      2.3      0   \n",
       "1   37    1   2       130   250    0        1      187      0      3.5      0   \n",
       "2   41    0   1       130   204    0        0      172      0      1.4      2   \n",
       "3   56    1   1       120   236    0        1      178      0      0.8      2   \n",
       "4   57    0   0       120   354    0        1      163      1      0.6      2   \n",
       "\n",
       "   ca  thal  target  \n",
       "0   0     1       1  \n",
       "1   0     2       1  \n",
       "2   0     2       1  \n",
       "3   0     2       1  \n",
       "4   0     2       1  "
      ]
     },
     "execution_count": 53,
     "metadata": {},
     "output_type": "execute_result"
    }
   ],
   "source": [
    "df = pd.read_csv(\"../data/heart-disease.csv\")\n",
    "df.head()"
   ]
  },
  {
   "cell_type": "markdown",
   "metadata": {},
   "source": [
    "## EDA ( Exploring data analysis)  \n",
    "\n",
    "The goal is to find out more about the data and become a subject matter export on dataset we're working with: \n",
    "(Khám phá tổng quan về dữ liệu, tìm hiểu các thuộc tính, phân tích, định nghĩa về đặc tính của dữ liệu. Phần này ta chưa đi sâu về làm mịn dữ liệu, cần tìm hiểu ý nghĩa của các thuộc tính trong thực tế.). Cần trả lời được một số câu hỏi sau : \n",
    "1. What questions are we trying to resolve? ( Mục đích cuối cùng mà bạn theo đuổi dữ liệu này là gì ? )\n",
    "2. What kind of data do we have and how to solve different types ? ( Dữ liệu mà chúng ta có thưộc loại gì và làm như thế nào để xử lý được các kiểu dữ liệu khác nhau? )\n",
    "3. What's missing values from data and how to deal with it ? ( Dữ liệu thiếu sót là không thể tránh khỏi, vậy kiểu dử liệu thiếu sót trong data là gì, làm như thế nào để làm mịn được nó ? ) \n",
    "4. Where / What are the outliers and why should we care about them? ( Giá trị ngoại lai là gì, làm như thế nào để biết được nó và tại sao ta lại quan tâm đến nó ? )\n",
    "5. How do we add, change or remove features to get more our data? ( Khi đã có được dữ liệu, chúng ta sẽ tìm cách làm mịn dữ liệu trước khi đưa chúng vào mô hình vậy làm như thế nào để  thêm, sửa, xóa dữ các thuộc tính để có được dữ liệu tối ưu hơn ? )"
   ]
  },
  {
   "cell_type": "markdown",
   "metadata": {},
   "source": [
    "### 1. age"
   ]
  },
  {
   "cell_type": "code",
   "execution_count": 3,
   "metadata": {},
   "outputs": [
    {
     "data": {
      "text/plain": [
       "<AxesSubplot:ylabel='Frequency'>"
      ]
     },
     "execution_count": 3,
     "metadata": {},
     "output_type": "execute_result"
    },
    {
     "data": {
      "image/png": "[encoded data removed]",
      "text/plain": [
       "<Figure size 432x288 with 1 Axes>"
      ]
     },
     "metadata": {},
     "output_type": "display_data"
    }
   ],
   "source": [
    "df.age.plot(kind=\"hist\")"
   ]
  },
  {
   "cell_type": "markdown",
   "metadata": {},
   "source": [
    "From hist plot, we see heart disease is distributed the most for the people from 55 to 60 \\\n",
    "Từ biểu đồ, ta thấy bệnh tim tập trung nhiều nhất từ những người 55 đến 60"
   ]
  },
  {
   "cell_type": "markdown",
   "metadata": {},
   "source": [
    "### 2. sex (1 = male; 0 = female) "
   ]
  },
  {
   "cell_type": "code",
   "execution_count": 4,
   "metadata": {},
   "outputs": [
    {
     "data": {
      "text/plain": [
       "(array([0, 1]), [Text(0, 0, 'Female'), Text(1, 0, 'Male')])"
      ]
     },
     "execution_count": 4,
     "metadata": {},
     "output_type": "execute_result"
    },
    {
     "data": {
      "image/png": "[encoded data removed]",
      "text/plain": [
       "<Figure size 432x288 with 1 Axes>"
      ]
     },
     "metadata": {},
     "output_type": "display_data"
    }
   ],
   "source": [
    "sex = df.sex.value_counts()\n",
    "sex.index = [\"Female\", \"Male\"]\n",
    "sex.plot(kind=\"bar\")\n",
    "plt.xlabel(\"Sex\")\n",
    "plt.ylabel(\"Freq\")\n",
    "plt.xticks(rotation=0)"
   ]
  },
  {
   "cell_type": "code",
   "execution_count": 5,
   "metadata": {},
   "outputs": [
    {
     "data": {
      "text/html": [
       "<div>\n",
       "<style scoped>\n",
       "    .dataframe tbody tr th:only-of-type {\n",
       "        vertical-align: middle;\n",
       "    }\n",
       "\n",
       "    .dataframe tbody tr th {\n",
       "        vertical-align: top;\n",
       "    }\n",
       "\n",
       "    .dataframe thead th {\n",
       "        text-align: right;\n",
       "    }\n",
       "</style>\n",
       "<table border=\"1\" class=\"dataframe\">\n",
       "  <thead>\n",
       "    <tr style=\"text-align: right;\">\n",
       "      <th>target</th>\n",
       "      <th>Not diease</th>\n",
       "      <th>Disease</th>\n",
       "    </tr>\n",
       "    <tr>\n",
       "      <th>sex</th>\n",
       "      <th></th>\n",
       "      <th></th>\n",
       "    </tr>\n",
       "  </thead>\n",
       "  <tbody>\n",
       "    <tr>\n",
       "      <th>Female</th>\n",
       "      <td>24</td>\n",
       "      <td>72</td>\n",
       "    </tr>\n",
       "    <tr>\n",
       "      <th>Male</th>\n",
       "      <td>114</td>\n",
       "      <td>93</td>\n",
       "    </tr>\n",
       "  </tbody>\n",
       "</table>\n",
       "</div>"
      ],
      "text/plain": [
       "target  Not diease  Disease\n",
       "sex                        \n",
       "Female          24       72\n",
       "Male           114       93"
      ]
     },
     "execution_count": 5,
     "metadata": {},
     "output_type": "execute_result"
    }
   ],
   "source": [
    "df_sex_target = pd.crosstab(df.sex,df.target) \n",
    "df_sex_target = df_sex_target.rename(index={0: \"Female\",1:\"Male\"},columns={0 : \"Not diease\", 1: \"Disease\"})\n",
    "df_sex_target"
   ]
  },
  {
   "cell_type": "code",
   "execution_count": 6,
   "metadata": {
    "scrolled": true
   },
   "outputs": [
    {
     "data": {
      "text/plain": [
       "<AxesSubplot:xlabel='sex'>"
      ]
     },
     "execution_count": 6,
     "metadata": {},
     "output_type": "execute_result"
    },
    {
     "data": {
      "image/png": "[encoded data removed]",
      "text/plain": [
       "<Figure size 432x288 with 1 Axes>"
      ]
     },
     "metadata": {},
     "output_type": "display_data"
    }
   ],
   "source": [
    "df_sex_target.plot(kind=\"bar\")"
   ]
  },
  {
   "cell_type": "markdown",
   "metadata": {},
   "source": [
    "- In the graph, we see the number of female people has heart diease more than male people\n",
    "* With Female people, the number of people is not disease is 24, but the one is disease is 72, that meansthe number of people who is not diease equal 1/3 who is disease by proportion\n",
    "* With Male people, the number of people is not disease is 114, but the one is disease is 93, that meansthe number of people who is not diease approximately equal who is disease by proportion\n"
   ]
  },
  {
   "cell_type": "code",
   "execution_count": 7,
   "metadata": {},
   "outputs": [
    {
     "data": {
      "text/plain": [
       "<AxesSubplot:xlabel='target', ylabel='sex'>"
      ]
     },
     "execution_count": 7,
     "metadata": {},
     "output_type": "execute_result"
    },
    {
     "data": {
      "image/png": "[encoded data removed]",
      "text/plain": [
       "<Figure size 432x288 with 2 Axes>"
      ]
     },
     "metadata": {},
     "output_type": "display_data"
    }
   ],
   "source": [
    "# We can use sns.heatmap to show the graph\n",
    "sns.heatmap(df_sex_target, annot=True, fmt=\".0f\")"
   ]
  },
  {
   "cell_type": "markdown",
   "metadata": {},
   "source": [
    "### 3.  cp - chest pain type "
   ]
  },
  {
   "cell_type": "markdown",
   "metadata": {},
   "source": [
    "* 0: Typical angina: chest pain related decrease blood supply to the heart( Đau thắt ngực điển hình: đau ngực liên quan đến giảm cung cấp máu cho tim) \n",
    "* 1: Atypical angina: chest pain not related to heart ( Đau thắt ngực không điển hình: đau ngực không liên quan đến tim)\n",
    "* 2: Non-anginal pain: typically esophageal spasms (non heart related) ( Đau không do đau thắt ngực: thường là co thắt thực quản (không liên quan đến tim)\n",
    "* 3: Asymptomatic: chest pain not showing signs of disease ( Không có triệu chứng: đau ngực không có dấu hiệu của bệnh)"
   ]
  },
  {
   "cell_type": "code",
   "execution_count": 8,
   "metadata": {},
   "outputs": [
    {
     "data": {
      "text/plain": [
       "0    143\n",
       "2     87\n",
       "1     50\n",
       "3     23\n",
       "Name: cp, dtype: int64"
      ]
     },
     "execution_count": 8,
     "metadata": {},
     "output_type": "execute_result"
    }
   ],
   "source": [
    "df.cp.value_counts()"
   ]
  },
  {
   "cell_type": "code",
   "execution_count": 9,
   "metadata": {},
   "outputs": [
    {
     "data": {
      "text/plain": [
       "<AxesSubplot:>"
      ]
     },
     "execution_count": 9,
     "metadata": {},
     "output_type": "execute_result"
    },
    {
     "data": {
      "image/png": "[encoded data removed]",
      "text/plain": [
       "<Figure size 432x288 with 1 Axes>"
      ]
     },
     "metadata": {},
     "output_type": "display_data"
    }
   ],
   "source": [
    "df.cp.value_counts().plot(kind=\"bar\")"
   ]
  },
  {
   "cell_type": "code",
   "execution_count": 10,
   "metadata": {},
   "outputs": [
    {
     "data": {
      "text/html": [
       "<div>\n",
       "<style scoped>\n",
       "    .dataframe tbody tr th:only-of-type {\n",
       "        vertical-align: middle;\n",
       "    }\n",
       "\n",
       "    .dataframe tbody tr th {\n",
       "        vertical-align: top;\n",
       "    }\n",
       "\n",
       "    .dataframe thead th {\n",
       "        text-align: right;\n",
       "    }\n",
       "</style>\n",
       "<table border=\"1\" class=\"dataframe\">\n",
       "  <thead>\n",
       "    <tr style=\"text-align: right;\">\n",
       "      <th></th>\n",
       "      <th>Not disease</th>\n",
       "      <th>disease</th>\n",
       "    </tr>\n",
       "    <tr>\n",
       "      <th>cp</th>\n",
       "      <th></th>\n",
       "      <th></th>\n",
       "    </tr>\n",
       "  </thead>\n",
       "  <tbody>\n",
       "    <tr>\n",
       "      <th>0</th>\n",
       "      <td>104</td>\n",
       "      <td>39</td>\n",
       "    </tr>\n",
       "    <tr>\n",
       "      <th>1</th>\n",
       "      <td>9</td>\n",
       "      <td>41</td>\n",
       "    </tr>\n",
       "    <tr>\n",
       "      <th>2</th>\n",
       "      <td>18</td>\n",
       "      <td>69</td>\n",
       "    </tr>\n",
       "    <tr>\n",
       "      <th>3</th>\n",
       "      <td>7</td>\n",
       "      <td>16</td>\n",
       "    </tr>\n",
       "  </tbody>\n",
       "</table>\n",
       "</div>"
      ],
      "text/plain": [
       "    Not disease  disease\n",
       "cp                      \n",
       "0           104       39\n",
       "1             9       41\n",
       "2            18       69\n",
       "3             7       16"
      ]
     },
     "execution_count": 10,
     "metadata": {},
     "output_type": "execute_result"
    }
   ],
   "source": [
    "df_cp_target = pd.crosstab(df.cp,df.target)\n",
    "df_cp_target.columns = [\"Not disease\", \"disease\"]\n",
    "df_cp_target"
   ]
  },
  {
   "cell_type": "code",
   "execution_count": 11,
   "metadata": {},
   "outputs": [
    {
     "data": {
      "text/plain": [
       "<AxesSubplot:xlabel='cp'>"
      ]
     },
     "execution_count": 11,
     "metadata": {},
     "output_type": "execute_result"
    },
    {
     "data": {
      "image/png": "[encoded data removed]",
      "text/plain": [
       "<Figure size 432x288 with 1 Axes>"
      ]
     },
     "metadata": {},
     "output_type": "display_data"
    }
   ],
   "source": [
    "df_cp_target.plot(kind=\"bar\")"
   ]
  },
  {
   "cell_type": "markdown",
   "metadata": {},
   "source": [
    "### 4. trestbps - resting blood pressure (in mm Hg on admission to the hospital) \n",
    "Huyết áp lúc nghỉ (tính bằng mm Hg khi nhập viện)"
   ]
  },
  {
   "cell_type": "code",
   "execution_count": 12,
   "metadata": {},
   "outputs": [
    {
     "data": {
      "text/plain": [
       "array([145, 130, 120, 140, 172, 150, 110, 135, 160, 105, 125, 142, 155,\n",
       "       104, 138, 128, 108, 134, 122, 115, 118, 100, 124,  94, 112, 102,\n",
       "       152, 101, 132, 148, 178, 129, 180, 136, 126, 106, 156, 170, 146,\n",
       "       117, 200, 165, 174, 192, 144, 123, 154, 114, 164])"
      ]
     },
     "execution_count": 12,
     "metadata": {},
     "output_type": "execute_result"
    }
   ],
   "source": [
    "df.trestbps.unique()"
   ]
  },
  {
   "cell_type": "code",
   "execution_count": 13,
   "metadata": {},
   "outputs": [
    {
     "data": {
      "text/plain": [
       "131.62376237623764"
      ]
     },
     "execution_count": 13,
     "metadata": {},
     "output_type": "execute_result"
    }
   ],
   "source": [
    "df.trestbps.mean()"
   ]
  },
  {
   "cell_type": "markdown",
   "metadata": {},
   "source": [
    "### 5. thalach - maximum heart rate achieved (nhịp tim tối đa đạt được)"
   ]
  },
  {
   "cell_type": "code",
   "execution_count": 14,
   "metadata": {
    "scrolled": true
   },
   "outputs": [
    {
     "data": {
      "text/plain": [
       "0      150\n",
       "1      187\n",
       "2      172\n",
       "3      178\n",
       "4      163\n",
       "      ... \n",
       "298    123\n",
       "299    132\n",
       "300    141\n",
       "301    115\n",
       "302    174\n",
       "Name: thalach, Length: 303, dtype: int64"
      ]
     },
     "execution_count": 14,
     "metadata": {},
     "output_type": "execute_result"
    }
   ],
   "source": [
    "df.thalach"
   ]
  },
  {
   "cell_type": "code",
   "execution_count": 15,
   "metadata": {
    "scrolled": true
   },
   "outputs": [
    {
     "data": {
      "text/plain": [
       "Text(0, 0.5, 'Freq')"
      ]
     },
     "execution_count": 15,
     "metadata": {},
     "output_type": "execute_result"
    },
    {
     "data": {
      "image/png": "[encoded data removed]",
      "text/plain": [
       "<Figure size 432x288 with 1 Axes>"
      ]
     },
     "metadata": {},
     "output_type": "display_data"
    }
   ],
   "source": [
    "thalach = df.thalach.sort_values()\n",
    "thalach_split_group = np.array_split(thalach, 3)\n",
    "thalach_range = [];\n",
    "thalach_frequency = []\n",
    "for i,l in enumerate(thalach_split_group) : \n",
    "    thalach_range.append((thalach_split_group[i].min(), thalach_split_group[i].max()))\n",
    "    \n",
    "for i,tple in enumerate(thalach_range) :     \n",
    "    thalach_frequency.append( (thalach[(thalach >= tple[0]) & (thalach < tple[1])]).count() )\n",
    "    \n",
    "df_thalach = pd.DataFrame(thalach_frequency, index=thalach_range )\n",
    "df_thalach.plot(kind=\"bar\")\n",
    "plt.xticks(rotation=0)\n",
    "plt.xlabel(\"Age group\")\n",
    "plt.ylabel(\"Freq\")"
   ]
  },
  {
   "cell_type": "markdown",
   "metadata": {},
   "source": [
    "### The relationship between age and thalach "
   ]
  },
  {
   "cell_type": "code",
   "execution_count": 16,
   "metadata": {},
   "outputs": [
    {
     "data": {
      "text/plain": [
       "<matplotlib.legend.Legend at 0x7fb19c69a4a8>"
      ]
     },
     "execution_count": 16,
     "metadata": {},
     "output_type": "execute_result"
    },
    {
     "data": {
      "image/png": "[encoded data removed]",
      "text/plain": [
       "<Figure size 864x432 with 1 Axes>"
      ]
     },
     "metadata": {},
     "output_type": "display_data"
    }
   ],
   "source": [
    "fig,ax = plt.subplots(figsize=(12,6))\n",
    "ax.scatter(df.age[df.target == 1],df.thalach[df.target==1], label=\"Disease\")\n",
    "ax.scatter(df.age[df.target == 0],df.thalach[df.target == 0], label=\"Not disease\")\n",
    "ax.legend()"
   ]
  },
  {
   "cell_type": "markdown",
   "metadata": {},
   "source": [
    "### 6. thal - thalium stress result\n",
    "\n",
    "* 1,3: normal\n",
    "* 6: fixed defect: used to be defect but ok now\n",
    "* 7: reversable defect: no proper blood movement when excercising"
   ]
  },
  {
   "cell_type": "code",
   "execution_count": 17,
   "metadata": {},
   "outputs": [
    {
     "data": {
      "text/plain": [
       "2    166\n",
       "3    117\n",
       "1     18\n",
       "0      2\n",
       "Name: thal, dtype: int64"
      ]
     },
     "execution_count": 17,
     "metadata": {},
     "output_type": "execute_result"
    }
   ],
   "source": [
    "df.thal.value_counts()"
   ]
  },
  {
   "cell_type": "markdown",
   "metadata": {},
   "source": [
    "Well, everything is normal !!"
   ]
  },
  {
   "cell_type": "markdown",
   "metadata": {},
   "source": [
    "## Correlation Table"
   ]
  },
  {
   "cell_type": "code",
   "execution_count": 18,
   "metadata": {},
   "outputs": [
    {
     "data": {
      "text/plain": [
       "<AxesSubplot:>"
      ]
     },
     "execution_count": 18,
     "metadata": {},
     "output_type": "execute_result"
    },
    {
     "data": {
      "image/png": "[encoded data removed]",
      "text/plain": [
       "<Figure size 1152x864 with 2 Axes>"
      ]
     },
     "metadata": {},
     "output_type": "display_data"
    }
   ],
   "source": [
    "plt.subplots(figsize=(16,12))\n",
    "sns.heatmap(df.corr(), annot=True, fmt=\".2f\", cmap=\"PuBuGn\")"
   ]
  },
  {
   "cell_type": "markdown",
   "metadata": {},
   "source": [
    "### Check categorical features"
   ]
  },
  {
   "cell_type": "code",
   "execution_count": 19,
   "metadata": {
    "scrolled": true
   },
   "outputs": [
    {
     "data": {
      "text/plain": [
       "age           int64\n",
       "sex           int64\n",
       "cp            int64\n",
       "trestbps      int64\n",
       "chol          int64\n",
       "fbs           int64\n",
       "restecg       int64\n",
       "thalach       int64\n",
       "exang         int64\n",
       "oldpeak     float64\n",
       "slope         int64\n",
       "ca            int64\n",
       "thal          int64\n",
       "target        int64\n",
       "dtype: object"
      ]
     },
     "execution_count": 19,
     "metadata": {},
     "output_type": "execute_result"
    }
   ],
   "source": [
    "df.dtypes"
   ]
  },
  {
   "cell_type": "markdown",
   "metadata": {},
   "source": [
    "**data has no categorical features**"
   ]
  },
  {
   "cell_type": "markdown",
   "metadata": {},
   "source": [
    "### Check missing value"
   ]
  },
  {
   "cell_type": "code",
   "execution_count": 20,
   "metadata": {
    "scrolled": true
   },
   "outputs": [
    {
     "data": {
      "text/plain": [
       "age         0\n",
       "sex         0\n",
       "cp          0\n",
       "trestbps    0\n",
       "chol        0\n",
       "fbs         0\n",
       "restecg     0\n",
       "thalach     0\n",
       "exang       0\n",
       "oldpeak     0\n",
       "slope       0\n",
       "ca          0\n",
       "thal        0\n",
       "target      0\n",
       "dtype: int64"
      ]
     },
     "execution_count": 20,
     "metadata": {},
     "output_type": "execute_result"
    }
   ],
   "source": [
    "df.isnull().sum()"
   ]
  },
  {
   "cell_type": "markdown",
   "metadata": {},
   "source": [
    "**data has no missing values**"
   ]
  },
  {
   "cell_type": "markdown",
   "metadata": {},
   "source": [
    "## Modelling\n",
    "\n",
    "We are going to try 3 different machine learning models: \n",
    "1. LogisticRegression\n",
    "2. KNeighborClassifier\n",
    "3. RandomForestsClassifier"
   ]
  },
  {
   "cell_type": "code",
   "execution_count": 21,
   "metadata": {},
   "outputs": [],
   "source": [
    "# split data into x,y\n",
    "x = df.drop(\"target\",axis=1)\n",
    "y = df[\"target\"]"
   ]
  },
  {
   "cell_type": "code",
   "execution_count": 22,
   "metadata": {},
   "outputs": [],
   "source": [
    "# setup random seed\n",
    "np.random.seed(42)\n",
    "# split into trainning and testing sets \n",
    "x_train, x_test,y_train, y_test = train_test_split(x,y, train_size=0.8)"
   ]
  },
  {
   "cell_type": "code",
   "execution_count": 23,
   "metadata": {},
   "outputs": [
    {
     "name": "stderr",
     "output_type": "stream",
     "text": [
      "/home/mvt/.local/lib/python3.6/site-packages/sklearn/linear_model/_logistic.py:764: ConvergenceWarning: lbfgs failed to converge (status=1):\n",
      "STOP: TOTAL NO. of ITERATIONS REACHED LIMIT.\n",
      "\n",
      "Increase the number of iterations (max_iter) or scale the data as shown in:\n",
      "    https://scikit-learn.org/stable/modules/preprocessing.html\n",
      "Please also refer to the documentation for alternative solver options:\n",
      "    https://scikit-learn.org/stable/modules/linear_model.html#logistic-regression\n",
      "  extra_warning_msg=_LOGISTIC_SOLVER_CONVERGENCE_MSG)\n"
     ]
    },
    {
     "data": {
      "text/plain": [
       "{'LReg': 0.8852459016393442,\n",
       " 'KNB': 0.6885245901639344,\n",
       " 'RDC': 0.8360655737704918}"
      ]
     },
     "execution_count": 23,
     "metadata": {},
     "output_type": "execute_result"
    }
   ],
   "source": [
    "# setup random seed\n",
    "np.random.seed(42)\n",
    "# create models dictionary\n",
    "models = {\n",
    "    \"LReg\": LogisticRegression(), \n",
    "    \"KNB\": KNeighborsClassifier(),\n",
    "    \"RDC\": RandomForestClassifier() \n",
    "}\n",
    "\n",
    "def fit_and_scores(models) : \n",
    "    \"\"\"\n",
    "    Fits and evaluate given machine learning models.\n",
    "    models: a dict of difference Scikit-learn machine learning models\n",
    "    x_train: trainning data (no labels)\n",
    "    x_test: testing data(no labels)\n",
    "    y_train: trainning labels\n",
    "    y_test: testing labels    \n",
    "    \"\"\"\n",
    "    np.random.seed(42)\n",
    "    # Make a dictionary to keep model scores\n",
    "    model_scores = {}\n",
    "    # Loop through models \n",
    "    for name,model in models.items() : \n",
    "        # Fit model to data \n",
    "        model.fit(x_train, y_train)\n",
    "        # Evaluate model\n",
    "        model_scores[name] = model.score(x_test,y_test)\n",
    "    return model_scores\n",
    "\n",
    "model_scores = fit_and_scores(models)\n",
    "model_scores"
   ]
  },
  {
   "cell_type": "markdown",
   "metadata": {},
   "source": [
    "### Model comparison"
   ]
  },
  {
   "cell_type": "code",
   "execution_count": 24,
   "metadata": {
    "scrolled": true
   },
   "outputs": [
    {
     "data": {
      "text/plain": [
       "(array([0, 1, 2]), [Text(0, 0, 'LReg'), Text(1, 0, 'KNB'), Text(2, 0, 'RDC')])"
      ]
     },
     "execution_count": 24,
     "metadata": {},
     "output_type": "execute_result"
    },
    {
     "data": {
      "image/png": "[encoded data removed]",
      "text/plain": [
       "<Figure size 432x288 with 1 Axes>"
      ]
     },
     "metadata": {},
     "output_type": "display_data"
    }
   ],
   "source": [
    "pd.DataFrame(model_scores, index=[\"accuracy\"]).T.plot(kind=\"bar\")\n",
    "plt.xticks(rotation=0)"
   ]
  },
  {
   "cell_type": "markdown",
   "metadata": {},
   "source": [
    "Now we have got a baseline models. However, we knew a model's first predictions aren't always what we should expect, we should based our next steps off. What should we do ? ( Giờ đây, ta đã có mô hình cơ bản. Tuy nhiên, như đã biết lần dự đoán đầu tiên ta sẽ không kỳ vọng quá nhiều vào sự chính xác của nó, ta cần thêm một vài bước để cải thiện mô hình )\n",
    "\n",
    "Let's  look a following steps : \n",
    "1. Hyperparameter tuning ( Thay đổi tham số của mô hình )\n",
    "2. Feature importance ( Các đặc tính quan trọng của mô hình ) \n",
    "3. Confusion matrix ( Ma trận tổng hợp )\n",
    "4. Cross validation ( Kiểm định chéo )\n",
    "5. precision ( độ tin cậy )\n",
    "6. recall \n",
    "7. f1 score\n",
    "8. Classification report \n",
    "9. ROC curve\n",
    "10. Area under the curve (AUC)"
   ]
  },
  {
   "cell_type": "markdown",
   "metadata": {},
   "source": [
    "## Hyperparameter tuning ( by hand)"
   ]
  },
  {
   "cell_type": "markdown",
   "metadata": {},
   "source": [
    "Ta thấy mô hình KNeigborClassifier có độ chính xác thấp nhất trong số 3 mô hình, ta sẽ thay đổi tham số để cải thiện mô hình"
   ]
  },
  {
   "cell_type": "code",
   "execution_count": 25,
   "metadata": {},
   "outputs": [
    {
     "data": {
      "text/plain": [
       "([1.0,\n",
       "  0.8099173553719008,\n",
       "  0.7727272727272727,\n",
       "  0.743801652892562,\n",
       "  0.7603305785123967,\n",
       "  0.7520661157024794,\n",
       "  0.743801652892562,\n",
       "  0.7231404958677686,\n",
       "  0.71900826446281,\n",
       "  0.6942148760330579,\n",
       "  0.7272727272727273,\n",
       "  0.6983471074380165,\n",
       "  0.6900826446280992,\n",
       "  0.6942148760330579,\n",
       "  0.6859504132231405,\n",
       "  0.6735537190082644,\n",
       "  0.6859504132231405,\n",
       "  0.6652892561983471,\n",
       "  0.6818181818181818,\n",
       "  0.6694214876033058],\n",
       " [0.6229508196721312,\n",
       "  0.639344262295082,\n",
       "  0.6557377049180327,\n",
       "  0.6721311475409836,\n",
       "  0.6885245901639344,\n",
       "  0.7213114754098361,\n",
       "  0.7049180327868853,\n",
       "  0.6885245901639344,\n",
       "  0.6885245901639344,\n",
       "  0.7049180327868853,\n",
       "  0.7540983606557377,\n",
       "  0.7377049180327869,\n",
       "  0.7377049180327869,\n",
       "  0.7377049180327869,\n",
       "  0.6885245901639344,\n",
       "  0.7213114754098361,\n",
       "  0.6885245901639344,\n",
       "  0.6885245901639344,\n",
       "  0.7049180327868853,\n",
       "  0.6557377049180327])"
      ]
     },
     "execution_count": 25,
     "metadata": {},
     "output_type": "execute_result"
    }
   ],
   "source": [
    "train_scores = []\n",
    "test_scores = []\n",
    "\n",
    "# Create list different values in n_estimators\n",
    "neighbors = np.arange(1,21)\n",
    "\n",
    "knn = KNeighborsClassifier()\n",
    "\n",
    "for i in neighbors : \n",
    "    knn.set_params(n_neighbors=i)\n",
    "    knn.fit(x_train,y_train)\n",
    "    train_scores.append(knn.score(x_train,y_train))\n",
    "    test_scores.append(knn.score(x_test,y_test))\n",
    "train_scores, test_scores"
   ]
  },
  {
   "cell_type": "code",
   "execution_count": 26,
   "metadata": {},
   "outputs": [
    {
     "data": {
      "text/plain": [
       "<matplotlib.legend.Legend at 0x7fb19c731b00>"
      ]
     },
     "execution_count": 26,
     "metadata": {},
     "output_type": "execute_result"
    },
    {
     "data": {
      "image/png": "[encoded data removed]",
      "text/plain": [
       "<Figure size 864x432 with 1 Axes>"
      ]
     },
     "metadata": {},
     "output_type": "display_data"
    }
   ],
   "source": [
    "fig, ax = plt.subplots(figsize=(12,6))\n",
    "ax.plot(neighbors,train_scores, label=\"train scores\")\n",
    "ax.plot(neighbors,test_scores, label=\"test scores\")\n",
    "ax.set(xlabel=\"n_estimators\",ylabel=\"score\")\n",
    "ax.set_xticks(np.arange(21))\n",
    "ax.legend()"
   ]
  },
  {
   "cell_type": "markdown",
   "metadata": {},
   "source": [
    "We are able to see test score get highest score at 11 \\\n",
    "Ta có thể thấy test score đạt điểm cao nhất tại n_estimator là 11 "
   ]
  },
  {
   "cell_type": "code",
   "execution_count": 27,
   "metadata": {},
   "outputs": [
    {
     "data": {
      "text/plain": [
       "0.7540983606557377"
      ]
     },
     "execution_count": 27,
     "metadata": {},
     "output_type": "execute_result"
    }
   ],
   "source": [
    "# Try model with n_estimator=11\n",
    "knn = KNeighborsClassifier(n_neighbors=11)\n",
    "knn.fit(x_train,y_train)\n",
    "knn.score(x_test, y_test)"
   ]
  },
  {
   "cell_type": "markdown",
   "metadata": {},
   "source": [
    "The score of KNN has been improved, but it still smaller than 2 others\\\n",
    "Woo, score của mô hình đã được cải thiện nhưng vẫn nhỏ hơn 2 mô hình kia\\\n",
    "**We should get rid of this model**"
   ]
  },
  {
   "cell_type": "markdown",
   "metadata": {},
   "source": [
    "## RandomizedSearchCV"
   ]
  },
  {
   "cell_type": "markdown",
   "metadata": {},
   "source": [
    "### Find The best Hyperparameter of LogisticeRegression and RandomForestClassifier model "
   ]
  },
  {
   "cell_type": "code",
   "execution_count": 28,
   "metadata": {},
   "outputs": [],
   "source": [
    "# LogisticRegression Grid\n",
    "log_reg_grid = {\n",
    "    \"C\" : np.logspace(-3,3,50),\n",
    "    \"solver\" : [\"liblinear\", \"lbfgs\"]\n",
    "}\n",
    "\n",
    "# Random Forest Grid\n",
    "rf_grid = {\n",
    "    \"n_estimators\" : np.arange(10,1000,50),\n",
    "    \"max_depth\" : [None, 3,5,10],\n",
    "    \"min_samples_split\" : np.arange(2,20,1),\n",
    "    \"min_samples_leaf\" : np.arange(1,20,1),\n",
    "    \"max_features\" : [\"auto\",\"log2\",]\n",
    "}"
   ]
  },
  {
   "cell_type": "code",
   "execution_count": 29,
   "metadata": {},
   "outputs": [
    {
     "name": "stdout",
     "output_type": "stream",
     "text": [
      "Fitting 5 folds for each of 20 candidates, totalling 100 fits\n",
      "[CV] solver=lbfgs, C=104.81131341546852 ..............................\n"
     ]
    },
    {
     "name": "stderr",
     "output_type": "stream",
     "text": [
      "[Parallel(n_jobs=1)]: Using backend SequentialBackend with 1 concurrent workers.\n"
     ]
    },
    {
     "name": "stdout",
     "output_type": "stream",
     "text": [
      "[CV] ............... solver=lbfgs, C=104.81131341546852, total=   1.4s\n",
      "[CV] solver=lbfgs, C=104.81131341546852 ..............................\n"
     ]
    },
    {
     "name": "stderr",
     "output_type": "stream",
     "text": [
      "[Parallel(n_jobs=1)]: Done   1 out of   1 | elapsed:    1.4s remaining:    0.0s\n"
     ]
    },
    {
     "name": "stdout",
     "output_type": "stream",
     "text": [
      "[CV] ............... solver=lbfgs, C=104.81131341546852, total=   0.6s\n",
      "[CV] solver=lbfgs, C=104.81131341546852 ..............................\n",
      "[CV] ............... solver=lbfgs, C=104.81131341546852, total=   0.5s\n",
      "[CV] solver=lbfgs, C=104.81131341546852 ..............................\n",
      "[CV] ............... solver=lbfgs, C=104.81131341546852, total=   0.5s\n",
      "[CV] solver=lbfgs, C=104.81131341546852 ..............................\n",
      "[CV] ............... solver=lbfgs, C=104.81131341546852, total=   0.0s\n",
      "[CV] solver=lbfgs, C=1.5264179671752334 ..............................\n",
      "[CV] ............... solver=lbfgs, C=1.5264179671752334, total=   0.0s\n",
      "[CV] solver=lbfgs, C=1.5264179671752334 ..............................\n",
      "[CV] ............... solver=lbfgs, C=1.5264179671752334, total=   0.1s\n",
      "[CV] solver=lbfgs, C=1.5264179671752334 ..............................\n",
      "[CV] ............... solver=lbfgs, C=1.5264179671752334, total=   0.0s\n",
      "[CV] solver=lbfgs, C=1.5264179671752334 ..............................\n",
      "[CV] ............... solver=lbfgs, C=1.5264179671752334, total=   0.1s\n",
      "[CV] solver=lbfgs, C=1.5264179671752334 ..............................\n",
      "[CV] ............... solver=lbfgs, C=1.5264179671752334, total=   0.0s\n",
      "[CV] solver=liblinear, C=19.306977288832496 ..........................\n",
      "[CV] ........... solver=liblinear, C=19.306977288832496, total=   0.0s\n",
      "[CV] solver=liblinear, C=19.306977288832496 ..........................\n",
      "[CV] ........... solver=liblinear, C=19.306977288832496, total=   0.0s\n",
      "[CV] solver=liblinear, C=19.306977288832496 ..........................\n",
      "[CV] ........... solver=liblinear, C=19.306977288832496, total=   0.0s\n",
      "[CV] solver=liblinear, C=19.306977288832496 ..........................\n",
      "[CV] ........... solver=liblinear, C=19.306977288832496, total=   0.0s\n",
      "[CV] solver=liblinear, C=19.306977288832496 ..........................\n",
      "[CV] ........... solver=liblinear, C=19.306977288832496, total=   0.0s\n",
      "[CV] solver=lbfgs, C=0.49417133613238334 .............................\n",
      "[CV] .............. solver=lbfgs, C=0.49417133613238334, total=   0.0s\n",
      "[CV] solver=lbfgs, C=0.49417133613238334 .............................\n"
     ]
    },
    {
     "name": "stderr",
     "output_type": "stream",
     "text": [
      "/home/mvt/.local/lib/python3.6/site-packages/sklearn/linear_model/_logistic.py:1355: UserWarning: 'n_jobs' > 1 does not have any effect when 'solver' is set to 'liblinear'. Got 'n_jobs' = 4.\n",
      "  \" = {}.\".format(effective_n_jobs(self.n_jobs)))\n",
      "/home/mvt/.local/lib/python3.6/site-packages/sklearn/linear_model/_logistic.py:1355: UserWarning: 'n_jobs' > 1 does not have any effect when 'solver' is set to 'liblinear'. Got 'n_jobs' = 4.\n",
      "  \" = {}.\".format(effective_n_jobs(self.n_jobs)))\n",
      "/home/mvt/.local/lib/python3.6/site-packages/sklearn/linear_model/_logistic.py:1355: UserWarning: 'n_jobs' > 1 does not have any effect when 'solver' is set to 'liblinear'. Got 'n_jobs' = 4.\n",
      "  \" = {}.\".format(effective_n_jobs(self.n_jobs)))\n",
      "/home/mvt/.local/lib/python3.6/site-packages/sklearn/linear_model/_logistic.py:1355: UserWarning: 'n_jobs' > 1 does not have any effect when 'solver' is set to 'liblinear'. Got 'n_jobs' = 4.\n",
      "  \" = {}.\".format(effective_n_jobs(self.n_jobs)))\n",
      "/home/mvt/.local/lib/python3.6/site-packages/sklearn/linear_model/_logistic.py:1355: UserWarning: 'n_jobs' > 1 does not have any effect when 'solver' is set to 'liblinear'. Got 'n_jobs' = 4.\n",
      "  \" = {}.\".format(effective_n_jobs(self.n_jobs)))\n"
     ]
    },
    {
     "name": "stdout",
     "output_type": "stream",
     "text": [
      "[CV] .............. solver=lbfgs, C=0.49417133613238334, total=   0.1s\n",
      "[CV] solver=lbfgs, C=0.49417133613238334 .............................\n",
      "[CV] .............. solver=lbfgs, C=0.49417133613238334, total=   0.1s\n",
      "[CV] solver=lbfgs, C=0.49417133613238334 .............................\n",
      "[CV] .............. solver=lbfgs, C=0.49417133613238334, total=   0.0s\n",
      "[CV] solver=lbfgs, C=0.49417133613238334 .............................\n",
      "[CV] .............. solver=lbfgs, C=0.49417133613238334, total=   0.0s\n",
      "[CV] solver=liblinear, C=0.49417133613238334 .........................\n",
      "[CV] .......... solver=liblinear, C=0.49417133613238334, total=   0.0s\n",
      "[CV] solver=liblinear, C=0.49417133613238334 .........................\n",
      "[CV] .......... solver=liblinear, C=0.49417133613238334, total=   0.0s\n",
      "[CV] solver=liblinear, C=0.49417133613238334 .........................\n",
      "[CV] .......... solver=liblinear, C=0.49417133613238334, total=   0.0s\n",
      "[CV] solver=liblinear, C=0.49417133613238334 .........................\n"
     ]
    },
    {
     "name": "stderr",
     "output_type": "stream",
     "text": [
      "/home/mvt/.local/lib/python3.6/site-packages/sklearn/linear_model/_logistic.py:1355: UserWarning: 'n_jobs' > 1 does not have any effect when 'solver' is set to 'liblinear'. Got 'n_jobs' = 4.\n",
      "  \" = {}.\".format(effective_n_jobs(self.n_jobs)))\n",
      "/home/mvt/.local/lib/python3.6/site-packages/sklearn/linear_model/_logistic.py:1355: UserWarning: 'n_jobs' > 1 does not have any effect when 'solver' is set to 'liblinear'. Got 'n_jobs' = 4.\n",
      "  \" = {}.\".format(effective_n_jobs(self.n_jobs)))\n",
      "/home/mvt/.local/lib/python3.6/site-packages/sklearn/linear_model/_logistic.py:1355: UserWarning: 'n_jobs' > 1 does not have any effect when 'solver' is set to 'liblinear'. Got 'n_jobs' = 4.\n",
      "  \" = {}.\".format(effective_n_jobs(self.n_jobs)))\n",
      "/home/mvt/.local/lib/python3.6/site-packages/sklearn/linear_model/_logistic.py:1355: UserWarning: 'n_jobs' > 1 does not have any effect when 'solver' is set to 'liblinear'. Got 'n_jobs' = 4.\n",
      "  \" = {}.\".format(effective_n_jobs(self.n_jobs)))\n",
      "/home/mvt/.local/lib/python3.6/site-packages/sklearn/linear_model/_logistic.py:1355: UserWarning: 'n_jobs' > 1 does not have any effect when 'solver' is set to 'liblinear'. Got 'n_jobs' = 4.\n",
      "  \" = {}.\".format(effective_n_jobs(self.n_jobs)))\n"
     ]
    },
    {
     "name": "stdout",
     "output_type": "stream",
     "text": [
      "[CV] .......... solver=liblinear, C=0.49417133613238334, total=   0.0s\n",
      "[CV] solver=liblinear, C=0.49417133613238334 .........................\n",
      "[CV] .......... solver=liblinear, C=0.49417133613238334, total=   0.0s\n",
      "[CV] solver=lbfgs, C=0.21209508879201905 .............................\n",
      "[CV] .............. solver=lbfgs, C=0.21209508879201905, total=   0.1s\n",
      "[CV] solver=lbfgs, C=0.21209508879201905 .............................\n",
      "[CV] .............. solver=lbfgs, C=0.21209508879201905, total=   0.0s\n",
      "[CV] solver=lbfgs, C=0.21209508879201905 .............................\n",
      "[CV] .............. solver=lbfgs, C=0.21209508879201905, total=   0.1s\n",
      "[CV] solver=lbfgs, C=0.21209508879201905 .............................\n",
      "[CV] .............. solver=lbfgs, C=0.21209508879201905, total=   0.0s\n",
      "[CV] solver=lbfgs, C=0.21209508879201905 .............................\n",
      "[CV] .............. solver=lbfgs, C=0.21209508879201905, total=   0.1s\n",
      "[CV] solver=liblinear, C=0.022229964825261943 ........................\n",
      "[CV] ......... solver=liblinear, C=0.022229964825261943, total=   0.0s\n",
      "[CV] solver=liblinear, C=0.022229964825261943 ........................\n",
      "[CV] ......... solver=liblinear, C=0.022229964825261943, total=   0.0s\n",
      "[CV] solver=liblinear, C=0.022229964825261943 ........................\n",
      "[CV] ......... solver=liblinear, C=0.022229964825261943, total=   0.0s\n",
      "[CV] solver=liblinear, C=0.022229964825261943 ........................\n",
      "[CV] ......... solver=liblinear, C=0.022229964825261943, total=   0.0s\n",
      "[CV] solver=liblinear, C=0.022229964825261943 ........................\n",
      "[CV] ......... solver=liblinear, C=0.022229964825261943, total=   0.0s\n",
      "[CV] solver=liblinear, C=79.06043210907701 ...........................\n",
      "[CV] ............ solver=liblinear, C=79.06043210907701, total=   0.0s\n",
      "[CV] solver=liblinear, C=79.06043210907701 ...........................\n",
      "[CV] ............ solver=liblinear, C=79.06043210907701, total=   0.0s\n",
      "[CV] solver=liblinear, C=79.06043210907701 ...........................\n",
      "[CV] ............ solver=liblinear, C=79.06043210907701, total=   0.0s\n",
      "[CV] solver=liblinear, C=79.06043210907701 ...........................\n",
      "[CV] ............ solver=liblinear, C=79.06043210907701, total=   0.0s\n",
      "[CV] solver=liblinear, C=79.06043210907701 ...........................\n",
      "[CV] ............ solver=liblinear, C=79.06043210907701, total=   0.0s\n",
      "[CV] solver=liblinear, C=0.004094915062380427 ........................\n",
      "[CV] ......... solver=liblinear, C=0.004094915062380427, total=   0.0s\n",
      "[CV] solver=liblinear, C=0.004094915062380427 ........................\n",
      "[CV] ......... solver=liblinear, C=0.004094915062380427, total=   0.0s\n",
      "[CV] solver=liblinear, C=0.004094915062380427 ........................\n",
      "[CV] ......... solver=liblinear, C=0.004094915062380427, total=   0.0s\n",
      "[CV] solver=liblinear, C=0.004094915062380427 ........................\n",
      "[CV] ......... solver=liblinear, C=0.004094915062380427, total=   0.0s\n",
      "[CV] solver=liblinear, C=0.004094915062380427 ........................\n",
      "[CV] ......... solver=liblinear, C=0.004094915062380427, total=   0.0s\n",
      "[CV] solver=liblinear, C=0.001 .......................................\n"
     ]
    },
    {
     "name": "stderr",
     "output_type": "stream",
     "text": [
      "/home/mvt/.local/lib/python3.6/site-packages/sklearn/linear_model/_logistic.py:1355: UserWarning: 'n_jobs' > 1 does not have any effect when 'solver' is set to 'liblinear'. Got 'n_jobs' = 4.\n",
      "  \" = {}.\".format(effective_n_jobs(self.n_jobs)))\n",
      "/home/mvt/.local/lib/python3.6/site-packages/sklearn/linear_model/_logistic.py:1355: UserWarning: 'n_jobs' > 1 does not have any effect when 'solver' is set to 'liblinear'. Got 'n_jobs' = 4.\n",
      "  \" = {}.\".format(effective_n_jobs(self.n_jobs)))\n",
      "/home/mvt/.local/lib/python3.6/site-packages/sklearn/linear_model/_logistic.py:1355: UserWarning: 'n_jobs' > 1 does not have any effect when 'solver' is set to 'liblinear'. Got 'n_jobs' = 4.\n",
      "  \" = {}.\".format(effective_n_jobs(self.n_jobs)))\n",
      "/home/mvt/.local/lib/python3.6/site-packages/sklearn/linear_model/_logistic.py:1355: UserWarning: 'n_jobs' > 1 does not have any effect when 'solver' is set to 'liblinear'. Got 'n_jobs' = 4.\n",
      "  \" = {}.\".format(effective_n_jobs(self.n_jobs)))\n",
      "/home/mvt/.local/lib/python3.6/site-packages/sklearn/linear_model/_logistic.py:1355: UserWarning: 'n_jobs' > 1 does not have any effect when 'solver' is set to 'liblinear'. Got 'n_jobs' = 4.\n",
      "  \" = {}.\".format(effective_n_jobs(self.n_jobs)))\n",
      "/home/mvt/.local/lib/python3.6/site-packages/sklearn/linear_model/_logistic.py:1355: UserWarning: 'n_jobs' > 1 does not have any effect when 'solver' is set to 'liblinear'. Got 'n_jobs' = 4.\n",
      "  \" = {}.\".format(effective_n_jobs(self.n_jobs)))\n",
      "/home/mvt/.local/lib/python3.6/site-packages/sklearn/linear_model/_logistic.py:1355: UserWarning: 'n_jobs' > 1 does not have any effect when 'solver' is set to 'liblinear'. Got 'n_jobs' = 4.\n",
      "  \" = {}.\".format(effective_n_jobs(self.n_jobs)))\n",
      "/home/mvt/.local/lib/python3.6/site-packages/sklearn/linear_model/_logistic.py:1355: UserWarning: 'n_jobs' > 1 does not have any effect when 'solver' is set to 'liblinear'. Got 'n_jobs' = 4.\n",
      "  \" = {}.\".format(effective_n_jobs(self.n_jobs)))\n",
      "/home/mvt/.local/lib/python3.6/site-packages/sklearn/linear_model/_logistic.py:1355: UserWarning: 'n_jobs' > 1 does not have any effect when 'solver' is set to 'liblinear'. Got 'n_jobs' = 4.\n",
      "  \" = {}.\".format(effective_n_jobs(self.n_jobs)))\n",
      "/home/mvt/.local/lib/python3.6/site-packages/sklearn/linear_model/_logistic.py:1355: UserWarning: 'n_jobs' > 1 does not have any effect when 'solver' is set to 'liblinear'. Got 'n_jobs' = 4.\n",
      "  \" = {}.\".format(effective_n_jobs(self.n_jobs)))\n",
      "/home/mvt/.local/lib/python3.6/site-packages/sklearn/linear_model/_logistic.py:1355: UserWarning: 'n_jobs' > 1 does not have any effect when 'solver' is set to 'liblinear'. Got 'n_jobs' = 4.\n",
      "  \" = {}.\".format(effective_n_jobs(self.n_jobs)))\n",
      "/home/mvt/.local/lib/python3.6/site-packages/sklearn/linear_model/_logistic.py:1355: UserWarning: 'n_jobs' > 1 does not have any effect when 'solver' is set to 'liblinear'. Got 'n_jobs' = 4.\n",
      "  \" = {}.\".format(effective_n_jobs(self.n_jobs)))\n",
      "/home/mvt/.local/lib/python3.6/site-packages/sklearn/linear_model/_logistic.py:1355: UserWarning: 'n_jobs' > 1 does not have any effect when 'solver' is set to 'liblinear'. Got 'n_jobs' = 4.\n",
      "  \" = {}.\".format(effective_n_jobs(self.n_jobs)))\n",
      "/home/mvt/.local/lib/python3.6/site-packages/sklearn/linear_model/_logistic.py:1355: UserWarning: 'n_jobs' > 1 does not have any effect when 'solver' is set to 'liblinear'. Got 'n_jobs' = 4.\n",
      "  \" = {}.\".format(effective_n_jobs(self.n_jobs)))\n",
      "/home/mvt/.local/lib/python3.6/site-packages/sklearn/linear_model/_logistic.py:1355: UserWarning: 'n_jobs' > 1 does not have any effect when 'solver' is set to 'liblinear'. Got 'n_jobs' = 4.\n",
      "  \" = {}.\".format(effective_n_jobs(self.n_jobs)))\n",
      "/home/mvt/.local/lib/python3.6/site-packages/sklearn/linear_model/_logistic.py:1355: UserWarning: 'n_jobs' > 1 does not have any effect when 'solver' is set to 'liblinear'. Got 'n_jobs' = 4.\n",
      "  \" = {}.\".format(effective_n_jobs(self.n_jobs)))\n",
      "/home/mvt/.local/lib/python3.6/site-packages/sklearn/linear_model/_logistic.py:1355: UserWarning: 'n_jobs' > 1 does not have any effect when 'solver' is set to 'liblinear'. Got 'n_jobs' = 4.\n",
      "  \" = {}.\".format(effective_n_jobs(self.n_jobs)))\n",
      "/home/mvt/.local/lib/python3.6/site-packages/sklearn/linear_model/_logistic.py:1355: UserWarning: 'n_jobs' > 1 does not have any effect when 'solver' is set to 'liblinear'. Got 'n_jobs' = 4.\n",
      "  \" = {}.\".format(effective_n_jobs(self.n_jobs)))\n",
      "/home/mvt/.local/lib/python3.6/site-packages/sklearn/linear_model/_logistic.py:1355: UserWarning: 'n_jobs' > 1 does not have any effect when 'solver' is set to 'liblinear'. Got 'n_jobs' = 4.\n",
      "  \" = {}.\".format(effective_n_jobs(self.n_jobs)))\n"
     ]
    },
    {
     "name": "stdout",
     "output_type": "stream",
     "text": [
      "[CV] ........................ solver=liblinear, C=0.001, total=   0.0s\n",
      "[CV] solver=liblinear, C=0.001 .......................................\n",
      "[CV] ........................ solver=liblinear, C=0.001, total=   0.0s\n",
      "[CV] solver=liblinear, C=0.001 .......................................\n",
      "[CV] ........................ solver=liblinear, C=0.001, total=   0.0s\n",
      "[CV] solver=liblinear, C=0.001 .......................................\n",
      "[CV] ........................ solver=liblinear, C=0.001, total=   0.0s\n",
      "[CV] solver=liblinear, C=0.001 .......................................\n",
      "[CV] ........................ solver=liblinear, C=0.001, total=   0.0s\n",
      "[CV] solver=liblinear, C=0.012648552168552958 ........................\n",
      "[CV] ......... solver=liblinear, C=0.012648552168552958, total=   0.0s\n",
      "[CV] solver=liblinear, C=0.012648552168552958 ........................\n",
      "[CV] ......... solver=liblinear, C=0.012648552168552958, total=   0.0s\n",
      "[CV] solver=liblinear, C=0.012648552168552958 ........................\n",
      "[CV] ......... solver=liblinear, C=0.012648552168552958, total=   0.0s\n",
      "[CV] solver=liblinear, C=0.012648552168552958 ........................\n",
      "[CV] ......... solver=liblinear, C=0.012648552168552958, total=   0.0s\n",
      "[CV] solver=liblinear, C=0.012648552168552958 ........................\n",
      "[CV] ......... solver=liblinear, C=0.012648552168552958, total=   0.0s\n",
      "[CV] solver=liblinear, C=0.06866488450043001 .........................\n",
      "[CV] .......... solver=liblinear, C=0.06866488450043001, total=   0.0s\n",
      "[CV] solver=liblinear, C=0.06866488450043001 .........................\n",
      "[CV] .......... solver=liblinear, C=0.06866488450043001, total=   0.0s\n",
      "[CV] solver=liblinear, C=0.06866488450043001 .........................\n",
      "[CV] .......... solver=liblinear, C=0.06866488450043001, total=   0.0s\n",
      "[CV] solver=liblinear, C=0.06866488450043001 .........................\n",
      "[CV] .......... solver=liblinear, C=0.06866488450043001, total=   0.0s\n",
      "[CV] solver=liblinear, C=0.06866488450043001 .........................\n",
      "[CV] .......... solver=liblinear, C=0.06866488450043001, total=   0.0s\n",
      "[CV] solver=lbfgs, C=25.595479226995334 ..............................\n"
     ]
    },
    {
     "name": "stderr",
     "output_type": "stream",
     "text": [
      "/home/mvt/.local/lib/python3.6/site-packages/sklearn/linear_model/_logistic.py:1355: UserWarning: 'n_jobs' > 1 does not have any effect when 'solver' is set to 'liblinear'. Got 'n_jobs' = 4.\n",
      "  \" = {}.\".format(effective_n_jobs(self.n_jobs)))\n",
      "/home/mvt/.local/lib/python3.6/site-packages/sklearn/linear_model/_logistic.py:1355: UserWarning: 'n_jobs' > 1 does not have any effect when 'solver' is set to 'liblinear'. Got 'n_jobs' = 4.\n",
      "  \" = {}.\".format(effective_n_jobs(self.n_jobs)))\n",
      "/home/mvt/.local/lib/python3.6/site-packages/sklearn/linear_model/_logistic.py:1355: UserWarning: 'n_jobs' > 1 does not have any effect when 'solver' is set to 'liblinear'. Got 'n_jobs' = 4.\n",
      "  \" = {}.\".format(effective_n_jobs(self.n_jobs)))\n",
      "/home/mvt/.local/lib/python3.6/site-packages/sklearn/linear_model/_logistic.py:1355: UserWarning: 'n_jobs' > 1 does not have any effect when 'solver' is set to 'liblinear'. Got 'n_jobs' = 4.\n",
      "  \" = {}.\".format(effective_n_jobs(self.n_jobs)))\n",
      "/home/mvt/.local/lib/python3.6/site-packages/sklearn/linear_model/_logistic.py:1355: UserWarning: 'n_jobs' > 1 does not have any effect when 'solver' is set to 'liblinear'. Got 'n_jobs' = 4.\n",
      "  \" = {}.\".format(effective_n_jobs(self.n_jobs)))\n",
      "/home/mvt/.local/lib/python3.6/site-packages/sklearn/linear_model/_logistic.py:1355: UserWarning: 'n_jobs' > 1 does not have any effect when 'solver' is set to 'liblinear'. Got 'n_jobs' = 4.\n",
      "  \" = {}.\".format(effective_n_jobs(self.n_jobs)))\n",
      "/home/mvt/.local/lib/python3.6/site-packages/sklearn/linear_model/_logistic.py:1355: UserWarning: 'n_jobs' > 1 does not have any effect when 'solver' is set to 'liblinear'. Got 'n_jobs' = 4.\n",
      "  \" = {}.\".format(effective_n_jobs(self.n_jobs)))\n",
      "/home/mvt/.local/lib/python3.6/site-packages/sklearn/linear_model/_logistic.py:1355: UserWarning: 'n_jobs' > 1 does not have any effect when 'solver' is set to 'liblinear'. Got 'n_jobs' = 4.\n",
      "  \" = {}.\".format(effective_n_jobs(self.n_jobs)))\n",
      "/home/mvt/.local/lib/python3.6/site-packages/sklearn/linear_model/_logistic.py:1355: UserWarning: 'n_jobs' > 1 does not have any effect when 'solver' is set to 'liblinear'. Got 'n_jobs' = 4.\n",
      "  \" = {}.\".format(effective_n_jobs(self.n_jobs)))\n",
      "/home/mvt/.local/lib/python3.6/site-packages/sklearn/linear_model/_logistic.py:1355: UserWarning: 'n_jobs' > 1 does not have any effect when 'solver' is set to 'liblinear'. Got 'n_jobs' = 4.\n",
      "  \" = {}.\".format(effective_n_jobs(self.n_jobs)))\n",
      "/home/mvt/.local/lib/python3.6/site-packages/sklearn/linear_model/_logistic.py:1355: UserWarning: 'n_jobs' > 1 does not have any effect when 'solver' is set to 'liblinear'. Got 'n_jobs' = 4.\n",
      "  \" = {}.\".format(effective_n_jobs(self.n_jobs)))\n"
     ]
    },
    {
     "name": "stdout",
     "output_type": "stream",
     "text": [
      "[CV] ............... solver=lbfgs, C=25.595479226995334, total=   0.0s\n",
      "[CV] solver=lbfgs, C=25.595479226995334 ..............................\n",
      "[CV] ............... solver=lbfgs, C=25.595479226995334, total=   0.1s\n",
      "[CV] solver=lbfgs, C=25.595479226995334 ..............................\n",
      "[CV] ............... solver=lbfgs, C=25.595479226995334, total=   0.1s\n",
      "[CV] solver=lbfgs, C=25.595479226995334 ..............................\n",
      "[CV] ............... solver=lbfgs, C=25.595479226995334, total=   0.0s\n",
      "[CV] solver=lbfgs, C=25.595479226995334 ..............................\n",
      "[CV] ............... solver=lbfgs, C=25.595479226995334, total=   0.0s\n",
      "[CV] solver=lbfgs, C=0.09102981779915217 .............................\n",
      "[CV] .............. solver=lbfgs, C=0.09102981779915217, total=   0.0s\n",
      "[CV] solver=lbfgs, C=0.09102981779915217 .............................\n",
      "[CV] .............. solver=lbfgs, C=0.09102981779915217, total=   0.0s\n",
      "[CV] solver=lbfgs, C=0.09102981779915217 .............................\n",
      "[CV] .............. solver=lbfgs, C=0.09102981779915217, total=   0.0s\n",
      "[CV] solver=lbfgs, C=0.09102981779915217 .............................\n",
      "[CV] .............. solver=lbfgs, C=0.09102981779915217, total=   0.0s\n",
      "[CV] solver=lbfgs, C=0.09102981779915217 .............................\n",
      "[CV] .............. solver=lbfgs, C=0.09102981779915217, total=   0.1s\n",
      "[CV] solver=liblinear, C=323.745754281764 ............................\n",
      "[CV] ............. solver=liblinear, C=323.745754281764, total=   0.0s\n",
      "[CV] solver=liblinear, C=323.745754281764 ............................\n",
      "[CV] ............. solver=liblinear, C=323.745754281764, total=   0.0s\n",
      "[CV] solver=liblinear, C=323.745754281764 ............................\n"
     ]
    },
    {
     "name": "stderr",
     "output_type": "stream",
     "text": [
      "/home/mvt/.local/lib/python3.6/site-packages/sklearn/linear_model/_logistic.py:1355: UserWarning: 'n_jobs' > 1 does not have any effect when 'solver' is set to 'liblinear'. Got 'n_jobs' = 4.\n",
      "  \" = {}.\".format(effective_n_jobs(self.n_jobs)))\n",
      "/home/mvt/.local/lib/python3.6/site-packages/sklearn/linear_model/_logistic.py:1355: UserWarning: 'n_jobs' > 1 does not have any effect when 'solver' is set to 'liblinear'. Got 'n_jobs' = 4.\n",
      "  \" = {}.\".format(effective_n_jobs(self.n_jobs)))\n",
      "/home/mvt/.local/lib/python3.6/site-packages/sklearn/linear_model/_logistic.py:1355: UserWarning: 'n_jobs' > 1 does not have any effect when 'solver' is set to 'liblinear'. Got 'n_jobs' = 4.\n",
      "  \" = {}.\".format(effective_n_jobs(self.n_jobs)))\n",
      "/home/mvt/.local/lib/python3.6/site-packages/sklearn/linear_model/_logistic.py:1355: UserWarning: 'n_jobs' > 1 does not have any effect when 'solver' is set to 'liblinear'. Got 'n_jobs' = 4.\n",
      "  \" = {}.\".format(effective_n_jobs(self.n_jobs)))\n",
      "/home/mvt/.local/lib/python3.6/site-packages/sklearn/linear_model/_logistic.py:1355: UserWarning: 'n_jobs' > 1 does not have any effect when 'solver' is set to 'liblinear'. Got 'n_jobs' = 4.\n",
      "  \" = {}.\".format(effective_n_jobs(self.n_jobs)))\n",
      "/home/mvt/.local/lib/python3.6/site-packages/sklearn/linear_model/_logistic.py:1355: UserWarning: 'n_jobs' > 1 does not have any effect when 'solver' is set to 'liblinear'. Got 'n_jobs' = 4.\n",
      "  \" = {}.\".format(effective_n_jobs(self.n_jobs)))\n",
      "/home/mvt/.local/lib/python3.6/site-packages/sklearn/linear_model/_logistic.py:1355: UserWarning: 'n_jobs' > 1 does not have any effect when 'solver' is set to 'liblinear'. Got 'n_jobs' = 4.\n",
      "  \" = {}.\".format(effective_n_jobs(self.n_jobs)))\n",
      "/home/mvt/.local/lib/python3.6/site-packages/sklearn/linear_model/_logistic.py:1355: UserWarning: 'n_jobs' > 1 does not have any effect when 'solver' is set to 'liblinear'. Got 'n_jobs' = 4.\n",
      "  \" = {}.\".format(effective_n_jobs(self.n_jobs)))\n",
      "/home/mvt/.local/lib/python3.6/site-packages/sklearn/linear_model/_logistic.py:1355: UserWarning: 'n_jobs' > 1 does not have any effect when 'solver' is set to 'liblinear'. Got 'n_jobs' = 4.\n",
      "  \" = {}.\".format(effective_n_jobs(self.n_jobs)))\n",
      "/home/mvt/.local/lib/python3.6/site-packages/sklearn/linear_model/_logistic.py:1355: UserWarning: 'n_jobs' > 1 does not have any effect when 'solver' is set to 'liblinear'. Got 'n_jobs' = 4.\n",
      "  \" = {}.\".format(effective_n_jobs(self.n_jobs)))\n",
      "/home/mvt/.local/lib/python3.6/site-packages/sklearn/linear_model/_logistic.py:1355: UserWarning: 'n_jobs' > 1 does not have any effect when 'solver' is set to 'liblinear'. Got 'n_jobs' = 4.\n",
      "  \" = {}.\".format(effective_n_jobs(self.n_jobs)))\n",
      "/home/mvt/.local/lib/python3.6/site-packages/sklearn/linear_model/_logistic.py:1355: UserWarning: 'n_jobs' > 1 does not have any effect when 'solver' is set to 'liblinear'. Got 'n_jobs' = 4.\n",
      "  \" = {}.\".format(effective_n_jobs(self.n_jobs)))\n",
      "/home/mvt/.local/lib/python3.6/site-packages/sklearn/linear_model/_logistic.py:1355: UserWarning: 'n_jobs' > 1 does not have any effect when 'solver' is set to 'liblinear'. Got 'n_jobs' = 4.\n",
      "  \" = {}.\".format(effective_n_jobs(self.n_jobs)))\n",
      "/home/mvt/.local/lib/python3.6/site-packages/sklearn/linear_model/_logistic.py:1355: UserWarning: 'n_jobs' > 1 does not have any effect when 'solver' is set to 'liblinear'. Got 'n_jobs' = 4.\n",
      "  \" = {}.\".format(effective_n_jobs(self.n_jobs)))\n"
     ]
    },
    {
     "name": "stdout",
     "output_type": "stream",
     "text": [
      "[CV] ............. solver=liblinear, C=323.745754281764, total=   0.0s\n",
      "[CV] solver=liblinear, C=323.745754281764 ............................\n",
      "[CV] ............. solver=liblinear, C=323.745754281764, total=   0.0s\n",
      "[CV] solver=liblinear, C=323.745754281764 ............................\n",
      "[CV] ............. solver=liblinear, C=323.745754281764, total=   0.0s\n",
      "[CV] solver=liblinear, C=0.0017575106248547913 .......................\n",
      "[CV] ........ solver=liblinear, C=0.0017575106248547913, total=   0.0s\n",
      "[CV] solver=liblinear, C=0.0017575106248547913 .......................\n",
      "[CV] ........ solver=liblinear, C=0.0017575106248547913, total=   0.0s\n",
      "[CV] solver=liblinear, C=0.0017575106248547913 .......................\n",
      "[CV] ........ solver=liblinear, C=0.0017575106248547913, total=   0.0s\n",
      "[CV] solver=liblinear, C=0.0017575106248547913 .......................\n",
      "[CV] ........ solver=liblinear, C=0.0017575106248547913, total=   0.0s\n",
      "[CV] solver=liblinear, C=0.0017575106248547913 .......................\n",
      "[CV] ........ solver=liblinear, C=0.0017575106248547913, total=   0.0s\n",
      "[CV] solver=liblinear, C=44.98432668969444 ...........................\n",
      "[CV] ............ solver=liblinear, C=44.98432668969444, total=   0.0s\n",
      "[CV] solver=liblinear, C=44.98432668969444 ...........................\n",
      "[CV] ............ solver=liblinear, C=44.98432668969444, total=   0.0s\n",
      "[CV] solver=liblinear, C=44.98432668969444 ...........................\n",
      "[CV] ............ solver=liblinear, C=44.98432668969444, total=   0.0s\n",
      "[CV] solver=liblinear, C=44.98432668969444 ...........................\n",
      "[CV] ............ solver=liblinear, C=44.98432668969444, total=   0.0s\n",
      "[CV] solver=liblinear, C=44.98432668969444 ...........................\n",
      "[CV] ............ solver=liblinear, C=44.98432668969444, total=   0.0s\n",
      "[CV] solver=lbfgs, C=44.98432668969444 ...............................\n"
     ]
    },
    {
     "name": "stderr",
     "output_type": "stream",
     "text": [
      "/home/mvt/.local/lib/python3.6/site-packages/sklearn/linear_model/_logistic.py:1355: UserWarning: 'n_jobs' > 1 does not have any effect when 'solver' is set to 'liblinear'. Got 'n_jobs' = 4.\n",
      "  \" = {}.\".format(effective_n_jobs(self.n_jobs)))\n"
     ]
    },
    {
     "name": "stdout",
     "output_type": "stream",
     "text": [
      "[CV] ................ solver=lbfgs, C=44.98432668969444, total=   0.1s\n",
      "[CV] solver=lbfgs, C=44.98432668969444 ...............................\n",
      "[CV] ................ solver=lbfgs, C=44.98432668969444, total=   0.1s\n",
      "[CV] solver=lbfgs, C=44.98432668969444 ...............................\n",
      "[CV] ................ solver=lbfgs, C=44.98432668969444, total=   0.0s\n",
      "[CV] solver=lbfgs, C=44.98432668969444 ...............................\n",
      "[CV] ................ solver=lbfgs, C=44.98432668969444, total=   0.1s\n",
      "[CV] solver=lbfgs, C=44.98432668969444 ...............................\n",
      "[CV] ................ solver=lbfgs, C=44.98432668969444, total=   0.0s\n",
      "[CV] solver=liblinear, C=0.005428675439323859 ........................\n",
      "[CV] ......... solver=liblinear, C=0.005428675439323859, total=   0.0s\n",
      "[CV] solver=liblinear, C=0.005428675439323859 ........................\n",
      "[CV] ......... solver=liblinear, C=0.005428675439323859, total=   0.0s\n",
      "[CV] solver=liblinear, C=0.005428675439323859 ........................\n",
      "[CV] ......... solver=liblinear, C=0.005428675439323859, total=   0.0s\n",
      "[CV] solver=liblinear, C=0.005428675439323859 ........................\n",
      "[CV] ......... solver=liblinear, C=0.005428675439323859, total=   0.0s\n",
      "[CV] solver=liblinear, C=0.005428675439323859 ........................\n",
      "[CV] ......... solver=liblinear, C=0.005428675439323859, total=   0.0s\n",
      "[CV] solver=lbfgs, C=0.06866488450043001 .............................\n",
      "[CV] .............. solver=lbfgs, C=0.06866488450043001, total=   0.0s\n",
      "[CV] solver=lbfgs, C=0.06866488450043001 .............................\n",
      "[CV] .............. solver=lbfgs, C=0.06866488450043001, total=   0.0s\n",
      "[CV] solver=lbfgs, C=0.06866488450043001 .............................\n",
      "[CV] .............. solver=lbfgs, C=0.06866488450043001, total=   0.0s\n",
      "[CV] solver=lbfgs, C=0.06866488450043001 .............................\n"
     ]
    },
    {
     "name": "stderr",
     "output_type": "stream",
     "text": [
      "/home/mvt/.local/lib/python3.6/site-packages/sklearn/linear_model/_logistic.py:1355: UserWarning: 'n_jobs' > 1 does not have any effect when 'solver' is set to 'liblinear'. Got 'n_jobs' = 4.\n",
      "  \" = {}.\".format(effective_n_jobs(self.n_jobs)))\n",
      "/home/mvt/.local/lib/python3.6/site-packages/sklearn/linear_model/_logistic.py:1355: UserWarning: 'n_jobs' > 1 does not have any effect when 'solver' is set to 'liblinear'. Got 'n_jobs' = 4.\n",
      "  \" = {}.\".format(effective_n_jobs(self.n_jobs)))\n",
      "/home/mvt/.local/lib/python3.6/site-packages/sklearn/linear_model/_logistic.py:1355: UserWarning: 'n_jobs' > 1 does not have any effect when 'solver' is set to 'liblinear'. Got 'n_jobs' = 4.\n",
      "  \" = {}.\".format(effective_n_jobs(self.n_jobs)))\n",
      "/home/mvt/.local/lib/python3.6/site-packages/sklearn/linear_model/_logistic.py:1355: UserWarning: 'n_jobs' > 1 does not have any effect when 'solver' is set to 'liblinear'. Got 'n_jobs' = 4.\n",
      "  \" = {}.\".format(effective_n_jobs(self.n_jobs)))\n",
      "/home/mvt/.local/lib/python3.6/site-packages/sklearn/linear_model/_logistic.py:1355: UserWarning: 'n_jobs' > 1 does not have any effect when 'solver' is set to 'liblinear'. Got 'n_jobs' = 4.\n",
      "  \" = {}.\".format(effective_n_jobs(self.n_jobs)))\n"
     ]
    },
    {
     "name": "stdout",
     "output_type": "stream",
     "text": [
      "[CV] .............. solver=lbfgs, C=0.06866488450043001, total=   0.0s\n",
      "[CV] solver=lbfgs, C=0.06866488450043001 .............................\n",
      "[CV] .............. solver=lbfgs, C=0.06866488450043001, total=   0.0s\n"
     ]
    },
    {
     "name": "stderr",
     "output_type": "stream",
     "text": [
      "[Parallel(n_jobs=1)]: Done 100 out of 100 | elapsed:    5.6s finished\n"
     ]
    },
    {
     "data": {
      "text/plain": [
       "RandomizedSearchCV(cv=5, estimator=LogisticRegression(n_jobs=-1), n_iter=20,\n",
       "                   param_distributions={'C': array([1.00000000e-03, 1.32571137e-03, 1.75751062e-03, 2.32995181e-03,\n",
       "       3.08884360e-03, 4.09491506e-03, 5.42867544e-03, 7.19685673e-03,\n",
       "       9.54095476e-03, 1.26485522e-02, 1.67683294e-02, 2.22299648e-02,\n",
       "       2.94705170e-02, 3.90693994e-02, 5.17947468e-02, 6.86648845e-02,\n",
       "       9.10...\n",
       "       2.68269580e+00, 3.55648031e+00, 4.71486636e+00, 6.25055193e+00,\n",
       "       8.28642773e+00, 1.09854114e+01, 1.45634848e+01, 1.93069773e+01,\n",
       "       2.55954792e+01, 3.39322177e+01, 4.49843267e+01, 5.96362332e+01,\n",
       "       7.90604321e+01, 1.04811313e+02, 1.38949549e+02, 1.84206997e+02,\n",
       "       2.44205309e+02, 3.23745754e+02, 4.29193426e+02, 5.68986603e+02,\n",
       "       7.54312006e+02, 1.00000000e+03]),\n",
       "                                        'solver': ['liblinear', 'lbfgs']},\n",
       "                   verbose=2)"
      ]
     },
     "execution_count": 29,
     "metadata": {},
     "output_type": "execute_result"
    }
   ],
   "source": [
    "# setup random seed \n",
    "np.random.seed(42)\n",
    "\n",
    "# setup random hyperparameter search for LogisticRegression\n",
    "gs_log_reg = RandomizedSearchCV(LogisticRegression(n_jobs=-1), log_reg_grid,n_iter=20,cv=5,verbose=2)\n",
    "gs_log_reg.fit(x_train,y_train)"
   ]
  },
  {
   "cell_type": "code",
   "execution_count": 30,
   "metadata": {},
   "outputs": [
    {
     "data": {
      "text/plain": [
       "{'solver': 'lbfgs', 'C': 0.21209508879201905}"
      ]
     },
     "execution_count": 30,
     "metadata": {},
     "output_type": "execute_result"
    }
   ],
   "source": [
    "gs_log_reg.best_params_"
   ]
  },
  {
   "cell_type": "code",
   "execution_count": 31,
   "metadata": {},
   "outputs": [
    {
     "data": {
      "text/plain": [
       "0.8852459016393442"
      ]
     },
     "execution_count": 31,
     "metadata": {},
     "output_type": "execute_result"
    }
   ],
   "source": [
    "gs_log_reg.score(x_test, y_test)"
   ]
  },
  {
   "cell_type": "code",
   "execution_count": 32,
   "metadata": {
    "scrolled": true
   },
   "outputs": [
    {
     "name": "stdout",
     "output_type": "stream",
     "text": [
      "Fitting 5 folds for each of 20 candidates, totalling 100 fits\n",
      "[CV] n_estimators=760, min_samples_split=17, min_samples_leaf=6, max_features=auto, max_depth=3 \n"
     ]
    },
    {
     "name": "stderr",
     "output_type": "stream",
     "text": [
      "[Parallel(n_jobs=1)]: Using backend SequentialBackend with 1 concurrent workers.\n"
     ]
    },
    {
     "name": "stdout",
     "output_type": "stream",
     "text": [
      "[CV]  n_estimators=760, min_samples_split=17, min_samples_leaf=6, max_features=auto, max_depth=3, total=   1.7s\n",
      "[CV] n_estimators=760, min_samples_split=17, min_samples_leaf=6, max_features=auto, max_depth=3 \n"
     ]
    },
    {
     "name": "stderr",
     "output_type": "stream",
     "text": [
      "[Parallel(n_jobs=1)]: Done   1 out of   1 | elapsed:    1.7s remaining:    0.0s\n"
     ]
    },
    {
     "name": "stdout",
     "output_type": "stream",
     "text": [
      "[CV]  n_estimators=760, min_samples_split=17, min_samples_leaf=6, max_features=auto, max_depth=3, total=   1.5s\n",
      "[CV] n_estimators=760, min_samples_split=17, min_samples_leaf=6, max_features=auto, max_depth=3 \n",
      "[CV]  n_estimators=760, min_samples_split=17, min_samples_leaf=6, max_features=auto, max_depth=3, total=   1.7s\n",
      "[CV] n_estimators=760, min_samples_split=17, min_samples_leaf=6, max_features=auto, max_depth=3 \n",
      "[CV]  n_estimators=760, min_samples_split=17, min_samples_leaf=6, max_features=auto, max_depth=3, total=   2.1s\n",
      "[CV] n_estimators=760, min_samples_split=17, min_samples_leaf=6, max_features=auto, max_depth=3 \n",
      "[CV]  n_estimators=760, min_samples_split=17, min_samples_leaf=6, max_features=auto, max_depth=3, total=   1.6s\n",
      "[CV] n_estimators=10, min_samples_split=9, min_samples_leaf=3, max_features=auto, max_depth=None \n",
      "[CV]  n_estimators=10, min_samples_split=9, min_samples_leaf=3, max_features=auto, max_depth=None, total=   0.2s\n",
      "[CV] n_estimators=10, min_samples_split=9, min_samples_leaf=3, max_features=auto, max_depth=None \n",
      "[CV]  n_estimators=10, min_samples_split=9, min_samples_leaf=3, max_features=auto, max_depth=None, total=   0.2s\n",
      "[CV] n_estimators=10, min_samples_split=9, min_samples_leaf=3, max_features=auto, max_depth=None \n",
      "[CV]  n_estimators=10, min_samples_split=9, min_samples_leaf=3, max_features=auto, max_depth=None, total=   0.1s\n",
      "[CV] n_estimators=10, min_samples_split=9, min_samples_leaf=3, max_features=auto, max_depth=None \n",
      "[CV]  n_estimators=10, min_samples_split=9, min_samples_leaf=3, max_features=auto, max_depth=None, total=   0.1s\n",
      "[CV] n_estimators=10, min_samples_split=9, min_samples_leaf=3, max_features=auto, max_depth=None \n",
      "[CV]  n_estimators=10, min_samples_split=9, min_samples_leaf=3, max_features=auto, max_depth=None, total=   0.1s\n",
      "[CV] n_estimators=910, min_samples_split=19, min_samples_leaf=11, max_features=log2, max_depth=5 \n",
      "[CV]  n_estimators=910, min_samples_split=19, min_samples_leaf=11, max_features=log2, max_depth=5, total=   2.1s\n",
      "[CV] n_estimators=910, min_samples_split=19, min_samples_leaf=11, max_features=log2, max_depth=5 \n",
      "[CV]  n_estimators=910, min_samples_split=19, min_samples_leaf=11, max_features=log2, max_depth=5, total=   2.0s\n",
      "[CV] n_estimators=910, min_samples_split=19, min_samples_leaf=11, max_features=log2, max_depth=5 \n",
      "[CV]  n_estimators=910, min_samples_split=19, min_samples_leaf=11, max_features=log2, max_depth=5, total=   1.7s\n",
      "[CV] n_estimators=910, min_samples_split=19, min_samples_leaf=11, max_features=log2, max_depth=5 \n",
      "[CV]  n_estimators=910, min_samples_split=19, min_samples_leaf=11, max_features=log2, max_depth=5, total=   1.7s\n",
      "[CV] n_estimators=910, min_samples_split=19, min_samples_leaf=11, max_features=log2, max_depth=5 \n",
      "[CV]  n_estimators=910, min_samples_split=19, min_samples_leaf=11, max_features=log2, max_depth=5, total=   1.6s\n",
      "[CV] n_estimators=160, min_samples_split=19, min_samples_leaf=18, max_features=log2, max_depth=10 \n",
      "[CV]  n_estimators=160, min_samples_split=19, min_samples_leaf=18, max_features=log2, max_depth=10, total=   0.4s\n",
      "[CV] n_estimators=160, min_samples_split=19, min_samples_leaf=18, max_features=log2, max_depth=10 \n",
      "[CV]  n_estimators=160, min_samples_split=19, min_samples_leaf=18, max_features=log2, max_depth=10, total=   0.4s\n",
      "[CV] n_estimators=160, min_samples_split=19, min_samples_leaf=18, max_features=log2, max_depth=10 \n",
      "[CV]  n_estimators=160, min_samples_split=19, min_samples_leaf=18, max_features=log2, max_depth=10, total=   0.4s\n",
      "[CV] n_estimators=160, min_samples_split=19, min_samples_leaf=18, max_features=log2, max_depth=10 \n",
      "[CV]  n_estimators=160, min_samples_split=19, min_samples_leaf=18, max_features=log2, max_depth=10, total=   0.4s\n",
      "[CV] n_estimators=160, min_samples_split=19, min_samples_leaf=18, max_features=log2, max_depth=10 \n",
      "[CV]  n_estimators=160, min_samples_split=19, min_samples_leaf=18, max_features=log2, max_depth=10, total=   0.4s\n",
      "[CV] n_estimators=610, min_samples_split=6, min_samples_leaf=11, max_features=auto, max_depth=10 \n",
      "[CV]  n_estimators=610, min_samples_split=6, min_samples_leaf=11, max_features=auto, max_depth=10, total=   1.1s\n",
      "[CV] n_estimators=610, min_samples_split=6, min_samples_leaf=11, max_features=auto, max_depth=10 \n",
      "[CV]  n_estimators=610, min_samples_split=6, min_samples_leaf=11, max_features=auto, max_depth=10, total=   1.2s\n",
      "[CV] n_estimators=610, min_samples_split=6, min_samples_leaf=11, max_features=auto, max_depth=10 \n",
      "[CV]  n_estimators=610, min_samples_split=6, min_samples_leaf=11, max_features=auto, max_depth=10, total=   1.2s\n",
      "[CV] n_estimators=610, min_samples_split=6, min_samples_leaf=11, max_features=auto, max_depth=10 \n",
      "[CV]  n_estimators=610, min_samples_split=6, min_samples_leaf=11, max_features=auto, max_depth=10, total=   1.1s\n",
      "[CV] n_estimators=610, min_samples_split=6, min_samples_leaf=11, max_features=auto, max_depth=10 \n",
      "[CV]  n_estimators=610, min_samples_split=6, min_samples_leaf=11, max_features=auto, max_depth=10, total=   1.2s\n",
      "[CV] n_estimators=210, min_samples_split=8, min_samples_leaf=13, max_features=log2, max_depth=None \n",
      "[CV]  n_estimators=210, min_samples_split=8, min_samples_leaf=13, max_features=log2, max_depth=None, total=   0.5s\n",
      "[CV] n_estimators=210, min_samples_split=8, min_samples_leaf=13, max_features=log2, max_depth=None \n",
      "[CV]  n_estimators=210, min_samples_split=8, min_samples_leaf=13, max_features=log2, max_depth=None, total=   0.5s\n",
      "[CV] n_estimators=210, min_samples_split=8, min_samples_leaf=13, max_features=log2, max_depth=None \n",
      "[CV]  n_estimators=210, min_samples_split=8, min_samples_leaf=13, max_features=log2, max_depth=None, total=   0.5s\n",
      "[CV] n_estimators=210, min_samples_split=8, min_samples_leaf=13, max_features=log2, max_depth=None \n",
      "[CV]  n_estimators=210, min_samples_split=8, min_samples_leaf=13, max_features=log2, max_depth=None, total=   0.5s\n",
      "[CV] n_estimators=210, min_samples_split=8, min_samples_leaf=13, max_features=log2, max_depth=None \n",
      "[CV]  n_estimators=210, min_samples_split=8, min_samples_leaf=13, max_features=log2, max_depth=None, total=   0.5s\n",
      "[CV] n_estimators=260, min_samples_split=9, min_samples_leaf=18, max_features=auto, max_depth=None \n",
      "[CV]  n_estimators=260, min_samples_split=9, min_samples_leaf=18, max_features=auto, max_depth=None, total=   0.5s\n",
      "[CV] n_estimators=260, min_samples_split=9, min_samples_leaf=18, max_features=auto, max_depth=None \n",
      "[CV]  n_estimators=260, min_samples_split=9, min_samples_leaf=18, max_features=auto, max_depth=None, total=   0.5s\n",
      "[CV] n_estimators=260, min_samples_split=9, min_samples_leaf=18, max_features=auto, max_depth=None \n",
      "[CV]  n_estimators=260, min_samples_split=9, min_samples_leaf=18, max_features=auto, max_depth=None, total=   0.5s\n",
      "[CV] n_estimators=260, min_samples_split=9, min_samples_leaf=18, max_features=auto, max_depth=None \n",
      "[CV]  n_estimators=260, min_samples_split=9, min_samples_leaf=18, max_features=auto, max_depth=None, total=   0.5s\n",
      "[CV] n_estimators=260, min_samples_split=9, min_samples_leaf=18, max_features=auto, max_depth=None \n",
      "[CV]  n_estimators=260, min_samples_split=9, min_samples_leaf=18, max_features=auto, max_depth=None, total=   0.5s\n",
      "[CV] n_estimators=510, min_samples_split=16, min_samples_leaf=9, max_features=auto, max_depth=3 \n",
      "[CV]  n_estimators=510, min_samples_split=16, min_samples_leaf=9, max_features=auto, max_depth=3, total=   0.9s\n",
      "[CV] n_estimators=510, min_samples_split=16, min_samples_leaf=9, max_features=auto, max_depth=3 \n",
      "[CV]  n_estimators=510, min_samples_split=16, min_samples_leaf=9, max_features=auto, max_depth=3, total=   0.9s\n",
      "[CV] n_estimators=510, min_samples_split=16, min_samples_leaf=9, max_features=auto, max_depth=3 \n",
      "[CV]  n_estimators=510, min_samples_split=16, min_samples_leaf=9, max_features=auto, max_depth=3, total=   0.9s\n",
      "[CV] n_estimators=510, min_samples_split=16, min_samples_leaf=9, max_features=auto, max_depth=3 \n",
      "[CV]  n_estimators=510, min_samples_split=16, min_samples_leaf=9, max_features=auto, max_depth=3, total=   1.2s\n",
      "[CV] n_estimators=510, min_samples_split=16, min_samples_leaf=9, max_features=auto, max_depth=3 \n",
      "[CV]  n_estimators=510, min_samples_split=16, min_samples_leaf=9, max_features=auto, max_depth=3, total=   1.0s\n",
      "[CV] n_estimators=710, min_samples_split=7, min_samples_leaf=9, max_features=log2, max_depth=5 \n"
     ]
    },
    {
     "name": "stdout",
     "output_type": "stream",
     "text": [
      "[CV]  n_estimators=710, min_samples_split=7, min_samples_leaf=9, max_features=log2, max_depth=5, total=   1.4s\n",
      "[CV] n_estimators=710, min_samples_split=7, min_samples_leaf=9, max_features=log2, max_depth=5 \n",
      "[CV]  n_estimators=710, min_samples_split=7, min_samples_leaf=9, max_features=log2, max_depth=5, total=   1.2s\n",
      "[CV] n_estimators=710, min_samples_split=7, min_samples_leaf=9, max_features=log2, max_depth=5 \n",
      "[CV]  n_estimators=710, min_samples_split=7, min_samples_leaf=9, max_features=log2, max_depth=5, total=   1.3s\n",
      "[CV] n_estimators=710, min_samples_split=7, min_samples_leaf=9, max_features=log2, max_depth=5 \n",
      "[CV]  n_estimators=710, min_samples_split=7, min_samples_leaf=9, max_features=log2, max_depth=5, total=   1.3s\n",
      "[CV] n_estimators=710, min_samples_split=7, min_samples_leaf=9, max_features=log2, max_depth=5 \n",
      "[CV]  n_estimators=710, min_samples_split=7, min_samples_leaf=9, max_features=log2, max_depth=5, total=   1.9s\n",
      "[CV] n_estimators=110, min_samples_split=2, min_samples_leaf=5, max_features=log2, max_depth=3 \n",
      "[CV]  n_estimators=110, min_samples_split=2, min_samples_leaf=5, max_features=log2, max_depth=3, total=   0.3s\n",
      "[CV] n_estimators=110, min_samples_split=2, min_samples_leaf=5, max_features=log2, max_depth=3 \n",
      "[CV]  n_estimators=110, min_samples_split=2, min_samples_leaf=5, max_features=log2, max_depth=3, total=   0.4s\n",
      "[CV] n_estimators=110, min_samples_split=2, min_samples_leaf=5, max_features=log2, max_depth=3 \n",
      "[CV]  n_estimators=110, min_samples_split=2, min_samples_leaf=5, max_features=log2, max_depth=3, total=   0.5s\n",
      "[CV] n_estimators=110, min_samples_split=2, min_samples_leaf=5, max_features=log2, max_depth=3 \n",
      "[CV]  n_estimators=110, min_samples_split=2, min_samples_leaf=5, max_features=log2, max_depth=3, total=   0.4s\n",
      "[CV] n_estimators=110, min_samples_split=2, min_samples_leaf=5, max_features=log2, max_depth=3 \n",
      "[CV]  n_estimators=110, min_samples_split=2, min_samples_leaf=5, max_features=log2, max_depth=3, total=   0.4s\n",
      "[CV] n_estimators=560, min_samples_split=3, min_samples_leaf=18, max_features=auto, max_depth=10 \n",
      "[CV]  n_estimators=560, min_samples_split=3, min_samples_leaf=18, max_features=auto, max_depth=10, total=   1.3s\n",
      "[CV] n_estimators=560, min_samples_split=3, min_samples_leaf=18, max_features=auto, max_depth=10 \n",
      "[CV]  n_estimators=560, min_samples_split=3, min_samples_leaf=18, max_features=auto, max_depth=10, total=   1.0s\n",
      "[CV] n_estimators=560, min_samples_split=3, min_samples_leaf=18, max_features=auto, max_depth=10 \n",
      "[CV]  n_estimators=560, min_samples_split=3, min_samples_leaf=18, max_features=auto, max_depth=10, total=   1.3s\n",
      "[CV] n_estimators=560, min_samples_split=3, min_samples_leaf=18, max_features=auto, max_depth=10 \n",
      "[CV]  n_estimators=560, min_samples_split=3, min_samples_leaf=18, max_features=auto, max_depth=10, total=   1.3s\n",
      "[CV] n_estimators=560, min_samples_split=3, min_samples_leaf=18, max_features=auto, max_depth=10 \n",
      "[CV]  n_estimators=560, min_samples_split=3, min_samples_leaf=18, max_features=auto, max_depth=10, total=   1.1s\n",
      "[CV] n_estimators=560, min_samples_split=12, min_samples_leaf=9, max_features=auto, max_depth=10 \n",
      "[CV]  n_estimators=560, min_samples_split=12, min_samples_leaf=9, max_features=auto, max_depth=10, total=   1.1s\n",
      "[CV] n_estimators=560, min_samples_split=12, min_samples_leaf=9, max_features=auto, max_depth=10 \n",
      "[CV]  n_estimators=560, min_samples_split=12, min_samples_leaf=9, max_features=auto, max_depth=10, total=   1.1s\n",
      "[CV] n_estimators=560, min_samples_split=12, min_samples_leaf=9, max_features=auto, max_depth=10 \n",
      "[CV]  n_estimators=560, min_samples_split=12, min_samples_leaf=9, max_features=auto, max_depth=10, total=   1.1s\n",
      "[CV] n_estimators=560, min_samples_split=12, min_samples_leaf=9, max_features=auto, max_depth=10 \n",
      "[CV]  n_estimators=560, min_samples_split=12, min_samples_leaf=9, max_features=auto, max_depth=10, total=   1.1s\n",
      "[CV] n_estimators=560, min_samples_split=12, min_samples_leaf=9, max_features=auto, max_depth=10 \n",
      "[CV]  n_estimators=560, min_samples_split=12, min_samples_leaf=9, max_features=auto, max_depth=10, total=   1.1s\n",
      "[CV] n_estimators=160, min_samples_split=11, min_samples_leaf=7, max_features=auto, max_depth=3 \n",
      "[CV]  n_estimators=160, min_samples_split=11, min_samples_leaf=7, max_features=auto, max_depth=3, total=   0.4s\n",
      "[CV] n_estimators=160, min_samples_split=11, min_samples_leaf=7, max_features=auto, max_depth=3 \n",
      "[CV]  n_estimators=160, min_samples_split=11, min_samples_leaf=7, max_features=auto, max_depth=3, total=   0.4s\n",
      "[CV] n_estimators=160, min_samples_split=11, min_samples_leaf=7, max_features=auto, max_depth=3 \n",
      "[CV]  n_estimators=160, min_samples_split=11, min_samples_leaf=7, max_features=auto, max_depth=3, total=   0.4s\n",
      "[CV] n_estimators=160, min_samples_split=11, min_samples_leaf=7, max_features=auto, max_depth=3 \n",
      "[CV]  n_estimators=160, min_samples_split=11, min_samples_leaf=7, max_features=auto, max_depth=3, total=   0.4s\n",
      "[CV] n_estimators=160, min_samples_split=11, min_samples_leaf=7, max_features=auto, max_depth=3 \n",
      "[CV]  n_estimators=160, min_samples_split=11, min_samples_leaf=7, max_features=auto, max_depth=3, total=   0.4s\n",
      "[CV] n_estimators=510, min_samples_split=4, min_samples_leaf=1, max_features=auto, max_depth=10 \n",
      "[CV]  n_estimators=510, min_samples_split=4, min_samples_leaf=1, max_features=auto, max_depth=10, total=   0.9s\n",
      "[CV] n_estimators=510, min_samples_split=4, min_samples_leaf=1, max_features=auto, max_depth=10 \n",
      "[CV]  n_estimators=510, min_samples_split=4, min_samples_leaf=1, max_features=auto, max_depth=10, total=   0.9s\n",
      "[CV] n_estimators=510, min_samples_split=4, min_samples_leaf=1, max_features=auto, max_depth=10 \n",
      "[CV]  n_estimators=510, min_samples_split=4, min_samples_leaf=1, max_features=auto, max_depth=10, total=   0.9s\n",
      "[CV] n_estimators=510, min_samples_split=4, min_samples_leaf=1, max_features=auto, max_depth=10 \n",
      "[CV]  n_estimators=510, min_samples_split=4, min_samples_leaf=1, max_features=auto, max_depth=10, total=   1.0s\n",
      "[CV] n_estimators=510, min_samples_split=4, min_samples_leaf=1, max_features=auto, max_depth=10 \n",
      "[CV]  n_estimators=510, min_samples_split=4, min_samples_leaf=1, max_features=auto, max_depth=10, total=   1.0s\n",
      "[CV] n_estimators=260, min_samples_split=14, min_samples_leaf=5, max_features=auto, max_depth=None \n",
      "[CV]  n_estimators=260, min_samples_split=14, min_samples_leaf=5, max_features=auto, max_depth=None, total=   0.5s\n",
      "[CV] n_estimators=260, min_samples_split=14, min_samples_leaf=5, max_features=auto, max_depth=None \n",
      "[CV]  n_estimators=260, min_samples_split=14, min_samples_leaf=5, max_features=auto, max_depth=None, total=   0.5s\n",
      "[CV] n_estimators=260, min_samples_split=14, min_samples_leaf=5, max_features=auto, max_depth=None \n",
      "[CV]  n_estimators=260, min_samples_split=14, min_samples_leaf=5, max_features=auto, max_depth=None, total=   0.6s\n",
      "[CV] n_estimators=260, min_samples_split=14, min_samples_leaf=5, max_features=auto, max_depth=None \n",
      "[CV]  n_estimators=260, min_samples_split=14, min_samples_leaf=5, max_features=auto, max_depth=None, total=   0.5s\n",
      "[CV] n_estimators=260, min_samples_split=14, min_samples_leaf=5, max_features=auto, max_depth=None \n",
      "[CV]  n_estimators=260, min_samples_split=14, min_samples_leaf=5, max_features=auto, max_depth=None, total=   0.6s\n",
      "[CV] n_estimators=460, min_samples_split=4, min_samples_leaf=3, max_features=auto, max_depth=None \n",
      "[CV]  n_estimators=460, min_samples_split=4, min_samples_leaf=3, max_features=auto, max_depth=None, total=   0.9s\n",
      "[CV] n_estimators=460, min_samples_split=4, min_samples_leaf=3, max_features=auto, max_depth=None \n",
      "[CV]  n_estimators=460, min_samples_split=4, min_samples_leaf=3, max_features=auto, max_depth=None, total=   0.9s\n",
      "[CV] n_estimators=460, min_samples_split=4, min_samples_leaf=3, max_features=auto, max_depth=None \n",
      "[CV]  n_estimators=460, min_samples_split=4, min_samples_leaf=3, max_features=auto, max_depth=None, total=   0.9s\n",
      "[CV] n_estimators=460, min_samples_split=4, min_samples_leaf=3, max_features=auto, max_depth=None \n",
      "[CV]  n_estimators=460, min_samples_split=4, min_samples_leaf=3, max_features=auto, max_depth=None, total=   0.9s\n",
      "[CV] n_estimators=460, min_samples_split=4, min_samples_leaf=3, max_features=auto, max_depth=None \n"
     ]
    },
    {
     "name": "stdout",
     "output_type": "stream",
     "text": [
      "[CV]  n_estimators=460, min_samples_split=4, min_samples_leaf=3, max_features=auto, max_depth=None, total=   1.2s\n",
      "[CV] n_estimators=660, min_samples_split=15, min_samples_leaf=7, max_features=auto, max_depth=None \n",
      "[CV]  n_estimators=660, min_samples_split=15, min_samples_leaf=7, max_features=auto, max_depth=None, total=   1.5s\n",
      "[CV] n_estimators=660, min_samples_split=15, min_samples_leaf=7, max_features=auto, max_depth=None \n",
      "[CV]  n_estimators=660, min_samples_split=15, min_samples_leaf=7, max_features=auto, max_depth=None, total=   1.9s\n",
      "[CV] n_estimators=660, min_samples_split=15, min_samples_leaf=7, max_features=auto, max_depth=None \n",
      "[CV]  n_estimators=660, min_samples_split=15, min_samples_leaf=7, max_features=auto, max_depth=None, total=   1.3s\n",
      "[CV] n_estimators=660, min_samples_split=15, min_samples_leaf=7, max_features=auto, max_depth=None \n",
      "[CV]  n_estimators=660, min_samples_split=15, min_samples_leaf=7, max_features=auto, max_depth=None, total=   1.3s\n",
      "[CV] n_estimators=660, min_samples_split=15, min_samples_leaf=7, max_features=auto, max_depth=None \n",
      "[CV]  n_estimators=660, min_samples_split=15, min_samples_leaf=7, max_features=auto, max_depth=None, total=   1.3s\n",
      "[CV] n_estimators=560, min_samples_split=15, min_samples_leaf=15, max_features=auto, max_depth=None \n",
      "[CV]  n_estimators=560, min_samples_split=15, min_samples_leaf=15, max_features=auto, max_depth=None, total=   1.1s\n",
      "[CV] n_estimators=560, min_samples_split=15, min_samples_leaf=15, max_features=auto, max_depth=None \n",
      "[CV]  n_estimators=560, min_samples_split=15, min_samples_leaf=15, max_features=auto, max_depth=None, total=   1.1s\n",
      "[CV] n_estimators=560, min_samples_split=15, min_samples_leaf=15, max_features=auto, max_depth=None \n",
      "[CV]  n_estimators=560, min_samples_split=15, min_samples_leaf=15, max_features=auto, max_depth=None, total=   1.1s\n",
      "[CV] n_estimators=560, min_samples_split=15, min_samples_leaf=15, max_features=auto, max_depth=None \n",
      "[CV]  n_estimators=560, min_samples_split=15, min_samples_leaf=15, max_features=auto, max_depth=None, total=   1.1s\n",
      "[CV] n_estimators=560, min_samples_split=15, min_samples_leaf=15, max_features=auto, max_depth=None \n",
      "[CV]  n_estimators=560, min_samples_split=15, min_samples_leaf=15, max_features=auto, max_depth=None, total=   1.4s\n",
      "[CV] n_estimators=960, min_samples_split=2, min_samples_leaf=11, max_features=log2, max_depth=5 \n",
      "[CV]  n_estimators=960, min_samples_split=2, min_samples_leaf=11, max_features=log2, max_depth=5, total=   1.7s\n",
      "[CV] n_estimators=960, min_samples_split=2, min_samples_leaf=11, max_features=log2, max_depth=5 \n",
      "[CV]  n_estimators=960, min_samples_split=2, min_samples_leaf=11, max_features=log2, max_depth=5, total=   1.7s\n",
      "[CV] n_estimators=960, min_samples_split=2, min_samples_leaf=11, max_features=log2, max_depth=5 \n",
      "[CV]  n_estimators=960, min_samples_split=2, min_samples_leaf=11, max_features=log2, max_depth=5, total=   1.7s\n",
      "[CV] n_estimators=960, min_samples_split=2, min_samples_leaf=11, max_features=log2, max_depth=5 \n",
      "[CV]  n_estimators=960, min_samples_split=2, min_samples_leaf=11, max_features=log2, max_depth=5, total=   1.8s\n",
      "[CV] n_estimators=960, min_samples_split=2, min_samples_leaf=11, max_features=log2, max_depth=5 \n",
      "[CV]  n_estimators=960, min_samples_split=2, min_samples_leaf=11, max_features=log2, max_depth=5, total=   1.7s\n",
      "[CV] n_estimators=410, min_samples_split=17, min_samples_leaf=14, max_features=log2, max_depth=5 \n",
      "[CV]  n_estimators=410, min_samples_split=17, min_samples_leaf=14, max_features=log2, max_depth=5, total=   0.8s\n",
      "[CV] n_estimators=410, min_samples_split=17, min_samples_leaf=14, max_features=log2, max_depth=5 \n",
      "[CV]  n_estimators=410, min_samples_split=17, min_samples_leaf=14, max_features=log2, max_depth=5, total=   0.8s\n",
      "[CV] n_estimators=410, min_samples_split=17, min_samples_leaf=14, max_features=log2, max_depth=5 \n",
      "[CV]  n_estimators=410, min_samples_split=17, min_samples_leaf=14, max_features=log2, max_depth=5, total=   0.8s\n",
      "[CV] n_estimators=410, min_samples_split=17, min_samples_leaf=14, max_features=log2, max_depth=5 \n",
      "[CV]  n_estimators=410, min_samples_split=17, min_samples_leaf=14, max_features=log2, max_depth=5, total=   0.8s\n",
      "[CV] n_estimators=410, min_samples_split=17, min_samples_leaf=14, max_features=log2, max_depth=5 \n",
      "[CV]  n_estimators=410, min_samples_split=17, min_samples_leaf=14, max_features=log2, max_depth=5, total=   0.8s\n"
     ]
    },
    {
     "name": "stderr",
     "output_type": "stream",
     "text": [
      "[Parallel(n_jobs=1)]: Done 100 out of 100 | elapsed:  1.6min finished\n"
     ]
    },
    {
     "data": {
      "text/plain": [
       "RandomizedSearchCV(cv=5, estimator=RandomForestClassifier(n_jobs=-1), n_iter=20,\n",
       "                   param_distributions={'max_depth': [None, 3, 5, 10],\n",
       "                                        'max_features': ['auto', 'log2'],\n",
       "                                        'min_samples_leaf': array([ 1,  2,  3,  4,  5,  6,  7,  8,  9, 10, 11, 12, 13, 14, 15, 16, 17,\n",
       "       18, 19]),\n",
       "                                        'min_samples_split': array([ 2,  3,  4,  5,  6,  7,  8,  9, 10, 11, 12, 13, 14, 15, 16, 17, 18,\n",
       "       19]),\n",
       "                                        'n_estimators': array([ 10,  60, 110, 160, 210, 260, 310, 360, 410, 460, 510, 560, 610,\n",
       "       660, 710, 760, 810, 860, 910, 960])},\n",
       "                   verbose=2)"
      ]
     },
     "execution_count": 32,
     "metadata": {},
     "output_type": "execute_result"
    }
   ],
   "source": [
    "# setup random seed \n",
    "np.random.seed(42)\n",
    "\n",
    "# setup random hyperparameter search for RandomForestClassifier\n",
    "gs_rf = RandomizedSearchCV(RandomForestClassifier(n_jobs=-1), rf_grid,n_iter=20, cv=5, verbose=2)\n",
    "gs_rf.fit(x_train, y_train)"
   ]
  },
  {
   "cell_type": "code",
   "execution_count": 33,
   "metadata": {},
   "outputs": [
    {
     "data": {
      "text/plain": [
       "{'n_estimators': 410,\n",
       " 'min_samples_split': 17,\n",
       " 'min_samples_leaf': 14,\n",
       " 'max_features': 'log2',\n",
       " 'max_depth': 5}"
      ]
     },
     "execution_count": 33,
     "metadata": {},
     "output_type": "execute_result"
    }
   ],
   "source": [
    "gs_rf.best_params_"
   ]
  },
  {
   "cell_type": "code",
   "execution_count": 34,
   "metadata": {
    "scrolled": true
   },
   "outputs": [
    {
     "data": {
      "text/plain": [
       "0.8688524590163934"
      ]
     },
     "execution_count": 34,
     "metadata": {},
     "output_type": "execute_result"
    }
   ],
   "source": [
    "gs_rf.score(x_test,y_test)"
   ]
  },
  {
   "cell_type": "markdown",
   "metadata": {},
   "source": [
    "We compare score of 2 models : \n",
    "* Logistice regression : 0.8852459016393442\n",
    "* Random forest classifier:  0.8688524590163934"
   ]
  },
  {
   "cell_type": "markdown",
   "metadata": {},
   "source": [
    "### Evaluating our tuned ML model, beyond accuracy\n",
    "* ROC curve and AUC\n",
    "* matrix confusion\n",
    "* classification report\n",
    "* precision\n",
    "* recall\n",
    "* f1-score\n",
    "\n",
    "... and it would be great if cross-validation was used where possible\n",
    "\n",
    "To make comparisions and evaluate our trainned model, first we need to make predictions"
   ]
  },
  {
   "cell_type": "code",
   "execution_count": 35,
   "metadata": {},
   "outputs": [
    {
     "data": {
      "text/plain": [
       "array([0, 1, 1, 0, 1, 1, 1, 0, 0, 1, 1, 0, 1, 0, 1, 1, 1, 0, 0, 0, 1, 0,\n",
       "       0, 1, 1, 1, 1, 1, 0, 1, 0, 0, 0, 0, 1, 0, 1, 1, 1, 1, 1, 1, 1, 1,\n",
       "       1, 0, 1, 1, 0, 0, 0, 0, 1, 1, 0, 0, 0, 1, 0, 0, 0])"
      ]
     },
     "execution_count": 35,
     "metadata": {},
     "output_type": "execute_result"
    }
   ],
   "source": [
    "y_preds= gs_log_reg.predict(x_test)\n",
    "y_preds"
   ]
  },
  {
   "cell_type": "code",
   "execution_count": 36,
   "metadata": {},
   "outputs": [
    {
     "data": {
      "text/plain": [
       "array([0, 0, 1, 0, 1, 1, 1, 0, 0, 1, 1, 1, 1, 0, 1, 1, 1, 0, 0, 0, 1, 0,\n",
       "       0, 1, 1, 0, 0, 1, 0, 1, 1, 0, 0, 1, 1, 0, 1, 1, 1, 1, 1, 1, 1, 1,\n",
       "       1, 0, 0, 1, 0, 0, 0, 0, 1, 1, 0, 0, 0, 1, 0, 0, 0])"
      ]
     },
     "execution_count": 36,
     "metadata": {},
     "output_type": "execute_result"
    }
   ],
   "source": [
    "np.array(y_test)"
   ]
  },
  {
   "cell_type": "markdown",
   "metadata": {},
   "source": [
    "#### ROC curve and AUC"
   ]
  },
  {
   "cell_type": "code",
   "execution_count": 38,
   "metadata": {},
   "outputs": [
    {
     "data": {
      "text/plain": [
       "[<matplotlib.lines.Line2D at 0x7fb19c047588>]"
      ]
     },
     "execution_count": 38,
     "metadata": {},
     "output_type": "execute_result"
    },
    {
     "data": {
      "image/png": "[encoded data removed]",
      "text/plain": [
       "<Figure size 432x288 with 1 Axes>"
      ]
     },
     "metadata": {},
     "output_type": "display_data"
    }
   ],
   "source": [
    "plot_roc_curve(gs_log_reg, x_test, y_test)\n",
    "plt.plot([0,1],[0,1],\"--\")"
   ]
  },
  {
   "cell_type": "markdown",
   "metadata": {},
   "source": [
    "#### Confusion matrix"
   ]
  },
  {
   "cell_type": "code",
   "execution_count": 39,
   "metadata": {},
   "outputs": [
    {
     "data": {
      "text/plain": [
       "<AxesSubplot:>"
      ]
     },
     "execution_count": 39,
     "metadata": {},
     "output_type": "execute_result"
    },
    {
     "data": {
      "image/png": "[encoded data removed]",
      "text/plain": [
       "<Figure size 432x288 with 2 Axes>"
      ]
     },
     "metadata": {},
     "output_type": "display_data"
    }
   ],
   "source": [
    "conf_mat = pd.DataFrame(confusion_matrix(y_test, y_preds), index=[0,1], columns=[0,1])\n",
    "sns.heatmap(conf_mat, annot=True)"
   ]
  },
  {
   "cell_type": "markdown",
   "metadata": {},
   "source": [
    "#### classification report"
   ]
  },
  {
   "cell_type": "code",
   "execution_count": 40,
   "metadata": {},
   "outputs": [
    {
     "name": "stdout",
     "output_type": "stream",
     "text": [
      "              precision    recall  f1-score   support\n",
      "\n",
      "           0       0.89      0.86      0.88        29\n",
      "           1       0.88      0.91      0.89        32\n",
      "\n",
      "    accuracy                           0.89        61\n",
      "   macro avg       0.89      0.88      0.88        61\n",
      "weighted avg       0.89      0.89      0.89        61\n",
      "\n"
     ]
    }
   ],
   "source": [
    "print(classification_report(y_test,y_preds ))"
   ]
  },
  {
   "cell_type": "markdown",
   "metadata": {},
   "source": [
    "### Calcualate evaluation metrics using cross-validation\n",
    "\n",
    "We are going to calculate precision, recall and f1-score of our model using cross-validation and to do so we'll using `cross_val_score()`"
   ]
  },
  {
   "cell_type": "code",
   "execution_count": 41,
   "metadata": {},
   "outputs": [
    {
     "data": {
      "text/plain": [
       "{'solver': 'lbfgs', 'C': 0.21209508879201905}"
      ]
     },
     "execution_count": 41,
     "metadata": {},
     "output_type": "execute_result"
    }
   ],
   "source": [
    "gs_log_reg.best_params_"
   ]
  },
  {
   "cell_type": "code",
   "execution_count": 42,
   "metadata": {},
   "outputs": [
    {
     "data": {
      "text/plain": [
       "array([0.81632653, 0.85714286, 0.8125    , 0.85416667, 0.8125    ])"
      ]
     },
     "execution_count": 42,
     "metadata": {},
     "output_type": "execute_result"
    }
   ],
   "source": [
    "clf = LogisticRegression(C=0.21209508879201905, solver=\"liblinear\")\n",
    "cross_val_score(clf,x_train, y_train, cv=5)"
   ]
  },
  {
   "cell_type": "code",
   "execution_count": 43,
   "metadata": {},
   "outputs": [
    {
     "data": {
      "text/plain": [
       "0.8305272108843538"
      ]
     },
     "execution_count": 43,
     "metadata": {},
     "output_type": "execute_result"
    }
   ],
   "source": [
    "# Cross-validation accuracy\n",
    "cv_acc = cross_val_score(clf, x_train, y_train, cv=5, scoring=\"accuracy\")\n",
    "cv_acc = np.mean(cv_acc)\n",
    "cv_acc"
   ]
  },
  {
   "cell_type": "code",
   "execution_count": 44,
   "metadata": {},
   "outputs": [
    {
     "data": {
      "text/plain": [
       "0.8527860395821953"
      ]
     },
     "execution_count": 44,
     "metadata": {},
     "output_type": "execute_result"
    }
   ],
   "source": [
    "# Cross-validation f1-score\n",
    "cv_f1 = cross_val_score(clf, x_train, y_train, cv=5, scoring=\"f1\")\n",
    "cv_f1 = np.mean(cv_f1)\n",
    "cv_f1"
   ]
  },
  {
   "cell_type": "code",
   "execution_count": 45,
   "metadata": {},
   "outputs": [
    {
     "data": {
      "text/plain": [
       "0.8156825852946541"
      ]
     },
     "execution_count": 45,
     "metadata": {},
     "output_type": "execute_result"
    }
   ],
   "source": [
    "# Cross-validation precision\n",
    "cv_pre = cross_val_score(clf, x_train, y_train, cv=5, scoring=\"precision\")\n",
    "cv_pre = np.mean(cv_pre)\n",
    "cv_pre"
   ]
  },
  {
   "cell_type": "code",
   "execution_count": 46,
   "metadata": {},
   "outputs": [
    {
     "data": {
      "text/plain": [
       "0.8945868945868944"
      ]
     },
     "execution_count": 46,
     "metadata": {},
     "output_type": "execute_result"
    }
   ],
   "source": [
    "# Cross-validation recall\n",
    "cv_recall = cross_val_score(clf, x_train, y_train, cv=5, scoring=\"recall\")\n",
    "cv_recall = np.mean(cv_recall)\n",
    "cv_recall"
   ]
  },
  {
   "cell_type": "code",
   "execution_count": 52,
   "metadata": {},
   "outputs": [
    {
     "data": {
      "text/plain": [
       "<AxesSubplot:>"
      ]
     },
     "execution_count": 52,
     "metadata": {},
     "output_type": "execute_result"
    },
    {
     "data": {
      "image/png": "[encoded data removed]",
      "text/plain": [
       "<Figure size 432x288 with 1 Axes>"
      ]
     },
     "metadata": {},
     "output_type": "display_data"
    }
   ],
   "source": [
    "# Visualize cross-validation metrics \n",
    "cv_metrics = {\n",
    "    \"accuracy\" : cv_acc,\n",
    "    \"precision\" : cv_pre,\n",
    "    \"recall\" : cv_recall,\n",
    "    \"f1\" : cv_f1\n",
    "}\n",
    "\n",
    "df_metrics = pd.DataFrame(cv_metrics, index=[\"accuracy\"]).T\n",
    "df_metrics.plot(kind=\"bar\")"
   ]
  },
  {
   "cell_type": "markdown",
   "metadata": {},
   "source": [
    "## Feature importance\n",
    "\n",
    "Features importance is another as asking, \"which features contributed most to the outcomes of the models and how did they contribute ?\" \n",
    "\n",
    "Finding feature importance is different from each of machine learning model. One way to find feature importance is to search for (MODEL NAME) fearture importance"
   ]
  },
  {
   "cell_type": "code",
   "execution_count": 48,
   "metadata": {},
   "outputs": [
    {
     "data": {
      "text/plain": [
       "LogisticRegression(C=0.21209508879201905, solver='liblinear')"
      ]
     },
     "execution_count": 48,
     "metadata": {},
     "output_type": "execute_result"
    }
   ],
   "source": [
    "# Fit an istance of LogisticRegression\n",
    "clf = LogisticRegression(C=0.21209508879201905, solver=\"liblinear\")\n",
    "clf.fit(x_train, y_train)"
   ]
  },
  {
   "cell_type": "code",
   "execution_count": 57,
   "metadata": {},
   "outputs": [
    {
     "data": {
      "text/plain": [
       "(1, 13)"
      ]
     },
     "execution_count": 57,
     "metadata": {},
     "output_type": "execute_result"
    }
   ],
   "source": [
    "clf.coef_.shape"
   ]
  },
  {
   "cell_type": "code",
   "execution_count": 61,
   "metadata": {},
   "outputs": [
    {
     "data": {
      "text/plain": [
       "{'age': array([0.00332166]),\n",
       " 'sex': array([-0.87334463]),\n",
       " 'cp': array([0.66469539]),\n",
       " 'trestbps': array([-0.01157796]),\n",
       " 'chol': array([-0.00167608]),\n",
       " 'fbs': array([0.04524786]),\n",
       " 'restecg': array([0.31835092]),\n",
       " 'thalach': array([0.02463627]),\n",
       " 'exang': array([-0.61200646]),\n",
       " 'oldpeak': array([-0.57062015]),\n",
       " 'slope': array([0.45628271]),\n",
       " 'ca': array([-0.64028265]),\n",
       " 'thal': array([-0.68255683])}"
      ]
     },
     "execution_count": 61,
     "metadata": {},
     "output_type": "execute_result"
    }
   ],
   "source": [
    "features_dict = dict(zip(df.columns.drop(\"target\"), np.transpose(clf.coef_)))\n",
    "features_dict"
   ]
  },
  {
   "cell_type": "code",
   "execution_count": 68,
   "metadata": {},
   "outputs": [
    {
     "data": {
      "text/plain": [
       "<AxesSubplot:>"
      ]
     },
     "execution_count": 68,
     "metadata": {},
     "output_type": "execute_result"
    },
    {
     "data": {
      "image/png": "[encoded data removed]",
      "text/plain": [
       "<Figure size 864x432 with 1 Axes>"
      ]
     },
     "metadata": {},
     "output_type": "display_data"
    }
   ],
   "source": [
    "features_df = pd.DataFrame(features_dict, index=[\"Weights\"])\n",
    "features_df.T.plot(kind=\"bar\", figsize=(12,6))"
   ]
  }
 ],
 "metadata": {
  "kernelspec": {
   "display_name": "Python 3",
   "language": "python",
   "name": "python3"
  },
  "language_info": {
   "codemirror_mode": {
    "name": "ipython",
    "version": 3
   },
   "file_extension": ".py",
   "mimetype": "text/x-python",
   "name": "python",
   "nbconvert_exporter": "python",
   "pygments_lexer": "ipython3",
   "version": "3.6.9"
  }
 },
 "nbformat": 4,
 "nbformat_minor": 4
}
