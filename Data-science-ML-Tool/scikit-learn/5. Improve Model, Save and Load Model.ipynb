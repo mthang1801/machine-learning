{
 "cells": [
  {
   "cell_type": "markdown",
   "metadata": {},
   "source": [
    "# 5. Improve Model"
   ]
  },
  {
   "cell_type": "markdown",
   "metadata": {},
   "source": [
    "First predictions = baseline predictions.\\\n",
    "First model = baseline model.\n",
    "\n",
    "From a data perspective: \n",
    "* Could we collect more data? (Generally, the more data, the better model)\n",
    "* Could we improve our data? \n",
    "\n",
    "From a model perspective: \n",
    "* Is there a better model we can use ?\n",
    "* Could we improve the current model? \n",
    "\n",
    "Hyperparameters vs Parameters: \n",
    "* Parameters = model find these patterns in data \n",
    "* Hyperparameters = setting on a model you can adjust to (potentially) improve its ability to find patterns\n",
    "\n",
    "Three ways to adjust hyperparameters:\n",
    "1. By hand\n",
    "2. Randomly via RandomSearchCV\n",
    "3. Exhaustively via GridSearchCV"
   ]
  },
  {
   "cell_type": "code",
   "execution_count": 1,
   "metadata": {},
   "outputs": [],
   "source": [
    "import numpy as np\n",
    "import pandas as pd "
   ]
  },
  {
   "cell_type": "code",
   "execution_count": 2,
   "metadata": {},
   "outputs": [],
   "source": [
    "from sklearn.ensemble import RandomForestClassifier\n",
    "\n",
    "clf = RandomForestClassifier()"
   ]
  },
  {
   "cell_type": "code",
   "execution_count": 3,
   "metadata": {},
   "outputs": [
    {
     "data": {
      "text/plain": [
       "{'bootstrap': True,\n",
       " 'ccp_alpha': 0.0,\n",
       " 'class_weight': None,\n",
       " 'criterion': 'gini',\n",
       " 'max_depth': None,\n",
       " 'max_features': 'auto',\n",
       " 'max_leaf_nodes': None,\n",
       " 'max_samples': None,\n",
       " 'min_impurity_decrease': 0.0,\n",
       " 'min_impurity_split': None,\n",
       " 'min_samples_leaf': 1,\n",
       " 'min_samples_split': 2,\n",
       " 'min_weight_fraction_leaf': 0.0,\n",
       " 'n_estimators': 100,\n",
       " 'n_jobs': None,\n",
       " 'oob_score': False,\n",
       " 'random_state': None,\n",
       " 'verbose': 0,\n",
       " 'warm_start': False}"
      ]
     },
     "execution_count": 3,
     "metadata": {},
     "output_type": "execute_result"
    }
   ],
   "source": [
    "clf.get_params()"
   ]
  },
  {
   "cell_type": "markdown",
   "metadata": {},
   "source": [
    "## 5.1 Tuning hyperparameter by hand"
   ]
  },
  {
   "cell_type": "markdown",
   "metadata": {},
   "source": [
    "We are going to try and adjust : \n",
    "* `max_depth`\n",
    "* `max_features`\n",
    "* `min_samples_leaf`\n",
    "* `min_samples_split`\n",
    "* `n_estimators`"
   ]
  },
  {
   "cell_type": "code",
   "execution_count": 4,
   "metadata": {},
   "outputs": [],
   "source": [
    "from sklearn.metrics import accuracy_score, precision_score, recall_score, f1_score"
   ]
  },
  {
   "cell_type": "code",
   "execution_count": 5,
   "metadata": {},
   "outputs": [],
   "source": [
    "def evaluate_def(y_true, y_preds) :\n",
    "    \"\"\"\n",
    "    Performs evaluation comparison on y_true labels and y_preds labels\n",
    "    \"\"\"\n",
    "    accuracy = accuracy_score(y_true, y_preds)\n",
    "    precision = precision_score(y_true, y_preds)\n",
    "    recall = recall_score(y_true, y_preds)\n",
    "    f1 = f1_score(y_true, y_preds)\n",
    "    metrics_dict = {\n",
    "        \"accuracy\" : round(accuracy,2),\n",
    "        \"precision\" : round(precision,2),\n",
    "        \"recall\" : round(recall,2),\n",
    "        \"f1\" : round(f1,2)\n",
    "    }\n",
    "    for k,v in metrics_dict.items() : \n",
    "        print(f\"{k} : {v}\")\n",
    "    return metrics_dict"
   ]
  },
  {
   "cell_type": "code",
   "execution_count": 6,
   "metadata": {},
   "outputs": [
    {
     "name": "stdout",
     "output_type": "stream",
     "text": [
      "accuracy : 0.8\n",
      "precision : 0.77\n",
      "recall : 0.92\n",
      "f1 : 0.84\n"
     ]
    },
    {
     "data": {
      "text/plain": [
       "{'accuracy': 0.8, 'precision': 0.77, 'recall': 0.92, 'f1': 0.84}"
      ]
     },
     "execution_count": 6,
     "metadata": {},
     "output_type": "execute_result"
    }
   ],
   "source": [
    "from sklearn.ensemble import RandomForestClassifier\n",
    "from sklearn.model_selection import train_test_split\n",
    "\n",
    "np.random.seed(42)\n",
    "\n",
    "heart_disease = pd.read_csv(\"../../data/heart-disease.csv\")\n",
    "\n",
    "# shuffled data\n",
    "heart_disease_shuffled = heart_disease.sample(frac=1)\n",
    "\n",
    "# Split into x, y\n",
    "x = heart_disease_shuffled.drop(\"target\", axis=1)\n",
    "y = heart_disease_shuffled[\"target\"]\n",
    "\n",
    "# Split into trainning, validation and test set with propotion 0.7,0.15,0.15\n",
    "n_samples = heart_disease_shuffled.shape[0]\n",
    "num_trainning_sample = int(0.7 * n_samples)\n",
    "num_validation_sample = int(0.15 * n_samples)\n",
    "\n",
    "x_train, y_train = x[:num_trainning_sample] , y[:num_trainning_sample]\n",
    "x_valid, y_valid = x[num_trainning_sample:num_trainning_sample+num_validation_sample] , y[num_trainning_sample:num_trainning_sample+num_validation_sample]\n",
    "x_test, y_test = x[num_trainning_sample+num_validation_sample:], y[num_trainning_sample+num_validation_sample:]\n",
    "\n",
    "# Instantiate model with n_estimators=10\n",
    "clf = RandomForestClassifier(n_estimators=10).fit(x_train, y_train)\n",
    "\n",
    "# Make baseline predictions\n",
    "y_preds = clf.predict(x_valid)\n",
    "\n",
    "# Evaluate the classifier on validation set\n",
    "baseline_metrics = evaluate_def(y_valid, y_preds)\n",
    "\n",
    "baseline_metrics"
   ]
  },
  {
   "cell_type": "code",
   "execution_count": 7,
   "metadata": {},
   "outputs": [
    {
     "name": "stdout",
     "output_type": "stream",
     "text": [
      "accuracy : 0.82\n",
      "precision : 0.84\n",
      "recall : 0.84\n",
      "f1 : 0.84\n"
     ]
    },
    {
     "data": {
      "text/plain": [
       "{'accuracy': 0.82, 'precision': 0.84, 'recall': 0.84, 'f1': 0.84}"
      ]
     },
     "execution_count": 7,
     "metadata": {},
     "output_type": "execute_result"
    }
   ],
   "source": [
    "np.random.seed(42)\n",
    "# Instantiate model with n_estimators=100\n",
    "clf_2 = RandomForestClassifier(n_estimators=100).fit(x_train, y_train)\n",
    "# Make baseline predictions\n",
    "y_preds = clf_2.predict(x_valid)\n",
    "# Evaluate the classifier on validation set\n",
    "clf2_metrics = evaluate_def(y_valid, y_preds)\n",
    "\n",
    "clf2_metrics"
   ]
  },
  {
   "cell_type": "code",
   "execution_count": 8,
   "metadata": {},
   "outputs": [
    {
     "name": "stdout",
     "output_type": "stream",
     "text": [
      "accuracy : 0.8\n",
      "precision : 0.81\n",
      "recall : 0.84\n",
      "f1 : 0.82\n"
     ]
    },
    {
     "data": {
      "text/plain": [
       "{'accuracy': 0.8, 'precision': 0.81, 'recall': 0.84, 'f1': 0.82}"
      ]
     },
     "execution_count": 8,
     "metadata": {},
     "output_type": "execute_result"
    }
   ],
   "source": [
    "np.random.seed(42)\n",
    "# Instantiate model with n_estimators=100 , max_depth=10\n",
    "clf_3 = RandomForestClassifier(n_estimators=100, max_depth=10).fit(x_train, y_train)\n",
    "\n",
    "# Make baseline predictions\n",
    "y_preds = clf_3.predict(x_valid)\n",
    "# Evaluate the classifier on validation set\n",
    "baseline_metrics = evaluate_def(y_valid, y_preds)\n",
    "\n",
    "baseline_metrics"
   ]
  },
  {
   "cell_type": "markdown",
   "metadata": {},
   "source": [
    "## 5.2 Tuning hyperparameter with RandomizedSearchCV"
   ]
  },
  {
   "cell_type": "code",
   "execution_count": 9,
   "metadata": {},
   "outputs": [],
   "source": [
    "from sklearn.model_selection import RandomizedSearchCV\n",
    "\n",
    "grid = {\n",
    "        \"n_estimators\" : [10, 50, 100, 200, 500, 1000],\n",
    "        \"max_depth\" :  [None, 10, 20, 30],\n",
    "        \"max_features\" : [\"auto\", \"sqrt\", \"log2\"], \n",
    "        \"min_samples_leaf\":  [1,2,4],\n",
    "        \"min_samples_split\" : [2,4,6],        \n",
    "       }\n",
    "\n",
    "np.random.seed(42)\n",
    "\n",
    "# Split data into x,y\n",
    "x = heart_disease_shuffled.drop(\"target\", axis=1)\n",
    "y = heart_disease_shuffled[\"target\"]\n",
    "\n",
    "# Split into trainning and testing set\n",
    "x_train, x_test, y_train, y_test = train_test_split(x,y,train_size=0.8)\n",
    "\n",
    "# Instantiate model\n",
    "clf = RandomForestClassifier(n_jobs=1)\n",
    "\n",
    "# Setup RandomizedSearchCV\n",
    "rs_clf = RandomizedSearchCV(estimator=clf,\n",
    "                            param_distributions=grid,\n",
    "                            n_iter=10, # number of models try\n",
    "                            verbose=2,\n",
    "                            cv=5,                            \n",
    "                           )"
   ]
  },
  {
   "cell_type": "code",
   "execution_count": 10,
   "metadata": {},
   "outputs": [
    {
     "name": "stdout",
     "output_type": "stream",
     "text": [
      "Fitting 5 folds for each of 10 candidates, totalling 50 fits\n",
      "[CV] n_estimators=100, min_samples_split=4, min_samples_leaf=1, max_features=sqrt, max_depth=10 \n",
      "[CV]  n_estimators=100, min_samples_split=4, min_samples_leaf=1, max_features=sqrt, max_depth=10, total=   0.2s\n",
      "[CV] n_estimators=100, min_samples_split=4, min_samples_leaf=1, max_features=sqrt, max_depth=10 \n"
     ]
    },
    {
     "name": "stderr",
     "output_type": "stream",
     "text": [
      "[Parallel(n_jobs=1)]: Using backend SequentialBackend with 1 concurrent workers.\n",
      "[Parallel(n_jobs=1)]: Done   1 out of   1 | elapsed:    0.2s remaining:    0.0s\n"
     ]
    },
    {
     "name": "stdout",
     "output_type": "stream",
     "text": [
      "[CV]  n_estimators=100, min_samples_split=4, min_samples_leaf=1, max_features=sqrt, max_depth=10, total=   0.2s\n",
      "[CV] n_estimators=100, min_samples_split=4, min_samples_leaf=1, max_features=sqrt, max_depth=10 \n",
      "[CV]  n_estimators=100, min_samples_split=4, min_samples_leaf=1, max_features=sqrt, max_depth=10, total=   0.2s\n",
      "[CV] n_estimators=100, min_samples_split=4, min_samples_leaf=1, max_features=sqrt, max_depth=10 \n",
      "[CV]  n_estimators=100, min_samples_split=4, min_samples_leaf=1, max_features=sqrt, max_depth=10, total=   0.2s\n",
      "[CV] n_estimators=100, min_samples_split=4, min_samples_leaf=1, max_features=sqrt, max_depth=10 \n",
      "[CV]  n_estimators=100, min_samples_split=4, min_samples_leaf=1, max_features=sqrt, max_depth=10, total=   0.2s\n",
      "[CV] n_estimators=200, min_samples_split=6, min_samples_leaf=2, max_features=auto, max_depth=30 \n",
      "[CV]  n_estimators=200, min_samples_split=6, min_samples_leaf=2, max_features=auto, max_depth=30, total=   0.4s\n",
      "[CV] n_estimators=200, min_samples_split=6, min_samples_leaf=2, max_features=auto, max_depth=30 \n",
      "[CV]  n_estimators=200, min_samples_split=6, min_samples_leaf=2, max_features=auto, max_depth=30, total=   0.5s\n",
      "[CV] n_estimators=200, min_samples_split=6, min_samples_leaf=2, max_features=auto, max_depth=30 \n",
      "[CV]  n_estimators=200, min_samples_split=6, min_samples_leaf=2, max_features=auto, max_depth=30, total=   0.4s\n",
      "[CV] n_estimators=200, min_samples_split=6, min_samples_leaf=2, max_features=auto, max_depth=30 \n",
      "[CV]  n_estimators=200, min_samples_split=6, min_samples_leaf=2, max_features=auto, max_depth=30, total=   0.5s\n",
      "[CV] n_estimators=200, min_samples_split=6, min_samples_leaf=2, max_features=auto, max_depth=30 \n",
      "[CV]  n_estimators=200, min_samples_split=6, min_samples_leaf=2, max_features=auto, max_depth=30, total=   0.6s\n",
      "[CV] n_estimators=10, min_samples_split=6, min_samples_leaf=4, max_features=auto, max_depth=10 \n",
      "[CV]  n_estimators=10, min_samples_split=6, min_samples_leaf=4, max_features=auto, max_depth=10, total=   0.0s\n",
      "[CV] n_estimators=10, min_samples_split=6, min_samples_leaf=4, max_features=auto, max_depth=10 \n",
      "[CV]  n_estimators=10, min_samples_split=6, min_samples_leaf=4, max_features=auto, max_depth=10, total=   0.0s\n",
      "[CV] n_estimators=10, min_samples_split=6, min_samples_leaf=4, max_features=auto, max_depth=10 \n",
      "[CV]  n_estimators=10, min_samples_split=6, min_samples_leaf=4, max_features=auto, max_depth=10, total=   0.0s\n",
      "[CV] n_estimators=10, min_samples_split=6, min_samples_leaf=4, max_features=auto, max_depth=10 \n",
      "[CV]  n_estimators=10, min_samples_split=6, min_samples_leaf=4, max_features=auto, max_depth=10, total=   0.0s\n",
      "[CV] n_estimators=10, min_samples_split=6, min_samples_leaf=4, max_features=auto, max_depth=10 \n",
      "[CV]  n_estimators=10, min_samples_split=6, min_samples_leaf=4, max_features=auto, max_depth=10, total=   0.0s\n",
      "[CV] n_estimators=1000, min_samples_split=6, min_samples_leaf=1, max_features=log2, max_depth=30 \n",
      "[CV]  n_estimators=1000, min_samples_split=6, min_samples_leaf=1, max_features=log2, max_depth=30, total=   1.9s\n",
      "[CV] n_estimators=1000, min_samples_split=6, min_samples_leaf=1, max_features=log2, max_depth=30 \n",
      "[CV]  n_estimators=1000, min_samples_split=6, min_samples_leaf=1, max_features=log2, max_depth=30, total=   1.6s\n",
      "[CV] n_estimators=1000, min_samples_split=6, min_samples_leaf=1, max_features=log2, max_depth=30 \n",
      "[CV]  n_estimators=1000, min_samples_split=6, min_samples_leaf=1, max_features=log2, max_depth=30, total=   1.6s\n",
      "[CV] n_estimators=1000, min_samples_split=6, min_samples_leaf=1, max_features=log2, max_depth=30 \n",
      "[CV]  n_estimators=1000, min_samples_split=6, min_samples_leaf=1, max_features=log2, max_depth=30, total=   1.6s\n",
      "[CV] n_estimators=1000, min_samples_split=6, min_samples_leaf=1, max_features=log2, max_depth=30 \n",
      "[CV]  n_estimators=1000, min_samples_split=6, min_samples_leaf=1, max_features=log2, max_depth=30, total=   1.6s\n",
      "[CV] n_estimators=1000, min_samples_split=6, min_samples_leaf=4, max_features=sqrt, max_depth=10 \n",
      "[CV]  n_estimators=1000, min_samples_split=6, min_samples_leaf=4, max_features=sqrt, max_depth=10, total=   1.8s\n",
      "[CV] n_estimators=1000, min_samples_split=6, min_samples_leaf=4, max_features=sqrt, max_depth=10 \n",
      "[CV]  n_estimators=1000, min_samples_split=6, min_samples_leaf=4, max_features=sqrt, max_depth=10, total=   2.3s\n",
      "[CV] n_estimators=1000, min_samples_split=6, min_samples_leaf=4, max_features=sqrt, max_depth=10 \n",
      "[CV]  n_estimators=1000, min_samples_split=6, min_samples_leaf=4, max_features=sqrt, max_depth=10, total=   2.7s\n",
      "[CV] n_estimators=1000, min_samples_split=6, min_samples_leaf=4, max_features=sqrt, max_depth=10 \n",
      "[CV]  n_estimators=1000, min_samples_split=6, min_samples_leaf=4, max_features=sqrt, max_depth=10, total=   2.8s\n",
      "[CV] n_estimators=1000, min_samples_split=6, min_samples_leaf=4, max_features=sqrt, max_depth=10 \n",
      "[CV]  n_estimators=1000, min_samples_split=6, min_samples_leaf=4, max_features=sqrt, max_depth=10, total=   2.4s\n",
      "[CV] n_estimators=10, min_samples_split=6, min_samples_leaf=4, max_features=auto, max_depth=30 \n",
      "[CV]  n_estimators=10, min_samples_split=6, min_samples_leaf=4, max_features=auto, max_depth=30, total=   0.0s\n",
      "[CV] n_estimators=10, min_samples_split=6, min_samples_leaf=4, max_features=auto, max_depth=30 \n",
      "[CV]  n_estimators=10, min_samples_split=6, min_samples_leaf=4, max_features=auto, max_depth=30, total=   0.0s\n",
      "[CV] n_estimators=10, min_samples_split=6, min_samples_leaf=4, max_features=auto, max_depth=30 \n",
      "[CV]  n_estimators=10, min_samples_split=6, min_samples_leaf=4, max_features=auto, max_depth=30, total=   0.0s\n",
      "[CV] n_estimators=10, min_samples_split=6, min_samples_leaf=4, max_features=auto, max_depth=30 \n",
      "[CV]  n_estimators=10, min_samples_split=6, min_samples_leaf=4, max_features=auto, max_depth=30, total=   0.0s\n",
      "[CV] n_estimators=10, min_samples_split=6, min_samples_leaf=4, max_features=auto, max_depth=30 \n",
      "[CV]  n_estimators=10, min_samples_split=6, min_samples_leaf=4, max_features=auto, max_depth=30, total=   0.0s\n",
      "[CV] n_estimators=500, min_samples_split=6, min_samples_leaf=4, max_features=auto, max_depth=20 \n",
      "[CV]  n_estimators=500, min_samples_split=6, min_samples_leaf=4, max_features=auto, max_depth=20, total=   0.9s\n",
      "[CV] n_estimators=500, min_samples_split=6, min_samples_leaf=4, max_features=auto, max_depth=20 \n",
      "[CV]  n_estimators=500, min_samples_split=6, min_samples_leaf=4, max_features=auto, max_depth=20, total=   1.0s\n",
      "[CV] n_estimators=500, min_samples_split=6, min_samples_leaf=4, max_features=auto, max_depth=20 \n",
      "[CV]  n_estimators=500, min_samples_split=6, min_samples_leaf=4, max_features=auto, max_depth=20, total=   1.3s\n",
      "[CV] n_estimators=500, min_samples_split=6, min_samples_leaf=4, max_features=auto, max_depth=20 \n",
      "[CV]  n_estimators=500, min_samples_split=6, min_samples_leaf=4, max_features=auto, max_depth=20, total=   1.0s\n",
      "[CV] n_estimators=500, min_samples_split=6, min_samples_leaf=4, max_features=auto, max_depth=20 \n",
      "[CV]  n_estimators=500, min_samples_split=6, min_samples_leaf=4, max_features=auto, max_depth=20, total=   1.0s\n",
      "[CV] n_estimators=50, min_samples_split=2, min_samples_leaf=4, max_features=auto, max_depth=10 \n",
      "[CV]  n_estimators=50, min_samples_split=2, min_samples_leaf=4, max_features=auto, max_depth=10, total=   0.1s\n",
      "[CV] n_estimators=50, min_samples_split=2, min_samples_leaf=4, max_features=auto, max_depth=10 \n",
      "[CV]  n_estimators=50, min_samples_split=2, min_samples_leaf=4, max_features=auto, max_depth=10, total=   0.1s\n",
      "[CV] n_estimators=50, min_samples_split=2, min_samples_leaf=4, max_features=auto, max_depth=10 \n",
      "[CV]  n_estimators=50, min_samples_split=2, min_samples_leaf=4, max_features=auto, max_depth=10, total=   0.1s\n",
      "[CV] n_estimators=50, min_samples_split=2, min_samples_leaf=4, max_features=auto, max_depth=10 \n",
      "[CV]  n_estimators=50, min_samples_split=2, min_samples_leaf=4, max_features=auto, max_depth=10, total=   0.1s\n",
      "[CV] n_estimators=50, min_samples_split=2, min_samples_leaf=4, max_features=auto, max_depth=10 \n",
      "[CV]  n_estimators=50, min_samples_split=2, min_samples_leaf=4, max_features=auto, max_depth=10, total=   0.1s\n",
      "[CV] n_estimators=1000, min_samples_split=6, min_samples_leaf=4, max_features=auto, max_depth=10 \n",
      "[CV]  n_estimators=1000, min_samples_split=6, min_samples_leaf=4, max_features=auto, max_depth=10, total=   1.6s\n",
      "[CV] n_estimators=1000, min_samples_split=6, min_samples_leaf=4, max_features=auto, max_depth=10 \n"
     ]
    },
    {
     "name": "stdout",
     "output_type": "stream",
     "text": [
      "[CV]  n_estimators=1000, min_samples_split=6, min_samples_leaf=4, max_features=auto, max_depth=10, total=   3.1s\n",
      "[CV] n_estimators=1000, min_samples_split=6, min_samples_leaf=4, max_features=auto, max_depth=10 \n",
      "[CV]  n_estimators=1000, min_samples_split=6, min_samples_leaf=4, max_features=auto, max_depth=10, total=   2.8s\n",
      "[CV] n_estimators=1000, min_samples_split=6, min_samples_leaf=4, max_features=auto, max_depth=10 \n",
      "[CV]  n_estimators=1000, min_samples_split=6, min_samples_leaf=4, max_features=auto, max_depth=10, total=   2.5s\n",
      "[CV] n_estimators=1000, min_samples_split=6, min_samples_leaf=4, max_features=auto, max_depth=10 \n",
      "[CV]  n_estimators=1000, min_samples_split=6, min_samples_leaf=4, max_features=auto, max_depth=10, total=   2.6s\n",
      "[CV] n_estimators=10, min_samples_split=6, min_samples_leaf=4, max_features=sqrt, max_depth=30 \n",
      "[CV]  n_estimators=10, min_samples_split=6, min_samples_leaf=4, max_features=sqrt, max_depth=30, total=   0.0s\n",
      "[CV] n_estimators=10, min_samples_split=6, min_samples_leaf=4, max_features=sqrt, max_depth=30 \n",
      "[CV]  n_estimators=10, min_samples_split=6, min_samples_leaf=4, max_features=sqrt, max_depth=30, total=   0.0s\n",
      "[CV] n_estimators=10, min_samples_split=6, min_samples_leaf=4, max_features=sqrt, max_depth=30 \n",
      "[CV]  n_estimators=10, min_samples_split=6, min_samples_leaf=4, max_features=sqrt, max_depth=30, total=   0.0s\n",
      "[CV] n_estimators=10, min_samples_split=6, min_samples_leaf=4, max_features=sqrt, max_depth=30 \n",
      "[CV]  n_estimators=10, min_samples_split=6, min_samples_leaf=4, max_features=sqrt, max_depth=30, total=   0.0s\n",
      "[CV] n_estimators=10, min_samples_split=6, min_samples_leaf=4, max_features=sqrt, max_depth=30 \n",
      "[CV]  n_estimators=10, min_samples_split=6, min_samples_leaf=4, max_features=sqrt, max_depth=30, total=   0.0s\n"
     ]
    },
    {
     "name": "stderr",
     "output_type": "stream",
     "text": [
      "[Parallel(n_jobs=1)]: Done  50 out of  50 | elapsed:   42.6s finished\n"
     ]
    },
    {
     "data": {
      "text/plain": [
       "RandomizedSearchCV(cv=5, estimator=RandomForestClassifier(n_jobs=1),\n",
       "                   param_distributions={'max_depth': [None, 10, 20, 30],\n",
       "                                        'max_features': ['auto', 'sqrt',\n",
       "                                                         'log2'],\n",
       "                                        'min_samples_leaf': [1, 2, 4],\n",
       "                                        'min_samples_split': [2, 4, 6],\n",
       "                                        'n_estimators': [10, 50, 100, 200, 500,\n",
       "                                                         1000]},\n",
       "                   verbose=2)"
      ]
     },
     "execution_count": 10,
     "metadata": {},
     "output_type": "execute_result"
    }
   ],
   "source": [
    "rs_clf.fit(x_train,y_train) # RandomizedSearchCV will automatically split x_train into x_valid."
   ]
  },
  {
   "cell_type": "code",
   "execution_count": 11,
   "metadata": {},
   "outputs": [
    {
     "data": {
      "text/plain": [
       "{'n_estimators': 50,\n",
       " 'min_samples_split': 2,\n",
       " 'min_samples_leaf': 4,\n",
       " 'max_features': 'auto',\n",
       " 'max_depth': 10}"
      ]
     },
     "execution_count": 11,
     "metadata": {},
     "output_type": "execute_result"
    }
   ],
   "source": [
    "# show best hyperparameter\n",
    "rs_clf.best_params_"
   ]
  },
  {
   "cell_type": "code",
   "execution_count": 12,
   "metadata": {},
   "outputs": [
    {
     "name": "stdout",
     "output_type": "stream",
     "text": [
      "accuracy : 0.84\n",
      "precision : 0.78\n",
      "recall : 0.89\n",
      "f1 : 0.83\n"
     ]
    }
   ],
   "source": [
    "# Making predictions with best parameters\n",
    "y_preds = rs_clf.predict(x_test)\n",
    "\n",
    "# Evaluate the predictions\n",
    "rs_metrics = evaluate_def(y_test, y_preds)"
   ]
  },
  {
   "cell_type": "markdown",
   "metadata": {},
   "source": [
    "## 5.3 Tuning hyparameter with GridSearchCV"
   ]
  },
  {
   "cell_type": "code",
   "execution_count": 13,
   "metadata": {},
   "outputs": [],
   "source": [
    "from sklearn.model_selection import GridSearchCV\n",
    "\n",
    "grid_2 = {\n",
    "    'n_estimators': [50,100,200,500],\n",
    "    'min_samples_split': [2,4],\n",
    "    'min_samples_leaf': [2,4],\n",
    "    'max_features': ['auto'],\n",
    "    'max_depth': [None,10]\n",
    "}\n",
    "\n",
    "# split data into x,y\n",
    "x = heart_disease_shuffled.drop(\"target\",axis=1)\n",
    "y = heart_disease_shuffled[\"target\"]\n",
    "\n",
    "# split x , y into trainning and test set\n",
    "x_train, x_test, y_train, y_test = train_test_split(x,y,train_size=0.8)\n",
    "\n",
    "# Instantiate model\n",
    "clf = RandomForestClassifier(n_jobs=1)\n",
    "\n",
    "# Setup Hyperparameter with GridSearchCV\n",
    "gs_clf = GridSearchCV(estimator=clf,\n",
    "                      param_grid=grid_2,\n",
    "                      cv=5,\n",
    "                      verbose=2\n",
    "                     )"
   ]
  },
  {
   "cell_type": "code",
   "execution_count": 14,
   "metadata": {
    "scrolled": false
   },
   "outputs": [
    {
     "name": "stdout",
     "output_type": "stream",
     "text": [
      "Fitting 5 folds for each of 32 candidates, totalling 160 fits\n",
      "[CV] max_depth=None, max_features=auto, min_samples_leaf=2, min_samples_split=2, n_estimators=50 \n",
      "[CV]  max_depth=None, max_features=auto, min_samples_leaf=2, min_samples_split=2, n_estimators=50, total=   0.1s\n",
      "[CV] max_depth=None, max_features=auto, min_samples_leaf=2, min_samples_split=2, n_estimators=50 \n"
     ]
    },
    {
     "name": "stderr",
     "output_type": "stream",
     "text": [
      "[Parallel(n_jobs=1)]: Using backend SequentialBackend with 1 concurrent workers.\n",
      "[Parallel(n_jobs=1)]: Done   1 out of   1 | elapsed:    0.1s remaining:    0.0s\n"
     ]
    },
    {
     "name": "stdout",
     "output_type": "stream",
     "text": [
      "[CV]  max_depth=None, max_features=auto, min_samples_leaf=2, min_samples_split=2, n_estimators=50, total=   0.2s\n",
      "[CV] max_depth=None, max_features=auto, min_samples_leaf=2, min_samples_split=2, n_estimators=50 \n",
      "[CV]  max_depth=None, max_features=auto, min_samples_leaf=2, min_samples_split=2, n_estimators=50, total=   0.1s\n",
      "[CV] max_depth=None, max_features=auto, min_samples_leaf=2, min_samples_split=2, n_estimators=50 \n",
      "[CV]  max_depth=None, max_features=auto, min_samples_leaf=2, min_samples_split=2, n_estimators=50, total=   0.1s\n",
      "[CV] max_depth=None, max_features=auto, min_samples_leaf=2, min_samples_split=2, n_estimators=50 \n",
      "[CV]  max_depth=None, max_features=auto, min_samples_leaf=2, min_samples_split=2, n_estimators=50, total=   0.1s\n",
      "[CV] max_depth=None, max_features=auto, min_samples_leaf=2, min_samples_split=2, n_estimators=100 \n",
      "[CV]  max_depth=None, max_features=auto, min_samples_leaf=2, min_samples_split=2, n_estimators=100, total=   0.2s\n",
      "[CV] max_depth=None, max_features=auto, min_samples_leaf=2, min_samples_split=2, n_estimators=100 \n",
      "[CV]  max_depth=None, max_features=auto, min_samples_leaf=2, min_samples_split=2, n_estimators=100, total=   0.2s\n",
      "[CV] max_depth=None, max_features=auto, min_samples_leaf=2, min_samples_split=2, n_estimators=100 \n",
      "[CV]  max_depth=None, max_features=auto, min_samples_leaf=2, min_samples_split=2, n_estimators=100, total=   0.3s\n",
      "[CV] max_depth=None, max_features=auto, min_samples_leaf=2, min_samples_split=2, n_estimators=100 \n",
      "[CV]  max_depth=None, max_features=auto, min_samples_leaf=2, min_samples_split=2, n_estimators=100, total=   0.3s\n",
      "[CV] max_depth=None, max_features=auto, min_samples_leaf=2, min_samples_split=2, n_estimators=100 \n",
      "[CV]  max_depth=None, max_features=auto, min_samples_leaf=2, min_samples_split=2, n_estimators=100, total=   0.3s\n",
      "[CV] max_depth=None, max_features=auto, min_samples_leaf=2, min_samples_split=2, n_estimators=200 \n",
      "[CV]  max_depth=None, max_features=auto, min_samples_leaf=2, min_samples_split=2, n_estimators=200, total=   0.5s\n",
      "[CV] max_depth=None, max_features=auto, min_samples_leaf=2, min_samples_split=2, n_estimators=200 \n",
      "[CV]  max_depth=None, max_features=auto, min_samples_leaf=2, min_samples_split=2, n_estimators=200, total=   0.5s\n",
      "[CV] max_depth=None, max_features=auto, min_samples_leaf=2, min_samples_split=2, n_estimators=200 \n",
      "[CV]  max_depth=None, max_features=auto, min_samples_leaf=2, min_samples_split=2, n_estimators=200, total=   0.5s\n",
      "[CV] max_depth=None, max_features=auto, min_samples_leaf=2, min_samples_split=2, n_estimators=200 \n",
      "[CV]  max_depth=None, max_features=auto, min_samples_leaf=2, min_samples_split=2, n_estimators=200, total=   0.5s\n",
      "[CV] max_depth=None, max_features=auto, min_samples_leaf=2, min_samples_split=2, n_estimators=200 \n",
      "[CV]  max_depth=None, max_features=auto, min_samples_leaf=2, min_samples_split=2, n_estimators=200, total=   0.6s\n",
      "[CV] max_depth=None, max_features=auto, min_samples_leaf=2, min_samples_split=2, n_estimators=500 \n",
      "[CV]  max_depth=None, max_features=auto, min_samples_leaf=2, min_samples_split=2, n_estimators=500, total=   1.4s\n",
      "[CV] max_depth=None, max_features=auto, min_samples_leaf=2, min_samples_split=2, n_estimators=500 \n",
      "[CV]  max_depth=None, max_features=auto, min_samples_leaf=2, min_samples_split=2, n_estimators=500, total=   1.6s\n",
      "[CV] max_depth=None, max_features=auto, min_samples_leaf=2, min_samples_split=2, n_estimators=500 \n",
      "[CV]  max_depth=None, max_features=auto, min_samples_leaf=2, min_samples_split=2, n_estimators=500, total=   1.7s\n",
      "[CV] max_depth=None, max_features=auto, min_samples_leaf=2, min_samples_split=2, n_estimators=500 \n",
      "[CV]  max_depth=None, max_features=auto, min_samples_leaf=2, min_samples_split=2, n_estimators=500, total=   1.6s\n",
      "[CV] max_depth=None, max_features=auto, min_samples_leaf=2, min_samples_split=2, n_estimators=500 \n",
      "[CV]  max_depth=None, max_features=auto, min_samples_leaf=2, min_samples_split=2, n_estimators=500, total=   1.4s\n",
      "[CV] max_depth=None, max_features=auto, min_samples_leaf=2, min_samples_split=4, n_estimators=50 \n",
      "[CV]  max_depth=None, max_features=auto, min_samples_leaf=2, min_samples_split=4, n_estimators=50, total=   0.1s\n",
      "[CV] max_depth=None, max_features=auto, min_samples_leaf=2, min_samples_split=4, n_estimators=50 \n",
      "[CV]  max_depth=None, max_features=auto, min_samples_leaf=2, min_samples_split=4, n_estimators=50, total=   0.2s\n",
      "[CV] max_depth=None, max_features=auto, min_samples_leaf=2, min_samples_split=4, n_estimators=50 \n",
      "[CV]  max_depth=None, max_features=auto, min_samples_leaf=2, min_samples_split=4, n_estimators=50, total=   0.3s\n",
      "[CV] max_depth=None, max_features=auto, min_samples_leaf=2, min_samples_split=4, n_estimators=50 \n",
      "[CV]  max_depth=None, max_features=auto, min_samples_leaf=2, min_samples_split=4, n_estimators=50, total=   0.2s\n",
      "[CV] max_depth=None, max_features=auto, min_samples_leaf=2, min_samples_split=4, n_estimators=50 \n",
      "[CV]  max_depth=None, max_features=auto, min_samples_leaf=2, min_samples_split=4, n_estimators=50, total=   0.2s\n",
      "[CV] max_depth=None, max_features=auto, min_samples_leaf=2, min_samples_split=4, n_estimators=100 \n",
      "[CV]  max_depth=None, max_features=auto, min_samples_leaf=2, min_samples_split=4, n_estimators=100, total=   0.3s\n",
      "[CV] max_depth=None, max_features=auto, min_samples_leaf=2, min_samples_split=4, n_estimators=100 \n",
      "[CV]  max_depth=None, max_features=auto, min_samples_leaf=2, min_samples_split=4, n_estimators=100, total=   0.3s\n",
      "[CV] max_depth=None, max_features=auto, min_samples_leaf=2, min_samples_split=4, n_estimators=100 \n",
      "[CV]  max_depth=None, max_features=auto, min_samples_leaf=2, min_samples_split=4, n_estimators=100, total=   0.3s\n",
      "[CV] max_depth=None, max_features=auto, min_samples_leaf=2, min_samples_split=4, n_estimators=100 \n",
      "[CV]  max_depth=None, max_features=auto, min_samples_leaf=2, min_samples_split=4, n_estimators=100, total=   0.5s\n",
      "[CV] max_depth=None, max_features=auto, min_samples_leaf=2, min_samples_split=4, n_estimators=100 \n",
      "[CV]  max_depth=None, max_features=auto, min_samples_leaf=2, min_samples_split=4, n_estimators=100, total=   0.3s\n",
      "[CV] max_depth=None, max_features=auto, min_samples_leaf=2, min_samples_split=4, n_estimators=200 \n",
      "[CV]  max_depth=None, max_features=auto, min_samples_leaf=2, min_samples_split=4, n_estimators=200, total=   0.6s\n",
      "[CV] max_depth=None, max_features=auto, min_samples_leaf=2, min_samples_split=4, n_estimators=200 \n",
      "[CV]  max_depth=None, max_features=auto, min_samples_leaf=2, min_samples_split=4, n_estimators=200, total=   0.6s\n",
      "[CV] max_depth=None, max_features=auto, min_samples_leaf=2, min_samples_split=4, n_estimators=200 \n",
      "[CV]  max_depth=None, max_features=auto, min_samples_leaf=2, min_samples_split=4, n_estimators=200, total=   0.6s\n",
      "[CV] max_depth=None, max_features=auto, min_samples_leaf=2, min_samples_split=4, n_estimators=200 \n",
      "[CV]  max_depth=None, max_features=auto, min_samples_leaf=2, min_samples_split=4, n_estimators=200, total=   0.7s\n",
      "[CV] max_depth=None, max_features=auto, min_samples_leaf=2, min_samples_split=4, n_estimators=200 \n",
      "[CV]  max_depth=None, max_features=auto, min_samples_leaf=2, min_samples_split=4, n_estimators=200, total=   0.5s\n",
      "[CV] max_depth=None, max_features=auto, min_samples_leaf=2, min_samples_split=4, n_estimators=500 \n",
      "[CV]  max_depth=None, max_features=auto, min_samples_leaf=2, min_samples_split=4, n_estimators=500, total=   1.3s\n",
      "[CV] max_depth=None, max_features=auto, min_samples_leaf=2, min_samples_split=4, n_estimators=500 \n",
      "[CV]  max_depth=None, max_features=auto, min_samples_leaf=2, min_samples_split=4, n_estimators=500, total=   1.9s\n",
      "[CV] max_depth=None, max_features=auto, min_samples_leaf=2, min_samples_split=4, n_estimators=500 \n",
      "[CV]  max_depth=None, max_features=auto, min_samples_leaf=2, min_samples_split=4, n_estimators=500, total=   2.2s\n",
      "[CV] max_depth=None, max_features=auto, min_samples_leaf=2, min_samples_split=4, n_estimators=500 \n",
      "[CV]  max_depth=None, max_features=auto, min_samples_leaf=2, min_samples_split=4, n_estimators=500, total=   2.6s\n",
      "[CV] max_depth=None, max_features=auto, min_samples_leaf=2, min_samples_split=4, n_estimators=500 \n",
      "[CV]  max_depth=None, max_features=auto, min_samples_leaf=2, min_samples_split=4, n_estimators=500, total=   1.8s\n",
      "[CV] max_depth=None, max_features=auto, min_samples_leaf=4, min_samples_split=2, n_estimators=50 \n"
     ]
    },
    {
     "name": "stdout",
     "output_type": "stream",
     "text": [
      "[CV]  max_depth=None, max_features=auto, min_samples_leaf=4, min_samples_split=2, n_estimators=50, total=   0.2s\n",
      "[CV] max_depth=None, max_features=auto, min_samples_leaf=4, min_samples_split=2, n_estimators=50 \n",
      "[CV]  max_depth=None, max_features=auto, min_samples_leaf=4, min_samples_split=2, n_estimators=50, total=   0.2s\n",
      "[CV] max_depth=None, max_features=auto, min_samples_leaf=4, min_samples_split=2, n_estimators=50 \n",
      "[CV]  max_depth=None, max_features=auto, min_samples_leaf=4, min_samples_split=2, n_estimators=50, total=   0.3s\n",
      "[CV] max_depth=None, max_features=auto, min_samples_leaf=4, min_samples_split=2, n_estimators=50 \n",
      "[CV]  max_depth=None, max_features=auto, min_samples_leaf=4, min_samples_split=2, n_estimators=50, total=   0.2s\n",
      "[CV] max_depth=None, max_features=auto, min_samples_leaf=4, min_samples_split=2, n_estimators=50 \n",
      "[CV]  max_depth=None, max_features=auto, min_samples_leaf=4, min_samples_split=2, n_estimators=50, total=   0.2s\n",
      "[CV] max_depth=None, max_features=auto, min_samples_leaf=4, min_samples_split=2, n_estimators=100 \n",
      "[CV]  max_depth=None, max_features=auto, min_samples_leaf=4, min_samples_split=2, n_estimators=100, total=   0.5s\n",
      "[CV] max_depth=None, max_features=auto, min_samples_leaf=4, min_samples_split=2, n_estimators=100 \n",
      "[CV]  max_depth=None, max_features=auto, min_samples_leaf=4, min_samples_split=2, n_estimators=100, total=   0.6s\n",
      "[CV] max_depth=None, max_features=auto, min_samples_leaf=4, min_samples_split=2, n_estimators=100 \n",
      "[CV]  max_depth=None, max_features=auto, min_samples_leaf=4, min_samples_split=2, n_estimators=100, total=   0.6s\n",
      "[CV] max_depth=None, max_features=auto, min_samples_leaf=4, min_samples_split=2, n_estimators=100 \n",
      "[CV]  max_depth=None, max_features=auto, min_samples_leaf=4, min_samples_split=2, n_estimators=100, total=   0.5s\n",
      "[CV] max_depth=None, max_features=auto, min_samples_leaf=4, min_samples_split=2, n_estimators=100 \n",
      "[CV]  max_depth=None, max_features=auto, min_samples_leaf=4, min_samples_split=2, n_estimators=100, total=   0.4s\n",
      "[CV] max_depth=None, max_features=auto, min_samples_leaf=4, min_samples_split=2, n_estimators=200 \n",
      "[CV]  max_depth=None, max_features=auto, min_samples_leaf=4, min_samples_split=2, n_estimators=200, total=   0.6s\n",
      "[CV] max_depth=None, max_features=auto, min_samples_leaf=4, min_samples_split=2, n_estimators=200 \n",
      "[CV]  max_depth=None, max_features=auto, min_samples_leaf=4, min_samples_split=2, n_estimators=200, total=   0.6s\n",
      "[CV] max_depth=None, max_features=auto, min_samples_leaf=4, min_samples_split=2, n_estimators=200 \n",
      "[CV]  max_depth=None, max_features=auto, min_samples_leaf=4, min_samples_split=2, n_estimators=200, total=   0.5s\n",
      "[CV] max_depth=None, max_features=auto, min_samples_leaf=4, min_samples_split=2, n_estimators=200 \n",
      "[CV]  max_depth=None, max_features=auto, min_samples_leaf=4, min_samples_split=2, n_estimators=200, total=   0.4s\n",
      "[CV] max_depth=None, max_features=auto, min_samples_leaf=4, min_samples_split=2, n_estimators=200 \n",
      "[CV]  max_depth=None, max_features=auto, min_samples_leaf=4, min_samples_split=2, n_estimators=200, total=   0.4s\n",
      "[CV] max_depth=None, max_features=auto, min_samples_leaf=4, min_samples_split=2, n_estimators=500 \n",
      "[CV]  max_depth=None, max_features=auto, min_samples_leaf=4, min_samples_split=2, n_estimators=500, total=   1.0s\n",
      "[CV] max_depth=None, max_features=auto, min_samples_leaf=4, min_samples_split=2, n_estimators=500 \n",
      "[CV]  max_depth=None, max_features=auto, min_samples_leaf=4, min_samples_split=2, n_estimators=500, total=   1.0s\n",
      "[CV] max_depth=None, max_features=auto, min_samples_leaf=4, min_samples_split=2, n_estimators=500 \n",
      "[CV]  max_depth=None, max_features=auto, min_samples_leaf=4, min_samples_split=2, n_estimators=500, total=   1.0s\n",
      "[CV] max_depth=None, max_features=auto, min_samples_leaf=4, min_samples_split=2, n_estimators=500 \n",
      "[CV]  max_depth=None, max_features=auto, min_samples_leaf=4, min_samples_split=2, n_estimators=500, total=   1.1s\n",
      "[CV] max_depth=None, max_features=auto, min_samples_leaf=4, min_samples_split=2, n_estimators=500 \n",
      "[CV]  max_depth=None, max_features=auto, min_samples_leaf=4, min_samples_split=2, n_estimators=500, total=   1.2s\n",
      "[CV] max_depth=None, max_features=auto, min_samples_leaf=4, min_samples_split=4, n_estimators=50 \n",
      "[CV]  max_depth=None, max_features=auto, min_samples_leaf=4, min_samples_split=4, n_estimators=50, total=   0.1s\n",
      "[CV] max_depth=None, max_features=auto, min_samples_leaf=4, min_samples_split=4, n_estimators=50 \n",
      "[CV]  max_depth=None, max_features=auto, min_samples_leaf=4, min_samples_split=4, n_estimators=50, total=   0.1s\n",
      "[CV] max_depth=None, max_features=auto, min_samples_leaf=4, min_samples_split=4, n_estimators=50 \n",
      "[CV]  max_depth=None, max_features=auto, min_samples_leaf=4, min_samples_split=4, n_estimators=50, total=   0.1s\n",
      "[CV] max_depth=None, max_features=auto, min_samples_leaf=4, min_samples_split=4, n_estimators=50 \n",
      "[CV]  max_depth=None, max_features=auto, min_samples_leaf=4, min_samples_split=4, n_estimators=50, total=   0.1s\n",
      "[CV] max_depth=None, max_features=auto, min_samples_leaf=4, min_samples_split=4, n_estimators=50 \n",
      "[CV]  max_depth=None, max_features=auto, min_samples_leaf=4, min_samples_split=4, n_estimators=50, total=   0.1s\n",
      "[CV] max_depth=None, max_features=auto, min_samples_leaf=4, min_samples_split=4, n_estimators=100 \n",
      "[CV]  max_depth=None, max_features=auto, min_samples_leaf=4, min_samples_split=4, n_estimators=100, total=   0.3s\n",
      "[CV] max_depth=None, max_features=auto, min_samples_leaf=4, min_samples_split=4, n_estimators=100 \n",
      "[CV]  max_depth=None, max_features=auto, min_samples_leaf=4, min_samples_split=4, n_estimators=100, total=   0.3s\n",
      "[CV] max_depth=None, max_features=auto, min_samples_leaf=4, min_samples_split=4, n_estimators=100 \n",
      "[CV]  max_depth=None, max_features=auto, min_samples_leaf=4, min_samples_split=4, n_estimators=100, total=   0.3s\n",
      "[CV] max_depth=None, max_features=auto, min_samples_leaf=4, min_samples_split=4, n_estimators=100 \n",
      "[CV]  max_depth=None, max_features=auto, min_samples_leaf=4, min_samples_split=4, n_estimators=100, total=   0.3s\n",
      "[CV] max_depth=None, max_features=auto, min_samples_leaf=4, min_samples_split=4, n_estimators=100 \n",
      "[CV]  max_depth=None, max_features=auto, min_samples_leaf=4, min_samples_split=4, n_estimators=100, total=   0.3s\n",
      "[CV] max_depth=None, max_features=auto, min_samples_leaf=4, min_samples_split=4, n_estimators=200 \n",
      "[CV]  max_depth=None, max_features=auto, min_samples_leaf=4, min_samples_split=4, n_estimators=200, total=   0.5s\n",
      "[CV] max_depth=None, max_features=auto, min_samples_leaf=4, min_samples_split=4, n_estimators=200 \n",
      "[CV]  max_depth=None, max_features=auto, min_samples_leaf=4, min_samples_split=4, n_estimators=200, total=   0.5s\n",
      "[CV] max_depth=None, max_features=auto, min_samples_leaf=4, min_samples_split=4, n_estimators=200 \n",
      "[CV]  max_depth=None, max_features=auto, min_samples_leaf=4, min_samples_split=4, n_estimators=200, total=   0.5s\n",
      "[CV] max_depth=None, max_features=auto, min_samples_leaf=4, min_samples_split=4, n_estimators=200 \n",
      "[CV]  max_depth=None, max_features=auto, min_samples_leaf=4, min_samples_split=4, n_estimators=200, total=   0.5s\n",
      "[CV] max_depth=None, max_features=auto, min_samples_leaf=4, min_samples_split=4, n_estimators=200 \n",
      "[CV]  max_depth=None, max_features=auto, min_samples_leaf=4, min_samples_split=4, n_estimators=200, total=   0.5s\n",
      "[CV] max_depth=None, max_features=auto, min_samples_leaf=4, min_samples_split=4, n_estimators=500 \n",
      "[CV]  max_depth=None, max_features=auto, min_samples_leaf=4, min_samples_split=4, n_estimators=500, total=   1.3s\n",
      "[CV] max_depth=None, max_features=auto, min_samples_leaf=4, min_samples_split=4, n_estimators=500 \n",
      "[CV]  max_depth=None, max_features=auto, min_samples_leaf=4, min_samples_split=4, n_estimators=500, total=   1.3s\n",
      "[CV] max_depth=None, max_features=auto, min_samples_leaf=4, min_samples_split=4, n_estimators=500 \n",
      "[CV]  max_depth=None, max_features=auto, min_samples_leaf=4, min_samples_split=4, n_estimators=500, total=   1.3s\n",
      "[CV] max_depth=None, max_features=auto, min_samples_leaf=4, min_samples_split=4, n_estimators=500 \n",
      "[CV]  max_depth=None, max_features=auto, min_samples_leaf=4, min_samples_split=4, n_estimators=500, total=   1.2s\n",
      "[CV] max_depth=None, max_features=auto, min_samples_leaf=4, min_samples_split=4, n_estimators=500 \n"
     ]
    },
    {
     "name": "stdout",
     "output_type": "stream",
     "text": [
      "[CV]  max_depth=None, max_features=auto, min_samples_leaf=4, min_samples_split=4, n_estimators=500, total=   1.3s\n",
      "[CV] max_depth=10, max_features=auto, min_samples_leaf=2, min_samples_split=2, n_estimators=50 \n",
      "[CV]  max_depth=10, max_features=auto, min_samples_leaf=2, min_samples_split=2, n_estimators=50, total=   0.1s\n",
      "[CV] max_depth=10, max_features=auto, min_samples_leaf=2, min_samples_split=2, n_estimators=50 \n",
      "[CV]  max_depth=10, max_features=auto, min_samples_leaf=2, min_samples_split=2, n_estimators=50, total=   0.1s\n",
      "[CV] max_depth=10, max_features=auto, min_samples_leaf=2, min_samples_split=2, n_estimators=50 \n",
      "[CV]  max_depth=10, max_features=auto, min_samples_leaf=2, min_samples_split=2, n_estimators=50, total=   0.1s\n",
      "[CV] max_depth=10, max_features=auto, min_samples_leaf=2, min_samples_split=2, n_estimators=50 \n",
      "[CV]  max_depth=10, max_features=auto, min_samples_leaf=2, min_samples_split=2, n_estimators=50, total=   0.1s\n",
      "[CV] max_depth=10, max_features=auto, min_samples_leaf=2, min_samples_split=2, n_estimators=50 \n",
      "[CV]  max_depth=10, max_features=auto, min_samples_leaf=2, min_samples_split=2, n_estimators=50, total=   0.1s\n",
      "[CV] max_depth=10, max_features=auto, min_samples_leaf=2, min_samples_split=2, n_estimators=100 \n",
      "[CV]  max_depth=10, max_features=auto, min_samples_leaf=2, min_samples_split=2, n_estimators=100, total=   0.2s\n",
      "[CV] max_depth=10, max_features=auto, min_samples_leaf=2, min_samples_split=2, n_estimators=100 \n",
      "[CV]  max_depth=10, max_features=auto, min_samples_leaf=2, min_samples_split=2, n_estimators=100, total=   0.2s\n",
      "[CV] max_depth=10, max_features=auto, min_samples_leaf=2, min_samples_split=2, n_estimators=100 \n",
      "[CV]  max_depth=10, max_features=auto, min_samples_leaf=2, min_samples_split=2, n_estimators=100, total=   0.4s\n",
      "[CV] max_depth=10, max_features=auto, min_samples_leaf=2, min_samples_split=2, n_estimators=100 \n",
      "[CV]  max_depth=10, max_features=auto, min_samples_leaf=2, min_samples_split=2, n_estimators=100, total=   0.4s\n",
      "[CV] max_depth=10, max_features=auto, min_samples_leaf=2, min_samples_split=2, n_estimators=100 \n",
      "[CV]  max_depth=10, max_features=auto, min_samples_leaf=2, min_samples_split=2, n_estimators=100, total=   0.4s\n",
      "[CV] max_depth=10, max_features=auto, min_samples_leaf=2, min_samples_split=2, n_estimators=200 \n",
      "[CV]  max_depth=10, max_features=auto, min_samples_leaf=2, min_samples_split=2, n_estimators=200, total=   0.6s\n",
      "[CV] max_depth=10, max_features=auto, min_samples_leaf=2, min_samples_split=2, n_estimators=200 \n",
      "[CV]  max_depth=10, max_features=auto, min_samples_leaf=2, min_samples_split=2, n_estimators=200, total=   0.5s\n",
      "[CV] max_depth=10, max_features=auto, min_samples_leaf=2, min_samples_split=2, n_estimators=200 \n",
      "[CV]  max_depth=10, max_features=auto, min_samples_leaf=2, min_samples_split=2, n_estimators=200, total=   0.5s\n",
      "[CV] max_depth=10, max_features=auto, min_samples_leaf=2, min_samples_split=2, n_estimators=200 \n",
      "[CV]  max_depth=10, max_features=auto, min_samples_leaf=2, min_samples_split=2, n_estimators=200, total=   0.6s\n",
      "[CV] max_depth=10, max_features=auto, min_samples_leaf=2, min_samples_split=2, n_estimators=200 \n",
      "[CV]  max_depth=10, max_features=auto, min_samples_leaf=2, min_samples_split=2, n_estimators=200, total=   0.5s\n",
      "[CV] max_depth=10, max_features=auto, min_samples_leaf=2, min_samples_split=2, n_estimators=500 \n",
      "[CV]  max_depth=10, max_features=auto, min_samples_leaf=2, min_samples_split=2, n_estimators=500, total=   1.2s\n",
      "[CV] max_depth=10, max_features=auto, min_samples_leaf=2, min_samples_split=2, n_estimators=500 \n",
      "[CV]  max_depth=10, max_features=auto, min_samples_leaf=2, min_samples_split=2, n_estimators=500, total=   1.0s\n",
      "[CV] max_depth=10, max_features=auto, min_samples_leaf=2, min_samples_split=2, n_estimators=500 \n",
      "[CV]  max_depth=10, max_features=auto, min_samples_leaf=2, min_samples_split=2, n_estimators=500, total=   1.0s\n",
      "[CV] max_depth=10, max_features=auto, min_samples_leaf=2, min_samples_split=2, n_estimators=500 \n",
      "[CV]  max_depth=10, max_features=auto, min_samples_leaf=2, min_samples_split=2, n_estimators=500, total=   1.1s\n",
      "[CV] max_depth=10, max_features=auto, min_samples_leaf=2, min_samples_split=2, n_estimators=500 \n",
      "[CV]  max_depth=10, max_features=auto, min_samples_leaf=2, min_samples_split=2, n_estimators=500, total=   1.1s\n",
      "[CV] max_depth=10, max_features=auto, min_samples_leaf=2, min_samples_split=4, n_estimators=50 \n",
      "[CV]  max_depth=10, max_features=auto, min_samples_leaf=2, min_samples_split=4, n_estimators=50, total=   0.1s\n",
      "[CV] max_depth=10, max_features=auto, min_samples_leaf=2, min_samples_split=4, n_estimators=50 \n",
      "[CV]  max_depth=10, max_features=auto, min_samples_leaf=2, min_samples_split=4, n_estimators=50, total=   0.2s\n",
      "[CV] max_depth=10, max_features=auto, min_samples_leaf=2, min_samples_split=4, n_estimators=50 \n",
      "[CV]  max_depth=10, max_features=auto, min_samples_leaf=2, min_samples_split=4, n_estimators=50, total=   0.1s\n",
      "[CV] max_depth=10, max_features=auto, min_samples_leaf=2, min_samples_split=4, n_estimators=50 \n",
      "[CV]  max_depth=10, max_features=auto, min_samples_leaf=2, min_samples_split=4, n_estimators=50, total=   0.1s\n",
      "[CV] max_depth=10, max_features=auto, min_samples_leaf=2, min_samples_split=4, n_estimators=50 \n",
      "[CV]  max_depth=10, max_features=auto, min_samples_leaf=2, min_samples_split=4, n_estimators=50, total=   0.1s\n",
      "[CV] max_depth=10, max_features=auto, min_samples_leaf=2, min_samples_split=4, n_estimators=100 \n",
      "[CV]  max_depth=10, max_features=auto, min_samples_leaf=2, min_samples_split=4, n_estimators=100, total=   0.2s\n",
      "[CV] max_depth=10, max_features=auto, min_samples_leaf=2, min_samples_split=4, n_estimators=100 \n",
      "[CV]  max_depth=10, max_features=auto, min_samples_leaf=2, min_samples_split=4, n_estimators=100, total=   0.2s\n",
      "[CV] max_depth=10, max_features=auto, min_samples_leaf=2, min_samples_split=4, n_estimators=100 \n",
      "[CV]  max_depth=10, max_features=auto, min_samples_leaf=2, min_samples_split=4, n_estimators=100, total=   0.2s\n",
      "[CV] max_depth=10, max_features=auto, min_samples_leaf=2, min_samples_split=4, n_estimators=100 \n",
      "[CV]  max_depth=10, max_features=auto, min_samples_leaf=2, min_samples_split=4, n_estimators=100, total=   0.2s\n",
      "[CV] max_depth=10, max_features=auto, min_samples_leaf=2, min_samples_split=4, n_estimators=100 \n",
      "[CV]  max_depth=10, max_features=auto, min_samples_leaf=2, min_samples_split=4, n_estimators=100, total=   0.2s\n",
      "[CV] max_depth=10, max_features=auto, min_samples_leaf=2, min_samples_split=4, n_estimators=200 \n",
      "[CV]  max_depth=10, max_features=auto, min_samples_leaf=2, min_samples_split=4, n_estimators=200, total=   0.4s\n",
      "[CV] max_depth=10, max_features=auto, min_samples_leaf=2, min_samples_split=4, n_estimators=200 \n",
      "[CV]  max_depth=10, max_features=auto, min_samples_leaf=2, min_samples_split=4, n_estimators=200, total=   0.4s\n",
      "[CV] max_depth=10, max_features=auto, min_samples_leaf=2, min_samples_split=4, n_estimators=200 \n",
      "[CV]  max_depth=10, max_features=auto, min_samples_leaf=2, min_samples_split=4, n_estimators=200, total=   0.5s\n",
      "[CV] max_depth=10, max_features=auto, min_samples_leaf=2, min_samples_split=4, n_estimators=200 \n",
      "[CV]  max_depth=10, max_features=auto, min_samples_leaf=2, min_samples_split=4, n_estimators=200, total=   0.4s\n",
      "[CV] max_depth=10, max_features=auto, min_samples_leaf=2, min_samples_split=4, n_estimators=200 \n",
      "[CV]  max_depth=10, max_features=auto, min_samples_leaf=2, min_samples_split=4, n_estimators=200, total=   0.4s\n",
      "[CV] max_depth=10, max_features=auto, min_samples_leaf=2, min_samples_split=4, n_estimators=500 \n",
      "[CV]  max_depth=10, max_features=auto, min_samples_leaf=2, min_samples_split=4, n_estimators=500, total=   1.3s\n",
      "[CV] max_depth=10, max_features=auto, min_samples_leaf=2, min_samples_split=4, n_estimators=500 \n",
      "[CV]  max_depth=10, max_features=auto, min_samples_leaf=2, min_samples_split=4, n_estimators=500, total=   1.3s\n",
      "[CV] max_depth=10, max_features=auto, min_samples_leaf=2, min_samples_split=4, n_estimators=500 \n",
      "[CV]  max_depth=10, max_features=auto, min_samples_leaf=2, min_samples_split=4, n_estimators=500, total=   1.1s\n",
      "[CV] max_depth=10, max_features=auto, min_samples_leaf=2, min_samples_split=4, n_estimators=500 \n",
      "[CV]  max_depth=10, max_features=auto, min_samples_leaf=2, min_samples_split=4, n_estimators=500, total=   1.1s\n",
      "[CV] max_depth=10, max_features=auto, min_samples_leaf=2, min_samples_split=4, n_estimators=500 \n"
     ]
    },
    {
     "name": "stdout",
     "output_type": "stream",
     "text": [
      "[CV]  max_depth=10, max_features=auto, min_samples_leaf=2, min_samples_split=4, n_estimators=500, total=   1.4s\n",
      "[CV] max_depth=10, max_features=auto, min_samples_leaf=4, min_samples_split=2, n_estimators=50 \n",
      "[CV]  max_depth=10, max_features=auto, min_samples_leaf=4, min_samples_split=2, n_estimators=50, total=   0.1s\n",
      "[CV] max_depth=10, max_features=auto, min_samples_leaf=4, min_samples_split=2, n_estimators=50 \n",
      "[CV]  max_depth=10, max_features=auto, min_samples_leaf=4, min_samples_split=2, n_estimators=50, total=   0.1s\n",
      "[CV] max_depth=10, max_features=auto, min_samples_leaf=4, min_samples_split=2, n_estimators=50 \n",
      "[CV]  max_depth=10, max_features=auto, min_samples_leaf=4, min_samples_split=2, n_estimators=50, total=   0.1s\n",
      "[CV] max_depth=10, max_features=auto, min_samples_leaf=4, min_samples_split=2, n_estimators=50 \n",
      "[CV]  max_depth=10, max_features=auto, min_samples_leaf=4, min_samples_split=2, n_estimators=50, total=   0.1s\n",
      "[CV] max_depth=10, max_features=auto, min_samples_leaf=4, min_samples_split=2, n_estimators=50 \n",
      "[CV]  max_depth=10, max_features=auto, min_samples_leaf=4, min_samples_split=2, n_estimators=50, total=   0.1s\n",
      "[CV] max_depth=10, max_features=auto, min_samples_leaf=4, min_samples_split=2, n_estimators=100 \n",
      "[CV]  max_depth=10, max_features=auto, min_samples_leaf=4, min_samples_split=2, n_estimators=100, total=   0.2s\n",
      "[CV] max_depth=10, max_features=auto, min_samples_leaf=4, min_samples_split=2, n_estimators=100 \n",
      "[CV]  max_depth=10, max_features=auto, min_samples_leaf=4, min_samples_split=2, n_estimators=100, total=   0.2s\n",
      "[CV] max_depth=10, max_features=auto, min_samples_leaf=4, min_samples_split=2, n_estimators=100 \n",
      "[CV]  max_depth=10, max_features=auto, min_samples_leaf=4, min_samples_split=2, n_estimators=100, total=   0.2s\n",
      "[CV] max_depth=10, max_features=auto, min_samples_leaf=4, min_samples_split=2, n_estimators=100 \n",
      "[CV]  max_depth=10, max_features=auto, min_samples_leaf=4, min_samples_split=2, n_estimators=100, total=   0.2s\n",
      "[CV] max_depth=10, max_features=auto, min_samples_leaf=4, min_samples_split=2, n_estimators=100 \n",
      "[CV]  max_depth=10, max_features=auto, min_samples_leaf=4, min_samples_split=2, n_estimators=100, total=   0.2s\n",
      "[CV] max_depth=10, max_features=auto, min_samples_leaf=4, min_samples_split=2, n_estimators=200 \n",
      "[CV]  max_depth=10, max_features=auto, min_samples_leaf=4, min_samples_split=2, n_estimators=200, total=   0.4s\n",
      "[CV] max_depth=10, max_features=auto, min_samples_leaf=4, min_samples_split=2, n_estimators=200 \n",
      "[CV]  max_depth=10, max_features=auto, min_samples_leaf=4, min_samples_split=2, n_estimators=200, total=   0.4s\n",
      "[CV] max_depth=10, max_features=auto, min_samples_leaf=4, min_samples_split=2, n_estimators=200 \n",
      "[CV]  max_depth=10, max_features=auto, min_samples_leaf=4, min_samples_split=2, n_estimators=200, total=   0.3s\n",
      "[CV] max_depth=10, max_features=auto, min_samples_leaf=4, min_samples_split=2, n_estimators=200 \n",
      "[CV]  max_depth=10, max_features=auto, min_samples_leaf=4, min_samples_split=2, n_estimators=200, total=   0.5s\n",
      "[CV] max_depth=10, max_features=auto, min_samples_leaf=4, min_samples_split=2, n_estimators=200 \n",
      "[CV]  max_depth=10, max_features=auto, min_samples_leaf=4, min_samples_split=2, n_estimators=200, total=   0.7s\n",
      "[CV] max_depth=10, max_features=auto, min_samples_leaf=4, min_samples_split=2, n_estimators=500 \n",
      "[CV]  max_depth=10, max_features=auto, min_samples_leaf=4, min_samples_split=2, n_estimators=500, total=   1.6s\n",
      "[CV] max_depth=10, max_features=auto, min_samples_leaf=4, min_samples_split=2, n_estimators=500 \n",
      "[CV]  max_depth=10, max_features=auto, min_samples_leaf=4, min_samples_split=2, n_estimators=500, total=   1.4s\n",
      "[CV] max_depth=10, max_features=auto, min_samples_leaf=4, min_samples_split=2, n_estimators=500 \n",
      "[CV]  max_depth=10, max_features=auto, min_samples_leaf=4, min_samples_split=2, n_estimators=500, total=   1.3s\n",
      "[CV] max_depth=10, max_features=auto, min_samples_leaf=4, min_samples_split=2, n_estimators=500 \n",
      "[CV]  max_depth=10, max_features=auto, min_samples_leaf=4, min_samples_split=2, n_estimators=500, total=   1.3s\n",
      "[CV] max_depth=10, max_features=auto, min_samples_leaf=4, min_samples_split=2, n_estimators=500 \n",
      "[CV]  max_depth=10, max_features=auto, min_samples_leaf=4, min_samples_split=2, n_estimators=500, total=   1.5s\n",
      "[CV] max_depth=10, max_features=auto, min_samples_leaf=4, min_samples_split=4, n_estimators=50 \n",
      "[CV]  max_depth=10, max_features=auto, min_samples_leaf=4, min_samples_split=4, n_estimators=50, total=   0.2s\n",
      "[CV] max_depth=10, max_features=auto, min_samples_leaf=4, min_samples_split=4, n_estimators=50 \n",
      "[CV]  max_depth=10, max_features=auto, min_samples_leaf=4, min_samples_split=4, n_estimators=50, total=   0.2s\n",
      "[CV] max_depth=10, max_features=auto, min_samples_leaf=4, min_samples_split=4, n_estimators=50 \n",
      "[CV]  max_depth=10, max_features=auto, min_samples_leaf=4, min_samples_split=4, n_estimators=50, total=   0.2s\n",
      "[CV] max_depth=10, max_features=auto, min_samples_leaf=4, min_samples_split=4, n_estimators=50 \n",
      "[CV]  max_depth=10, max_features=auto, min_samples_leaf=4, min_samples_split=4, n_estimators=50, total=   0.1s\n",
      "[CV] max_depth=10, max_features=auto, min_samples_leaf=4, min_samples_split=4, n_estimators=50 \n",
      "[CV]  max_depth=10, max_features=auto, min_samples_leaf=4, min_samples_split=4, n_estimators=50, total=   0.1s\n",
      "[CV] max_depth=10, max_features=auto, min_samples_leaf=4, min_samples_split=4, n_estimators=100 \n",
      "[CV]  max_depth=10, max_features=auto, min_samples_leaf=4, min_samples_split=4, n_estimators=100, total=   0.2s\n",
      "[CV] max_depth=10, max_features=auto, min_samples_leaf=4, min_samples_split=4, n_estimators=100 \n",
      "[CV]  max_depth=10, max_features=auto, min_samples_leaf=4, min_samples_split=4, n_estimators=100, total=   0.2s\n",
      "[CV] max_depth=10, max_features=auto, min_samples_leaf=4, min_samples_split=4, n_estimators=100 \n",
      "[CV]  max_depth=10, max_features=auto, min_samples_leaf=4, min_samples_split=4, n_estimators=100, total=   0.2s\n",
      "[CV] max_depth=10, max_features=auto, min_samples_leaf=4, min_samples_split=4, n_estimators=100 \n",
      "[CV]  max_depth=10, max_features=auto, min_samples_leaf=4, min_samples_split=4, n_estimators=100, total=   0.2s\n",
      "[CV] max_depth=10, max_features=auto, min_samples_leaf=4, min_samples_split=4, n_estimators=100 \n",
      "[CV]  max_depth=10, max_features=auto, min_samples_leaf=4, min_samples_split=4, n_estimators=100, total=   0.2s\n",
      "[CV] max_depth=10, max_features=auto, min_samples_leaf=4, min_samples_split=4, n_estimators=200 \n",
      "[CV]  max_depth=10, max_features=auto, min_samples_leaf=4, min_samples_split=4, n_estimators=200, total=   0.5s\n",
      "[CV] max_depth=10, max_features=auto, min_samples_leaf=4, min_samples_split=4, n_estimators=200 \n",
      "[CV]  max_depth=10, max_features=auto, min_samples_leaf=4, min_samples_split=4, n_estimators=200, total=   0.5s\n",
      "[CV] max_depth=10, max_features=auto, min_samples_leaf=4, min_samples_split=4, n_estimators=200 \n",
      "[CV]  max_depth=10, max_features=auto, min_samples_leaf=4, min_samples_split=4, n_estimators=200, total=   0.6s\n",
      "[CV] max_depth=10, max_features=auto, min_samples_leaf=4, min_samples_split=4, n_estimators=200 \n",
      "[CV]  max_depth=10, max_features=auto, min_samples_leaf=4, min_samples_split=4, n_estimators=200, total=   0.4s\n",
      "[CV] max_depth=10, max_features=auto, min_samples_leaf=4, min_samples_split=4, n_estimators=200 \n",
      "[CV]  max_depth=10, max_features=auto, min_samples_leaf=4, min_samples_split=4, n_estimators=200, total=   0.4s\n",
      "[CV] max_depth=10, max_features=auto, min_samples_leaf=4, min_samples_split=4, n_estimators=500 \n",
      "[CV]  max_depth=10, max_features=auto, min_samples_leaf=4, min_samples_split=4, n_estimators=500, total=   1.6s\n",
      "[CV] max_depth=10, max_features=auto, min_samples_leaf=4, min_samples_split=4, n_estimators=500 \n",
      "[CV]  max_depth=10, max_features=auto, min_samples_leaf=4, min_samples_split=4, n_estimators=500, total=   1.7s\n",
      "[CV] max_depth=10, max_features=auto, min_samples_leaf=4, min_samples_split=4, n_estimators=500 \n",
      "[CV]  max_depth=10, max_features=auto, min_samples_leaf=4, min_samples_split=4, n_estimators=500, total=   1.1s\n",
      "[CV] max_depth=10, max_features=auto, min_samples_leaf=4, min_samples_split=4, n_estimators=500 \n",
      "[CV]  max_depth=10, max_features=auto, min_samples_leaf=4, min_samples_split=4, n_estimators=500, total=   1.2s\n",
      "[CV] max_depth=10, max_features=auto, min_samples_leaf=4, min_samples_split=4, n_estimators=500 \n"
     ]
    },
    {
     "name": "stdout",
     "output_type": "stream",
     "text": [
      "[CV]  max_depth=10, max_features=auto, min_samples_leaf=4, min_samples_split=4, n_estimators=500, total=   1.1s\n"
     ]
    },
    {
     "name": "stderr",
     "output_type": "stream",
     "text": [
      "[Parallel(n_jobs=1)]: Done 160 out of 160 | elapsed:  1.5min finished\n"
     ]
    },
    {
     "data": {
      "text/plain": [
       "GridSearchCV(cv=5, estimator=RandomForestClassifier(n_jobs=1),\n",
       "             param_grid={'max_depth': [None, 10], 'max_features': ['auto'],\n",
       "                         'min_samples_leaf': [2, 4],\n",
       "                         'min_samples_split': [2, 4],\n",
       "                         'n_estimators': [50, 100, 200, 500]},\n",
       "             verbose=2)"
      ]
     },
     "execution_count": 14,
     "metadata": {},
     "output_type": "execute_result"
    }
   ],
   "source": [
    "gs_clf.fit(x_train,y_train)"
   ]
  },
  {
   "cell_type": "code",
   "execution_count": 15,
   "metadata": {},
   "outputs": [
    {
     "data": {
      "text/plain": [
       "{'max_depth': 10,\n",
       " 'max_features': 'auto',\n",
       " 'min_samples_leaf': 4,\n",
       " 'min_samples_split': 4,\n",
       " 'n_estimators': 500}"
      ]
     },
     "execution_count": 15,
     "metadata": {},
     "output_type": "execute_result"
    }
   ],
   "source": [
    "gs_clf.best_params_"
   ]
  },
  {
   "cell_type": "code",
   "execution_count": 16,
   "metadata": {},
   "outputs": [
    {
     "name": "stdout",
     "output_type": "stream",
     "text": [
      "accuracy : 0.87\n",
      "precision : 0.89\n",
      "recall : 0.89\n",
      "f1 : 0.89\n"
     ]
    }
   ],
   "source": [
    "# Making predictions \n",
    "y_preds = gs_clf.predict(x_test)\n",
    "# Evaluate model\n",
    "gs_metrics = evaluate_def(y_test, y_preds)"
   ]
  },
  {
   "cell_type": "markdown",
   "metadata": {},
   "source": [
    "### Let's compare metrics"
   ]
  },
  {
   "cell_type": "code",
   "execution_count": 29,
   "metadata": {
    "scrolled": true
   },
   "outputs": [
    {
     "data": {
      "text/plain": [
       "<AxesSubplot:>"
      ]
     },
     "execution_count": 29,
     "metadata": {},
     "output_type": "execute_result"
    },
    {
     "data": {
      "image/png": "[encoded data removed]",
      "text/plain": [
       "<Figure size 864x576 with 1 Axes>"
      ]
     },
     "metadata": {},
     "output_type": "display_data"
    }
   ],
   "source": [
    "import matplotlib.pyplot as plt \n",
    "import seaborn as sns\n",
    "sns.set()\n",
    "\n",
    "compare_metrics = pd.DataFrame({\"baseline\" : baseline_metrics,\n",
    "                                \"clf_2\" : clf2_metrics,\n",
    "                                \"rs_metrics\" : rs_metrics,\n",
    "                                \"gs_metrics\" : gs_metrics\n",
    "                               })\n",
    "compare_metrics.plot.bar(figsize=(12,8))\n"
   ]
  },
  {
   "cell_type": "markdown",
   "metadata": {},
   "source": [
    "## Save and load model"
   ]
  },
  {
   "cell_type": "markdown",
   "metadata": {},
   "source": [
    "## Pickle"
   ]
  },
  {
   "cell_type": "code",
   "execution_count": 19,
   "metadata": {},
   "outputs": [],
   "source": [
    "import pickle "
   ]
  },
  {
   "cell_type": "markdown",
   "metadata": {},
   "source": [
    "### save model"
   ]
  },
  {
   "cell_type": "code",
   "execution_count": 20,
   "metadata": {},
   "outputs": [],
   "source": [
    "with open(\"gs_random_forest_model.pk1\",\"wb\") as file : # .pkl stands for pickle file \n",
    "    pickle.dump(gs_clf, file)"
   ]
  },
  {
   "cell_type": "markdown",
   "metadata": {},
   "source": [
    "### load model"
   ]
  },
  {
   "cell_type": "code",
   "execution_count": 25,
   "metadata": {},
   "outputs": [],
   "source": [
    "with open(\"gs_random_forest_model.pk1\",\"rb\") as file : \n",
    "    pickle_load_model = pickle.load(file)"
   ]
  },
  {
   "cell_type": "code",
   "execution_count": 26,
   "metadata": {
    "scrolled": true
   },
   "outputs": [
    {
     "data": {
      "text/plain": [
       "GridSearchCV(cv=5, estimator=RandomForestClassifier(n_jobs=1),\n",
       "             param_grid={'max_depth': [None, 10], 'max_features': ['auto'],\n",
       "                         'min_samples_leaf': [2, 4],\n",
       "                         'min_samples_split': [2, 4],\n",
       "                         'n_estimators': [50, 100, 200, 500]},\n",
       "             verbose=2)"
      ]
     },
     "execution_count": 26,
     "metadata": {},
     "output_type": "execute_result"
    }
   ],
   "source": [
    "pickle_load_model"
   ]
  },
  {
   "cell_type": "markdown",
   "metadata": {},
   "source": [
    "## Joblib"
   ]
  },
  {
   "cell_type": "markdown",
   "metadata": {},
   "source": [
    "In the specific case of scikit-learn, it may be better to use joblib’s replacement of pickle (dump & load), which is more efficient on objects that carry large numpy arrays internally as is often the case for fitted scikit-learn estimators, but can only pickle to the disk and not to a string:"
   ]
  },
  {
   "cell_type": "code",
   "execution_count": 30,
   "metadata": {},
   "outputs": [],
   "source": [
    "from joblib import dump, load"
   ]
  },
  {
   "cell_type": "code",
   "execution_count": 32,
   "metadata": {},
   "outputs": [
    {
     "data": {
      "text/plain": [
       "['gs_random_forest_model.joblib']"
      ]
     },
     "execution_count": 32,
     "metadata": {},
     "output_type": "execute_result"
    }
   ],
   "source": [
    "# Save model to file \n",
    "dump(gs_clf,\"gs_random_forest_model.joblib\")"
   ]
  },
  {
   "cell_type": "code",
   "execution_count": 34,
   "metadata": {},
   "outputs": [],
   "source": [
    "# Import a saved joblib model \n",
    "load_job_model = load(\"gs_random_forest_model.joblib\")"
   ]
  },
  {
   "cell_type": "code",
   "execution_count": 36,
   "metadata": {},
   "outputs": [
    {
     "data": {
      "text/plain": [
       "GridSearchCV(cv=5, estimator=RandomForestClassifier(n_jobs=1),\n",
       "             param_grid={'max_depth': [None, 10], 'max_features': ['auto'],\n",
       "                         'min_samples_leaf': [2, 4],\n",
       "                         'min_samples_split': [2, 4],\n",
       "                         'n_estimators': [50, 100, 200, 500]},\n",
       "             verbose=2)"
      ]
     },
     "execution_count": 36,
     "metadata": {},
     "output_type": "execute_result"
    }
   ],
   "source": [
    "load_job_model"
   ]
  },
  {
   "cell_type": "code",
   "execution_count": 39,
   "metadata": {},
   "outputs": [
    {
     "name": "stdout",
     "output_type": "stream",
     "text": [
      "accuracy : 0.87\n",
      "precision : 0.89\n",
      "recall : 0.89\n",
      "f1 : 0.89\n"
     ]
    },
    {
     "data": {
      "text/plain": [
       "{'accuracy': 0.87, 'precision': 0.89, 'recall': 0.89, 'f1': 0.89}"
      ]
     },
     "execution_count": 39,
     "metadata": {},
     "output_type": "execute_result"
    }
   ],
   "source": [
    "# Make prediction and evaluate model\n",
    "y_preds = load_job_model.predict(x_test)\n",
    "\n",
    "evaluate_def(y_test, y_preds) # the same at previous section"
   ]
  }
 ],
 "metadata": {
  "kernelspec": {
   "display_name": "Python 3",
   "language": "python",
   "name": "python3"
  },
  "language_info": {
   "codemirror_mode": {
    "name": "ipython",
    "version": 3
   },
   "file_extension": ".py",
   "mimetype": "text/x-python",
   "name": "python",
   "nbconvert_exporter": "python",
   "pygments_lexer": "ipython3",
   "version": "3.6.9"
  }
 },
 "nbformat": 4,
 "nbformat_minor": 4
}
